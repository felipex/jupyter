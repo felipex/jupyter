{
 "cells": [
  {
   "cell_type": "code",
   "execution_count": 1,
   "id": "530999f8-a601-4411-ba8e-2bb328601c75",
   "metadata": {
    "slideshow": {
     "slide_type": "slide"
    }
   },
   "outputs": [],
   "source": [
    "from pythreejs import *\n",
    "import ipywidgets\n",
    "from IPython.display import display"
   ]
  },
  {
   "cell_type": "code",
   "execution_count": 2,
   "id": "cb254f70",
   "metadata": {
    "slideshow": {
     "slide_type": "slide"
    }
   },
   "outputs": [],
   "source": [
    "view_width = 600\n",
    "view_height = 400"
   ]
  },
  {
   "cell_type": "code",
   "execution_count": 3,
   "id": "11271abb",
   "metadata": {},
   "outputs": [],
   "source": [
    "sphere = Mesh(\n",
    "    SphereBufferGeometry(1, 32, 16),\n",
    "    MeshStandardMaterial(color='red')\n",
    ")"
   ]
  },
  {
   "cell_type": "code",
   "execution_count": 4,
   "id": "b6f66305",
   "metadata": {},
   "outputs": [],
   "source": [
    "cube = Mesh(\n",
    "    BoxBufferGeometry(1, 1, 1),\n",
    "    MeshPhysicalMaterial(color='green'),\n",
    "    position=[2, 0, 4]\n",
    ")"
   ]
  },
  {
   "cell_type": "code",
   "execution_count": 5,
   "id": "af91c6e9",
   "metadata": {},
   "outputs": [],
   "source": [
    "camera = PerspectiveCamera( position=[10, 6, 10], aspect=view_width/view_height)\n",
    "key_light = DirectionalLight(position=[0, 10, 10])\n",
    "ambient_light = AmbientLight()"
   ]
  },
  {
   "cell_type": "code",
   "execution_count": 6,
   "id": "1bc9ef8a",
   "metadata": {},
   "outputs": [],
   "source": [
    "positon_track = VectorKeyframeTrack(name='.position',\n",
    "    times=[0, 2, 5],\n",
    "    values=[10, 6, 10,\n",
    "            6.3, 3.78, 6.3,\n",
    "            -2.98, 0.84, 9.2,\n",
    "           ])\n",
    "rotation_track = QuaternionKeyframeTrack(name='.quaternion',\n",
    "    times=[0, 2, 5],\n",
    "    values=[-0.184, 0.375, 0.0762, 0.905,\n",
    "            -0.184, 0.375, 0.0762, 0.905,\n",
    "            -0.0430, -0.156, -0.00681, 0.987,\n",
    "           ])"
   ]
  },
  {
   "cell_type": "code",
   "execution_count": 8,
   "id": "52c86f05",
   "metadata": {},
   "outputs": [],
   "source": [
    "camera_clip = AnimationClip(tracks=[positon_track, rotation_track])\n",
    "camera_action = AnimationAction(AnimationMixer(camera), camera_clip, camera)"
   ]
  },
  {
   "cell_type": "code",
   "execution_count": 9,
   "id": "41bce2b2",
   "metadata": {},
   "outputs": [],
   "source": [
    "scene = Scene(children=[sphere, cube, camera, key_light, ambient_light])\n",
    "controller = OrbitControls(controlling=camera)\n",
    "renderer = Renderer(camera=camera, scene=scene, controls=[controller],\n",
    "                    width=view_width, height=view_height)"
   ]
  },
  {
   "cell_type": "code",
   "execution_count": 10,
   "id": "e8df86e1",
   "metadata": {
    "slideshow": {
     "slide_type": "-"
    }
   },
   "outputs": [
    {
     "data": {
      "application/vnd.jupyter.widget-view+json": {
       "model_id": "6431f87a311b400bb869c6d5b0cc83ab",
       "version_major": 2,
       "version_minor": 0
      },
      "text/plain": [
       "Renderer(camera=PerspectiveCamera(aspect=1.5, position=(10.0, 6.0, 10.0), projectionMatrix=(1.0, 0.0, 0.0, 0.0…"
      ]
     },
     "metadata": {},
     "output_type": "display_data"
    }
   ],
   "source": [
    "renderer"
   ]
  },
  {
   "cell_type": "code",
   "execution_count": 11,
   "id": "3836e5e7",
   "metadata": {
    "slideshow": {
     "slide_type": "-"
    }
   },
   "outputs": [
    {
     "data": {
      "application/vnd.jupyter.widget-view+json": {
       "model_id": "ba3f82ffc8fd4252b5e726d853e00d0e",
       "version_major": 2,
       "version_minor": 0
      },
      "text/plain": [
       "AnimationAction(clip=AnimationClip(tracks=(VectorKeyframeTrack(name='.position', times=array([0, 2, 5], dtype=…"
      ]
     },
     "metadata": {},
     "output_type": "display_data"
    }
   ],
   "source": [
    "camera_action"
   ]
  },
  {
   "cell_type": "code",
   "execution_count": 12,
   "id": "fe2c7ee0",
   "metadata": {},
   "outputs": [],
   "source": [
    "from pythreejs import *\n",
    "from IPython.display import display\n",
    "from math import pi"
   ]
  },
  {
   "cell_type": "code",
   "execution_count": 13,
   "id": "9cc6c714",
   "metadata": {},
   "outputs": [],
   "source": [
    "\n",
    "\n",
    "# Reduce repo churn for examples with embedded state:\n",
    "from pythreejs._example_helper import use_example_model_ids\n",
    "use_example_model_ids()\n",
    "\n"
   ]
  },
  {
   "cell_type": "code",
   "execution_count": 14,
   "id": "73bef17b",
   "metadata": {},
   "outputs": [
    {
     "data": {
      "application/vnd.jupyter.widget-view+json": {
       "model_id": "pythree_example_model_002",
       "version_major": 2,
       "version_minor": 0
      },
      "text/plain": [
       "Preview(child=BoxGeometry(depth=15.0, depthSegments=15, height=10.0, heightSegments=10, width=5.0, widthSegmen…"
      ]
     },
     "metadata": {},
     "output_type": "display_data"
    }
   ],
   "source": [
    "BoxGeometry(\n",
    "    width=5,\n",
    "    height=10,\n",
    "    depth=15,\n",
    "    widthSegments=5,\n",
    "    heightSegments=10,\n",
    "    depthSegments=15)"
   ]
  },
  {
   "cell_type": "code",
   "execution_count": 15,
   "id": "fe1fce47",
   "metadata": {},
   "outputs": [
    {
     "ename": "SyntaxError",
     "evalue": "invalid syntax (1463464776.py, line 1)",
     "output_type": "error",
     "traceback": [
      "\u001b[0;36m  Input \u001b[0;32mIn [15]\u001b[0;36m\u001b[0m\n\u001b[0;31m    ************\u001b[0m\n\u001b[0m    ^\u001b[0m\n\u001b[0;31mSyntaxError\u001b[0m\u001b[0;31m:\u001b[0m invalid syntax\n"
     ]
    }
   ],
   "source": [
    "************\n"
   ]
  },
  {
   "cell_type": "code",
   "execution_count": 18,
   "id": "08136dc5",
   "metadata": {},
   "outputs": [
    {
     "data": {
      "application/vnd.jupyter.widget-view+json": {
       "model_id": "pythree_example_model_035",
       "version_major": 2,
       "version_minor": 0
      },
      "text/plain": [
       "Renderer(camera=PerspectiveCamera(aspect=1.5, position=(10.0, 6.0, 10.0), projectionMatrix=(1.0, 0.0, 0.0, 0.0…"
      ]
     },
     "metadata": {},
     "output_type": "display_data"
    }
   ],
   "source": [
    "f = \"\"\"\n",
    "function f(origu, origv, out) {\n",
    "    // scale u and v to the ranges I want: [0, 2*pi]\n",
    "    var u = 2*Math.PI*origu;\n",
    "    var v = 2*Math.PI*origv;\n",
    "\n",
    "    var x = Math.sin(u);\n",
    "    var y = Math.cos(v);\n",
    "    var z = Math.cos(u+v);\n",
    "\n",
    "    out.set(x,y,z)\n",
    "}\n",
    "\"\"\"\n",
    "surf_g = ParametricGeometry(func=f, slices=16, stacks=16);\n",
    "\n",
    "surf1 = Mesh(geometry=surf_g,\n",
    "             material=MeshLambertMaterial(color='green', side='FrontSide'))\n",
    "surf2 = Mesh(geometry=surf_g,\n",
    "             material=MeshLambertMaterial(color='yellow', side='BackSide'))\n",
    "surf = Group(children=[surf1, surf2])\n",
    "\n",
    "camera2 = PerspectiveCamera( position=[10, 6, 10], aspect=view_width/view_height)\n",
    "scene2 = Scene(children=[surf, camera2,\n",
    "                         DirectionalLight(position=[3, 5, 1], intensity=0.6),\n",
    "                         AmbientLight(intensity=0.5)])\n",
    "renderer2 = Renderer(camera=camera2, scene=scene2,\n",
    "                     controls=[OrbitControls(controlling=camera2)],\n",
    "                     width=view_width, height=view_height)\n",
    "display(renderer2)"
   ]
  },
  {
   "cell_type": "code",
   "execution_count": 17,
   "id": "2b720186",
   "metadata": {},
   "outputs": [
    {
     "data": {
      "application/vnd.jupyter.widget-view+json": {
       "model_id": "pythree_example_model_022",
       "version_major": 2,
       "version_minor": 0
      },
      "text/plain": [
       "AnimationAction(clip=AnimationClip(tracks=(NumberKeyframeTrack(name='.rotation[y]', times=array([0, 2], dtype=…"
      ]
     },
     "metadata": {},
     "output_type": "display_data"
    }
   ],
   "source": [
    "\n",
    "spin_track = NumberKeyframeTrack(name='.rotation[y]', times=[0, 2], values=[0, 6.28])\n",
    "spin_clip = AnimationClip(tracks=[spin_track])\n",
    "spin_action = AnimationAction(AnimationMixer(surf), spin_clip, surf)\n",
    "spin_action\n",
    "\n"
   ]
  },
  {
   "cell_type": "code",
   "execution_count": null,
   "id": "2fccd0a8",
   "metadata": {},
   "outputs": [],
   "source": []
  }
 ],
 "metadata": {
  "celltoolbar": "Slideshow",
  "kernelspec": {
   "display_name": "Python 3 (ipykernel)",
   "language": "python",
   "name": "python3"
  },
  "language_info": {
   "codemirror_mode": {
    "name": "ipython",
    "version": 3
   },
   "file_extension": ".py",
   "mimetype": "text/x-python",
   "name": "python",
   "nbconvert_exporter": "python",
   "pygments_lexer": "ipython3",
   "version": "3.8.10"
  }
 },
 "nbformat": 4,
 "nbformat_minor": 5
}
