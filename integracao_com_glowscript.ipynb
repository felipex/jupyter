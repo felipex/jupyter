{
 "cells": [
  {
   "cell_type": "code",
   "execution_count": 6,
   "id": "b3f99138",
   "metadata": {},
   "outputs": [],
   "source": [
    "import requests\n",
    "def set_raio(val):\n",
    "  req = requests.patch('https://appex-ufca.firebaseio.com/teste.json', json={\"raio\": val})\n",
    "  #req.close()"
   ]
  },
  {
   "cell_type": "code",
   "execution_count": 7,
   "id": "e00c8d35",
   "metadata": {},
   "outputs": [
    {
     "data": {
      "application/vnd.jupyter.widget-view+json": {
       "model_id": "6a853df6cfad4d089edbacf3005e858e",
       "version_major": 2,
       "version_minor": 0
      },
      "text/plain": [
       "FloatSlider(value=0.05, description='Raio:', max=0.5, min=0.01, readout_format='.1f', step=0.01)"
      ]
     },
     "metadata": {},
     "output_type": "display_data"
    }
   ],
   "source": [
    "import ipywidgets as widgets\n",
    "from IPython.display import display\n",
    "\n",
    "slider = widgets.FloatSlider(\n",
    "    value=0.05,\n",
    "    min=0.01,\n",
    "    max=0.5,\n",
    "    step=0.01,\n",
    "    description='Raio:',\n",
    "    disabled=False,\n",
    "    #continuous_update=False,\n",
    "    orientation='horizontal',\n",
    "    readout=True,\n",
    "    readout_format='.1f',\n",
    ")\n",
    "def update_raio(change):\n",
    "    if change.new:\n",
    "        # Precisei colocar esta condição porque ele parece chamar\n",
    "        # este evento 3 vezes a cada modificação.\n",
    "        if type(change.new) == float:\n",
    "            set_raio(change.new)\n",
    "\n",
    "slider.observe(update_raio)\n",
    "\n",
    "display(slider)"
   ]
  },
  {
   "cell_type": "code",
   "execution_count": 8,
   "id": "802cda3a-57f7-4fa7-8f46-720693d73b8a",
   "metadata": {},
   "outputs": [],
   "source": [
    "from IPython.display import IFrame"
   ]
  },
  {
   "cell_type": "code",
   "execution_count": 9,
   "id": "81937fca-f6d9-462b-9562-f1fc69486837",
   "metadata": {},
   "outputs": [
    {
     "data": {
      "text/html": [
       "\n",
       "        <iframe\n",
       "            width=\"700\"\n",
       "            height=\"1200\"\n",
       "            src=\"https://www.glowscript.org/#/user/felipexcavalcante/folder/Private/program/pendulo\"\n",
       "            frameborder=\"0\"\n",
       "            allowfullscreen\n",
       "            \n",
       "        ></iframe>\n",
       "        "
      ],
      "text/plain": [
       "<IPython.lib.display.IFrame at 0x7f50dc4cf370>"
      ]
     },
     "execution_count": 9,
     "metadata": {},
     "output_type": "execute_result"
    }
   ],
   "source": [
    "IFrame(src=\"https://www.glowscript.org/#/user/felipexcavalcante/folder/Private/program/pendulo\", width=700, height=1200)"
   ]
  },
  {
   "cell_type": "code",
   "execution_count": 10,
   "id": "1a4024e1-19fa-43b8-8fdd-644d40fb3fc8",
   "metadata": {},
   "outputs": [
    {
     "data": {
      "text/html": [
       "<style>div.input {display: none;}</style>"
      ],
      "text/plain": [
       "<IPython.core.display.HTML object>"
      ]
     },
     "metadata": {},
     "output_type": "display_data"
    },
    {
     "data": {
      "application/vnd.jupyter.widget-view+json": {
       "model_id": "edfbc7f30aae455d9a6b96bbe9418baf",
       "version_major": 2,
       "version_minor": 0
      },
      "text/plain": [
       "Checkbox(value=False, description='Sem código')"
      ]
     },
     "metadata": {},
     "output_type": "display_data"
    },
    {
     "data": {
      "application/vnd.jupyter.widget-view+json": {
       "model_id": "405e183406974490a04f50eff026a8d2",
       "version_major": 2,
       "version_minor": 0
      },
      "text/plain": [
       "Output()"
      ]
     },
     "metadata": {},
     "output_type": "display_data"
    }
   ],
   "source": [
    "from IPython.display import HTML\n",
    "box = widgets.Checkbox(False, description='Sem código')\n",
    "out = widgets.Output()\n",
    "\n",
    "\n",
    "@out.capture()\n",
    "def changed(b):\n",
    "    if type(b.new) == bool:\n",
    "        if b.new:\n",
    "            display(HTML(\"<style>div.input {display: none;}</style>\"))\n",
    "        else:\n",
    "            display(HTML(\"<style>div.input {display: block}</style>\"))\n",
    "        \n",
    "\n",
    "box.observe(changed)\n",
    "display(HTML(\"<style>div.input {display: none;}</style>\"))\n",
    "\n",
    "display(box)\n",
    "display(out)"
   ]
  },
  {
   "cell_type": "raw",
   "id": "2e1742c6",
   "metadata": {},
   "source": []
  }
 ],
 "metadata": {
  "kernelspec": {
   "display_name": "Python 3 (ipykernel)",
   "language": "python",
   "name": "python3"
  },
  "language_info": {
   "codemirror_mode": {
    "name": "ipython",
    "version": 3
   },
   "file_extension": ".py",
   "mimetype": "text/x-python",
   "name": "python",
   "nbconvert_exporter": "python",
   "pygments_lexer": "ipython3",
   "version": "3.8.10"
  }
 },
 "nbformat": 4,
 "nbformat_minor": 5
}
