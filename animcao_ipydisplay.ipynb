{
 "cells": [
  {
   "cell_type": "code",
   "execution_count": 2,
   "id": "d24c562e",
   "metadata": {},
   "outputs": [],
   "source": [
    "import ipywidgets as widgets"
   ]
  },
  {
   "cell_type": "code",
   "execution_count": 3,
   "id": "753d4016",
   "metadata": {},
   "outputs": [
    {
     "data": {
      "application/vnd.jupyter.widget-view+json": {
       "model_id": "96a056b5cbd14dd5b6c291854e7e5181",
       "version_major": 2,
       "version_minor": 0
      },
      "text/plain": [
       "HBox(children=(Play(value=50, description='Press play'), IntSlider(value=0)))"
      ]
     },
     "metadata": {},
     "output_type": "display_data"
    }
   ],
   "source": [
    "play = widgets.Play(\n",
    "#     interval=10,\n",
    "    value=50,\n",
    "    min=0,\n",
    "    max=100,\n",
    "    step=1,\n",
    "    description=\"Press play\",\n",
    "    disabled=False\n",
    ")\n",
    "slider = widgets.IntSlider()\n",
    "widgets.jslink((play, 'value'), (slider, 'value'))\n",
    "widgets.HBox([play, slider])"
   ]
  },
  {
   "cell_type": "code",
   "execution_count": null,
   "id": "1d233f8e",
   "metadata": {},
   "outputs": [],
   "source": []
  },
  {
   "cell_type": "code",
   "execution_count": 4,
   "id": "66fcea73",
   "metadata": {},
   "outputs": [
    {
     "name": "stderr",
     "output_type": "stream",
     "text": [
      "Matplotlib is building the font cache; this may take a moment.\n"
     ]
    }
   ],
   "source": [
    "import ipywidgets as widgets\n",
    "import numpy as np\n",
    "from matplotlib import pyplot as plt"
   ]
  },
  {
   "cell_type": "code",
   "execution_count": 6,
   "id": "2012c8ae",
   "metadata": {},
   "outputs": [],
   "source": [
    "x = np.linspace(0, 2*np.pi, 1000)"
   ]
  },
  {
   "cell_type": "markdown",
   "id": "5661a49d",
   "metadata": {},
   "source": [
    "## Basic Animation"
   ]
  },
  {
   "cell_type": "code",
   "execution_count": 23,
   "id": "e6808094",
   "metadata": {},
   "outputs": [],
   "source": [
    "def sine_wave(t=0):\n",
    "    y = np.sin(x+0.1*t)\n",
    "    plt.plot(x, y)\n",
    "    \n",
    "    plt.xlim(0, 2*np.pi)\n",
    "    plt.ylim(-1.5, 1.5)"
   ]
  },
  {
   "cell_type": "code",
   "execution_count": 27,
   "id": "a31a4757",
   "metadata": {},
   "outputs": [],
   "source": [
    "def sine_wave_with_freq(t=0, freq=1):\n",
    "    y = np.sin(freq * (x+0.1*t))\n",
    "    plt.plot(x, y)\n",
    "    \n",
    "    plt.xlim(0, 2*np.pi)\n",
    "    plt.ylim(-1.5, 1.5)"
   ]
  },
  {
   "cell_type": "code",
   "execution_count": 15,
   "id": "967d11fa",
   "metadata": {},
   "outputs": [
    {
     "data": {
      "image/png": "[encoded data removed]",
      "text/plain": [
       "<Figure size 432x288 with 1 Axes>"
      ]
     },
     "metadata": {
      "needs_background": "light"
     },
     "output_type": "display_data"
    }
   ],
   "source": [
    "sine_wave(t=2)"
   ]
  },
  {
   "cell_type": "code",
   "execution_count": 17,
   "id": "5087a9ea",
   "metadata": {},
   "outputs": [
    {
     "data": {
      "application/vnd.jupyter.widget-view+json": {
       "model_id": "6c05e941d1ae4d93937c190b792a9040",
       "version_major": 2,
       "version_minor": 0
      },
      "text/plain": [
       "interactive(children=(IntSlider(value=0, description='t', max=20), Output()), _dom_classes=('widget-interact',…"
      ]
     },
     "metadata": {},
     "output_type": "display_data"
    }
   ],
   "source": [
    "widgets.interact(sine_wave, t=(0, 20, 1));"
   ]
  },
  {
   "cell_type": "code",
   "execution_count": 24,
   "id": "ea3fd1fc",
   "metadata": {},
   "outputs": [
    {
     "data": {
      "application/vnd.jupyter.widget-view+json": {
       "model_id": "5b860fb77d2543649ad2ad06ab2cab89",
       "version_major": 2,
       "version_minor": 0
      },
      "text/plain": [
       "interactive(children=(Play(value=0, description='t', max=20), Output()), _dom_classes=('widget-interact',))"
      ]
     },
     "metadata": {},
     "output_type": "display_data"
    }
   ],
   "source": [
    "widgets.interact(sine_wave, t=widgets.Play(min=0, max=20));"
   ]
  },
  {
   "cell_type": "code",
   "execution_count": 28,
   "id": "3433ca5d",
   "metadata": {},
   "outputs": [
    {
     "data": {
      "application/vnd.jupyter.widget-view+json": {
       "model_id": "a224f282b16b410e96867a0297c99025",
       "version_major": 2,
       "version_minor": 0
      },
      "text/plain": [
       "interactive(children=(Play(value=0, description='t', max=20), FloatSlider(value=1.0, description='freq', max=5…"
      ]
     },
     "metadata": {},
     "output_type": "display_data"
    }
   ],
   "source": [
    "widgets.interact(sine_wave_with_freq, t=widgets.Play(min=0, max=20), freq=(1, 5, 0.5));"
   ]
  },
  {
   "cell_type": "code",
   "execution_count": 34,
   "id": "5951872c",
   "metadata": {},
   "outputs": [],
   "source": [
    "from IPython.display import SVG, display"
   ]
  },
  {
   "cell_type": "code",
   "execution_count": 32,
   "id": "06797733",
   "metadata": {},
   "outputs": [],
   "source": [
    "ssvg = '<svg xmlns=\"http://www.w3.org/2000/svg\"  id=\"Layer_1\" data-name=\"Layer 1\" viewBox=\"0 0 24 24\" width=\"20\" height=\"20\"><path d=\"M20,12a3.994,3.994,0,0,0-3.172,1.566l-.07-.03a5,5,0,0,0-6.009-6.377l-.091-.172A3.995,3.995,0,1,0,8.879,7.9l.073.137a4.992,4.992,0,0,0-1.134,6.7L5.933,16.5a4,4,0,1,0,1.455,1.377l1.838-1.718a4.993,4.993,0,0,0,6.539-.871l.279.119A4,4,0,1,0,20,12ZM6,4A2,2,0,1,1,8,6,2,2,0,0,1,6,4ZM4,22a2,2,0,1,1,2-2A2,2,0,0,1,4,22Zm8-7a3,3,0,0,1-1.6-5.534l.407-.217A3,3,0,1,1,12,15Zm8,3a2,2,0,1,1,2-2A2,2,0,0,1,20,18Z\"/></svg>'"
   ]
  },
  {
   "cell_type": "code",
   "execution_count": 35,
   "id": "7479b669",
   "metadata": {},
   "outputs": [
    {
     "data": {
      "image/svg+xml": [
       "<svg xmlns=\"http://www.w3.org/2000/svg\" id=\"Layer_1\" data-name=\"Layer 1\" viewBox=\"0 0 24 24\" width=\"20\" height=\"20\"><path d=\"M20,12a3.994,3.994,0,0,0-3.172,1.566l-.07-.03a5,5,0,0,0-6.009-6.377l-.091-.172A3.995,3.995,0,1,0,8.879,7.9l.073.137a4.992,4.992,0,0,0-1.134,6.7L5.933,16.5a4,4,0,1,0,1.455,1.377l1.838-1.718a4.993,4.993,0,0,0,6.539-.871l.279.119A4,4,0,1,0,20,12ZM6,4A2,2,0,1,1,8,6,2,2,0,0,1,6,4ZM4,22a2,2,0,1,1,2-2A2,2,0,0,1,4,22Zm8-7a3,3,0,0,1-1.6-5.534l.407-.217A3,3,0,1,1,12,15Zm8,3a2,2,0,1,1,2-2A2,2,0,0,1,20,18Z\"/></svg>"
      ],
      "text/plain": [
       "<IPython.core.display.SVG object>"
      ]
     },
     "metadata": {},
     "output_type": "display_data"
    }
   ],
   "source": [
    "svg = SVG(data=ssvg)\n",
    "display(svg)"
   ]
  },
  {
   "cell_type": "code",
   "execution_count": 38,
   "id": "0c83af4a",
   "metadata": {},
   "outputs": [
    {
     "data": {
      "text/plain": [
       "['__class__',\n",
       " '__delattr__',\n",
       " '__dict__',\n",
       " '__dir__',\n",
       " '__doc__',\n",
       " '__eq__',\n",
       " '__format__',\n",
       " '__ge__',\n",
       " '__getattribute__',\n",
       " '__gt__',\n",
       " '__hash__',\n",
       " '__init__',\n",
       " '__init_subclass__',\n",
       " '__le__',\n",
       " '__lt__',\n",
       " '__module__',\n",
       " '__ne__',\n",
       " '__new__',\n",
       " '__reduce__',\n",
       " '__reduce_ex__',\n",
       " '__repr__',\n",
       " '__setattr__',\n",
       " '__sizeof__',\n",
       " '__str__',\n",
       " '__subclasshook__',\n",
       " '__weakref__',\n",
       " '_check_data',\n",
       " '_data',\n",
       " '_data_and_metadata',\n",
       " '_read_flags',\n",
       " '_repr_svg_',\n",
       " '_show_mem_addr',\n",
       " 'data',\n",
       " 'filename',\n",
       " 'metadata',\n",
       " 'reload',\n",
       " 'url']"
      ]
     },
     "execution_count": 38,
     "metadata": {},
     "output_type": "execute_result"
    }
   ],
   "source": [
    "dir(svg)"
   ]
  },
  {
   "cell_type": "code",
   "execution_count": 40,
   "id": "842565c8",
   "metadata": {},
   "outputs": [
    {
     "data": {
      "text/plain": [
       "{}"
      ]
     },
     "execution_count": 40,
     "metadata": {},
     "output_type": "execute_result"
    }
   ],
   "source": [
    "svg.metadata"
   ]
  },
  {
   "cell_type": "code",
   "execution_count": 93,
   "id": "d2b3db59",
   "metadata": {},
   "outputs": [],
   "source": [
    "scanvas = \"\"\"const canvas = document.getElementById('xxc1');\n",
    "const ctx = canvas.getContext('2d');\n",
    "\n",
    "ctx.fillStyle = 'green';\n",
    "ctx.fillRect(10, 10, 150, 100);\n",
    "\"\"\""
   ]
  },
  {
   "cell_type": "code",
   "execution_count": 44,
   "id": "98a2e150",
   "metadata": {},
   "outputs": [],
   "source": [
    "import IPython.display as dp"
   ]
  },
  {
   "cell_type": "code",
   "execution_count": 45,
   "id": "05b3264d",
   "metadata": {},
   "outputs": [
    {
     "data": {
      "text/plain": [
       "['Audio',\n",
       " 'Code',\n",
       " 'DisplayHandle',\n",
       " 'DisplayObject',\n",
       " 'FileLink',\n",
       " 'FileLinks',\n",
       " 'GeoJSON',\n",
       " 'HTML',\n",
       " 'IFrame',\n",
       " 'Image',\n",
       " 'JSON',\n",
       " 'Javascript',\n",
       " 'Latex',\n",
       " 'Markdown',\n",
       " 'Math',\n",
       " 'Pretty',\n",
       " 'ProgressBar',\n",
       " 'SVG',\n",
       " 'ScribdDocument',\n",
       " 'TextDisplayObject',\n",
       " 'Video',\n",
       " 'VimeoVideo',\n",
       " 'YouTubeVideo',\n",
       " '__builtins__',\n",
       " '__cached__',\n",
       " '__doc__',\n",
       " '__file__',\n",
       " '__loader__',\n",
       " '__name__',\n",
       " '__package__',\n",
       " '__spec__',\n",
       " 'clear_output',\n",
       " 'display',\n",
       " 'display_html',\n",
       " 'display_javascript',\n",
       " 'display_jpeg',\n",
       " 'display_json',\n",
       " 'display_latex',\n",
       " 'display_markdown',\n",
       " 'display_pdf',\n",
       " 'display_png',\n",
       " 'display_pretty',\n",
       " 'display_svg',\n",
       " 'publish_display_data',\n",
       " 'set_matplotlib_close',\n",
       " 'set_matplotlib_formats',\n",
       " 'update_display']"
      ]
     },
     "execution_count": 45,
     "metadata": {},
     "output_type": "execute_result"
    }
   ],
   "source": [
    "dir(dp)"
   ]
  },
  {
   "cell_type": "code",
   "execution_count": 47,
   "id": "06eb9b01",
   "metadata": {},
   "outputs": [
    {
     "data": {
      "text/plain": [
       "['__annotations__',\n",
       " '__call__',\n",
       " '__class__',\n",
       " '__closure__',\n",
       " '__code__',\n",
       " '__defaults__',\n",
       " '__delattr__',\n",
       " '__dict__',\n",
       " '__dir__',\n",
       " '__doc__',\n",
       " '__eq__',\n",
       " '__format__',\n",
       " '__ge__',\n",
       " '__get__',\n",
       " '__getattribute__',\n",
       " '__globals__',\n",
       " '__gt__',\n",
       " '__hash__',\n",
       " '__init__',\n",
       " '__init_subclass__',\n",
       " '__kwdefaults__',\n",
       " '__le__',\n",
       " '__lt__',\n",
       " '__module__',\n",
       " '__name__',\n",
       " '__ne__',\n",
       " '__new__',\n",
       " '__qualname__',\n",
       " '__reduce__',\n",
       " '__reduce_ex__',\n",
       " '__repr__',\n",
       " '__setattr__',\n",
       " '__sizeof__',\n",
       " '__str__',\n",
       " '__subclasshook__']"
      ]
     },
     "execution_count": 47,
     "metadata": {},
     "output_type": "execute_result"
    }
   ],
   "source": [
    "dir(dp.display_html)"
   ]
  },
  {
   "cell_type": "code",
   "execution_count": 53,
   "id": "0bd28ded",
   "metadata": {},
   "outputs": [
    {
     "data": {
      "text/plain": [
       "'Display the HTML representation of an object.\\n\\n    Note: If raw=False and the object does not have a HTML\\n    representation, no HTML will be shown.\\n\\n    Parameters\\n    ----------\\n    *objs : object\\n        The Python objects to display, or if raw=True raw HTML data to\\n        display.\\n    raw : bool\\n        Are the data objects raw data or Python objects that need to be\\n        formatted before display? [default: False]\\n    metadata : dict (optional)\\n        Metadata to be associated with the specific mimetype output.\\n    '"
      ]
     },
     "execution_count": 53,
     "metadata": {},
     "output_type": "execute_result"
    }
   ],
   "source": [
    "dp.display_html.__doc__"
   ]
  },
  {
   "cell_type": "code",
   "execution_count": 83,
   "id": "1918f468",
   "metadata": {},
   "outputs": [],
   "source": [
    "from IPython.display import DisplayObject, HTML, Javascript\n",
    "\n",
    "class TT(DisplayObject):\n",
    "    def __init__(self, data=None, url=None, filename=None, metadata=None):\n",
    "        data = \"<h1>Deu certo</h1>\"\n",
    "        return super(TT, self).__init__(data, url, filename, metadata)\n",
    "    \n",
    "tt = TT()"
   ]
  },
  {
   "cell_type": "code",
   "execution_count": 75,
   "id": "06902417",
   "metadata": {},
   "outputs": [
    {
     "data": {
      "text/plain": [
       "<__main__.TT object>"
      ]
     },
     "metadata": {},
     "output_type": "display_data"
    }
   ],
   "source": [
    "dp.display(tt)"
   ]
  },
  {
   "cell_type": "code",
   "execution_count": 57,
   "id": "111aa5d9",
   "metadata": {},
   "outputs": [
    {
     "data": {
      "text/plain": [
       "'<IPython.core.display.SVG object>'"
      ]
     },
     "execution_count": 57,
     "metadata": {},
     "output_type": "execute_result"
    }
   ],
   "source": [
    "svg.__repr__()"
   ]
  },
  {
   "cell_type": "code",
   "execution_count": 127,
   "id": "dd80aa8e",
   "metadata": {},
   "outputs": [
    {
     "data": {
      "application/javascript": [
       "const canvas = document.getElementById('xxc1');\n",
       "const ctx = canvas.getContext('2d');\n",
       "\n",
       "ctx.fillStyle = 'red';\n",
       "ctx.fillRect(10, 10, 20, 50);\n",
       "ctx.beginPath();\n",
       "ctx.arc(50, 150, 30, 0, 2*Math.PI);\n",
       "ctx.closePath()\n",
       "ctx.stroke();\n"
      ],
      "text/plain": [
       "<IPython.core.display.Javascript object>"
      ]
     },
     "metadata": {},
     "output_type": "display_data"
    }
   ],
   "source": [
    "jj = Javascript(scanvas2)\n",
    "display(jj)"
   ]
  },
  {
   "cell_type": "code",
   "execution_count": 118,
   "id": "c8a816c7",
   "metadata": {},
   "outputs": [],
   "source": [
    "scanvas = \"\"\"const canvas = document.getElementById('xxc1');\n",
    "const ctx = canvas.getContext('2d');\n",
    "\n",
    "ctx.fillStyle = 'yellow';\n",
    "ctx.fillRect(10, 10, 150, 100);\n",
    "ctx.beginPath();\n",
    "ctx.arc(50, 50, 30, 0, 2*Math.PI);\n",
    "ctx.closePath()\n",
    "ctx.stroke();\n",
    "\"\"\""
   ]
  },
  {
   "cell_type": "code",
   "execution_count": 121,
   "id": "77bef1e4",
   "metadata": {},
   "outputs": [],
   "source": [
    "scanvas2 = \"\"\"const canvas = document.getElementById('xxc1');\n",
    "const ctx = canvas.getContext('2d');\n",
    "\n",
    "ctx.fillStyle = 'red';\n",
    "ctx.fillRect(10, 10, 20, 50);\n",
    "ctx.beginPath();\n",
    "ctx.arc(50, 150, 30, 0, 2*Math.PI);\n",
    "ctx.closePath()\n",
    "ctx.stroke();\n",
    "\"\"\""
   ]
  },
  {
   "cell_type": "code",
   "execution_count": 135,
   "id": "c20493ce",
   "metadata": {},
   "outputs": [],
   "source": [
    "def anima(x):\n",
    "    canvas = f\"\"\"const canvas = document.getElementById('xxc1');\n",
    "    const ctx = canvas.getContext('2d');\n",
    "    ctx.clearRect(0, 0, 300, 300);\n",
    "\n",
    "    ctx.fillStyle = 'red';\n",
    "    ctx.fillRect({x}, 10, 20, 50);\n",
    "    ctx.beginPath();\n",
    "    ctx.arc(50, 150, 30, 0, 2*Math.PI);\n",
    "    ctx.closePath()\n",
    "    ctx.stroke();\n",
    "    \"\"\"\n",
    "    jj = Javascript(canvas)\n",
    "    display(jj)"
   ]
  },
  {
   "cell_type": "code",
   "execution_count": 145,
   "id": "9a781cc9",
   "metadata": {},
   "outputs": [
    {
     "data": {
      "application/vnd.jupyter.widget-view+json": {
       "model_id": "94252cd09405463a9d4d325086ac066f",
       "version_major": 2,
       "version_minor": 0
      },
      "text/plain": [
       "interactive(children=(Play(value=0, description='x', interval=1, max=200), Output()), _dom_classes=('widget-in…"
      ]
     },
     "metadata": {},
     "output_type": "display_data"
    }
   ],
   "source": [
    "widgets.interact(anima, x=widgets.Play(min=0, max=200, interval=1, step=1));"
   ]
  },
  {
   "cell_type": "code",
   "execution_count": null,
   "id": "cbabe586",
   "metadata": {},
   "outputs": [],
   "source": []
  },
  {
   "cell_type": "code",
   "execution_count": 191,
   "id": "8488303b",
   "metadata": {},
   "outputs": [
    {
     "data": {
      "image/svg+xml": [
       "<svg xmlns=\"http://www.w3.org/2000/svg\" id=\"Layer_1\" data-name=\"Layer 1\" viewBox=\"0 0 200 100\" width=\"200\" height=\"100\">\n",
       "    <circle id=\"xx1\" cx=\"25\" cy=\"75\" r=\"20\" stroke=\"red\" fill=\"transparent\" stroke-width=\"5\"/>\n",
       "</svg>"
      ],
      "text/plain": [
       "<IPython.core.display.SVG object>"
      ]
     },
     "metadata": {},
     "output_type": "display_data"
    }
   ],
   "source": [
    "ssvg = '''<svg xmlns=\"http://www.w3.org/2000/svg\"  \n",
    "id=\"Layer_1\" data-name=\"Layer 1\" viewBox=\"0 0 200 100\" \n",
    "width=\"200\" height=\"100\">\n",
    "    <circle id=\"xx1\" cx=\"25\" cy=\"75\" r=\"20\" stroke=\"red\" fill=\"transparent\" stroke-width=\"5\"/>\n",
    "</svg>'''\n",
    "svg = SVG(data=ssvg)\n",
    "display(svg)"
   ]
  },
  {
   "cell_type": "code",
   "execution_count": 192,
   "id": "d7e6ddec",
   "metadata": {},
   "outputs": [],
   "source": [
    "def anima_svg(x):\n",
    "    js = f'''const bola = document.getElementById('xx1');\n",
    "    bola.setAttribute(\"cx\", {x});\n",
    "    '''\n",
    "    \n",
    "    jj = Javascript(js)\n",
    "    display(jj)"
   ]
  },
  {
   "cell_type": "code",
   "execution_count": 188,
   "id": "485d80d1",
   "metadata": {},
   "outputs": [
    {
     "data": {
      "application/javascript": [
       "const bola = document.getElementById('xx1');\n",
       "    bola.setAttribute(\"cx\", 20);\n",
       "    "
      ],
      "text/plain": [
       "<IPython.core.display.Javascript object>"
      ]
     },
     "metadata": {},
     "output_type": "display_data"
    }
   ],
   "source": [
    "anima_svg(20)"
   ]
  },
  {
   "cell_type": "code",
   "execution_count": 215,
   "id": "3530fe13",
   "metadata": {},
   "outputs": [
    {
     "data": {
      "application/vnd.jupyter.widget-view+json": {
       "model_id": "00104ed0604b4f079c65c9258ba71266",
       "version_major": 2,
       "version_minor": 0
      },
      "text/plain": [
       "interactive(children=(Play(value=0, description='x', interval=1, max=200), Output()), _dom_classes=('widget-in…"
      ]
     },
     "metadata": {},
     "output_type": "display_data"
    }
   ],
   "source": [
    "widgets.interact(anima_svg, x=widgets.Play(min=0, max=200, interval=1, step=1));"
   ]
  },
  {
   "cell_type": "code",
   "execution_count": null,
   "id": "7ca16a35",
   "metadata": {},
   "outputs": [],
   "source": []
  },
  {
   "cell_type": "code",
   "execution_count": 211,
   "id": "e75a63fa",
   "metadata": {
    "scrolled": true
   },
   "outputs": [
    {
     "data": {
      "application/javascript": [
       "\n",
       "         /* Step1: Prepare the canvas and get WebGL context */\n",
       "\n",
       "         var canvas = document.getElementById('xxc2');\n",
       "         var gl = canvas.getContext('webgl');\n",
       "         console.log('foi?');\n",
       "\n",
       "         /* Step2: Define the geometry and store it in buffer objects */\n",
       "\n",
       "         var vertices = [-0.5, 0.5, -0.5, -0.5, 0.0, -0.5,];\n",
       "\n",
       "         // Create a new buffer object\n",
       "         var vertex_buffer = gl.createBuffer();\n",
       "\n",
       "         // Bind an empty array buffer to it\n",
       "         gl.bindBuffer(gl.ARRAY_BUFFER, vertex_buffer);\n",
       "         \n",
       "         // Pass the vertices data to the buffer\n",
       "         gl.bufferData(gl.ARRAY_BUFFER, new Float32Array(vertices), gl.STATIC_DRAW);\n",
       "\n",
       "         // Unbind the buffer\n",
       "         gl.bindBuffer(gl.ARRAY_BUFFER, null);\n",
       "\n",
       "         /* Step3: Create and compile Shader programs */\n",
       "\n",
       "         // Vertex shader source code\n",
       "         var vertCode =\n",
       "            'attribute vec2 coordinates;' + \n",
       "            'void main(void) {' + ' gl_Position = vec4(coordinates,0.0, 1.0);' + '}';\n",
       "\n",
       "         //Create a vertex shader object\n",
       "         var vertShader = gl.createShader(gl.VERTEX_SHADER);\n",
       "\n",
       "         //Attach vertex shader source code\n",
       "         gl.shaderSource(vertShader, vertCode);\n",
       "\n",
       "         //Compile the vertex shader\n",
       "         gl.compileShader(vertShader);\n",
       "\n",
       "         //Fragment shader source code\n",
       "         var fragCode = 'void main(void) {' + 'gl_FragColor = vec4(0.0, 0.0, 0.0, 0.1);' + '}';\n",
       "\n",
       "         // Create fragment shader object\n",
       "         var fragShader = gl.createShader(gl.FRAGMENT_SHADER);\n",
       "\n",
       "         // Attach fragment shader source code\n",
       "         gl.shaderSource(fragShader, fragCode);\n",
       "\n",
       "         // Compile the fragment shader\n",
       "         gl.compileShader(fragShader);\n",
       "\n",
       "         // Create a shader program object to store combined shader program\n",
       "         var shaderProgram = gl.createProgram();\n",
       "\n",
       "         // Attach a vertex shader\n",
       "         gl.attachShader(shaderProgram, vertShader); \n",
       "         \n",
       "         // Attach a fragment shader\n",
       "         gl.attachShader(shaderProgram, fragShader);\n",
       "\n",
       "         // Link both programs\n",
       "         gl.linkProgram(shaderProgram);\n",
       "\n",
       "         // Use the combined shader program object\n",
       "         gl.useProgram(shaderProgram);\n",
       "\n",
       "         /* Step 4: Associate the shader programs to buffer objects */\n",
       "\n",
       "         //Bind vertex buffer object\n",
       "         gl.bindBuffer(gl.ARRAY_BUFFER, vertex_buffer);\n",
       "\n",
       "         //Get the attribute location\n",
       "         var coord = gl.getAttribLocation(shaderProgram, 'coordinates');\n",
       "\n",
       "         //point an attribute to the currently bound VBO\n",
       "         gl.vertexAttribPointer(coord, 2, gl.FLOAT, false, 0, 0);\n",
       "\n",
       "         //Enable the attribute\n",
       "         gl.enableVertexAttribArray(coord);\n",
       "\n",
       "         /* Step5: Drawing the required object (triangle) */\n",
       "\n",
       "         // Clear the canvas\n",
       "         gl.clearColor(0.5, 0.5, 0.5, 0.9);\n",
       "\n",
       "         // Enable the depth test\n",
       "         gl.enable(gl.DEPTH_TEST); \n",
       "         \n",
       "         // Clear the color buffer bit\n",
       "         gl.clear(gl.COLOR_BUFFER_BIT);\n",
       "\n",
       "         // Set the view port\n",
       "         gl.viewport(0,0,canvas.width,canvas.height);\n",
       "\n",
       "         // Draw the triangle\n",
       "         gl.drawArrays(gl.TRIANGLES, 0, 3);\n"
      ],
      "text/plain": [
       "<IPython.core.display.Javascript object>"
      ]
     },
     "metadata": {},
     "output_type": "display_data"
    }
   ],
   "source": [
    "webgl= \"\"\"\n",
    "         /* Step1: Prepare the canvas and get WebGL context */\n",
    "\n",
    "         var canvas = document.getElementById('xxc2');\n",
    "         var gl = canvas.getContext('webgl');\n",
    "         console.log('foi?');\n",
    "\n",
    "         /* Step2: Define the geometry and store it in buffer objects */\n",
    "\n",
    "         var vertices = [-0.5, 0.5, -0.5, -0.5, 0.0, -0.5,];\n",
    "\n",
    "         // Create a new buffer object\n",
    "         var vertex_buffer = gl.createBuffer();\n",
    "\n",
    "         // Bind an empty array buffer to it\n",
    "         gl.bindBuffer(gl.ARRAY_BUFFER, vertex_buffer);\n",
    "         \n",
    "         // Pass the vertices data to the buffer\n",
    "         gl.bufferData(gl.ARRAY_BUFFER, new Float32Array(vertices), gl.STATIC_DRAW);\n",
    "\n",
    "         // Unbind the buffer\n",
    "         gl.bindBuffer(gl.ARRAY_BUFFER, null);\n",
    "\n",
    "         /* Step3: Create and compile Shader programs */\n",
    "\n",
    "         // Vertex shader source code\n",
    "         var vertCode =\n",
    "            'attribute vec2 coordinates;' + \n",
    "            'void main(void) {' + ' gl_Position = vec4(coordinates,0.0, 1.0);' + '}';\n",
    "\n",
    "         //Create a vertex shader object\n",
    "         var vertShader = gl.createShader(gl.VERTEX_SHADER);\n",
    "\n",
    "         //Attach vertex shader source code\n",
    "         gl.shaderSource(vertShader, vertCode);\n",
    "\n",
    "         //Compile the vertex shader\n",
    "         gl.compileShader(vertShader);\n",
    "\n",
    "         //Fragment shader source code\n",
    "         var fragCode = 'void main(void) {' + 'gl_FragColor = vec4(0.0, 0.0, 0.0, 0.1);' + '}';\n",
    "\n",
    "         // Create fragment shader object\n",
    "         var fragShader = gl.createShader(gl.FRAGMENT_SHADER);\n",
    "\n",
    "         // Attach fragment shader source code\n",
    "         gl.shaderSource(fragShader, fragCode);\n",
    "\n",
    "         // Compile the fragment shader\n",
    "         gl.compileShader(fragShader);\n",
    "\n",
    "         // Create a shader program object to store combined shader program\n",
    "         var shaderProgram = gl.createProgram();\n",
    "\n",
    "         // Attach a vertex shader\n",
    "         gl.attachShader(shaderProgram, vertShader); \n",
    "         \n",
    "         // Attach a fragment shader\n",
    "         gl.attachShader(shaderProgram, fragShader);\n",
    "\n",
    "         // Link both programs\n",
    "         gl.linkProgram(shaderProgram);\n",
    "\n",
    "         // Use the combined shader program object\n",
    "         gl.useProgram(shaderProgram);\n",
    "\n",
    "         /* Step 4: Associate the shader programs to buffer objects */\n",
    "\n",
    "         //Bind vertex buffer object\n",
    "         gl.bindBuffer(gl.ARRAY_BUFFER, vertex_buffer);\n",
    "\n",
    "         //Get the attribute location\n",
    "         var coord = gl.getAttribLocation(shaderProgram, 'coordinates');\n",
    "\n",
    "         //point an attribute to the currently bound VBO\n",
    "         gl.vertexAttribPointer(coord, 2, gl.FLOAT, false, 0, 0);\n",
    "\n",
    "         //Enable the attribute\n",
    "         gl.enableVertexAttribArray(coord);\n",
    "\n",
    "         /* Step5: Drawing the required object (triangle) */\n",
    "\n",
    "         // Clear the canvas\n",
    "         gl.clearColor(0.5, 0.5, 0.5, 0.9);\n",
    "\n",
    "         // Enable the depth test\n",
    "         gl.enable(gl.DEPTH_TEST); \n",
    "         \n",
    "         // Clear the color buffer bit\n",
    "         gl.clear(gl.COLOR_BUFFER_BIT);\n",
    "\n",
    "         // Set the view port\n",
    "         gl.viewport(0,0,canvas.width,canvas.height);\n",
    "\n",
    "         // Draw the triangle\n",
    "         gl.drawArrays(gl.TRIANGLES, 0, 3);\n",
    "\"\"\"\n",
    "jj = Javascript(webgl)\n",
    "display(jj)"
   ]
  },
  {
   "cell_type": "code",
   "execution_count": 210,
   "id": "dda73311",
   "metadata": {},
   "outputs": [
    {
     "data": {
      "text/html": [
       "<canvas id='xxc2' width='300' height='300'></canvas>"
      ],
      "text/plain": [
       "<IPython.core.display.HTML object>"
      ]
     },
     "metadata": {},
     "output_type": "display_data"
    }
   ],
   "source": [
    "canvas = HTML(\"<canvas id='xxc2' width='300' height='300'></canvas>\")\n",
    "display(canvas)"
   ]
  },
  {
   "cell_type": "code",
   "execution_count": null,
   "id": "b70d5e59",
   "metadata": {},
   "outputs": [],
   "source": []
  }
 ],
 "metadata": {
  "kernelspec": {
   "display_name": "Python 3 (ipykernel)",
   "language": "python",
   "name": "python3"
  },
  "language_info": {
   "codemirror_mode": {
    "name": "ipython",
    "version": 3
   },
   "file_extension": ".py",
   "mimetype": "text/x-python",
   "name": "python",
   "nbconvert_exporter": "python",
   "pygments_lexer": "ipython3",
   "version": "3.8.10"
  }
 },
 "nbformat": 4,
 "nbformat_minor": 5
}
