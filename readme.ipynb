{
 "cells": [
  {
   "cell_type": "markdown",
   "id": "ddb7f460",
   "metadata": {},
   "source": [
    "# Estudos e exemplos em Jupyter notebooks"
   ]
  },
  {
   "cell_type": "markdown",
   "id": "aa2ddd96",
   "metadata": {},
   "source": [
    "[SVG no Jupyter](/notebooks/SVG_in_Jupyter.ipynb)"
   ]
  },
  {
   "cell_type": "markdown",
   "id": "a86f1b45",
   "metadata": {},
   "source": [
    "[Integração com glowscript via firebase](/notebooks/integracao_com_glowscript.ipynb)"
   ]
  },
  {
   "cell_type": "code",
   "execution_count": null,
   "id": "e42a5afd",
   "metadata": {},
   "outputs": [],
   "source": []
  }
 ],
 "metadata": {
  "kernelspec": {
   "display_name": "Python 3 (ipykernel)",
   "language": "python",
   "name": "python3"
  },
  "language_info": {
   "codemirror_mode": {
    "name": "ipython",
    "version": 3
   },
   "file_extension": ".py",
   "mimetype": "text/x-python",
   "name": "python",
   "nbconvert_exporter": "python",
   "pygments_lexer": "ipython3",
   "version": "3.8.10"
  }
 },
 "nbformat": 4,
 "nbformat_minor": 5
}
