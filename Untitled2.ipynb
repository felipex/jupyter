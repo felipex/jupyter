{
 "cells": [
  {
   "cell_type": "code",
   "execution_count": 20,
   "id": "5e0e9289",
   "metadata": {},
   "outputs": [
    {
     "data": {
      "application/vnd.jupyter.widget-view+json": {
       "model_id": "pythree_example_model_083",
       "version_major": 2,
       "version_minor": 0
      },
      "text/plain": [
       "FloatSlider(value=0.05, description='Raio:', max=0.5, min=0.01, readout_format='.1f', step=0.01)"
      ]
     },
     "metadata": {},
     "output_type": "display_data"
    }
   ],
   "source": [
    "import ipywidgets as widgets\n",
    "from IPython.display import display\n",
    "\n",
    "slider = widgets.FloatSlider(\n",
    "    value=0.05,\n",
    "    min=0.01,\n",
    "    max=0.5,\n",
    "    step=0.01,\n",
    "    description='Raio:',\n",
    "    disabled=False,\n",
    "    #continuous_update=False,\n",
    "    orientation='horizontal',\n",
    "    readout=True,\n",
    "    readout_format='.1f',\n",
    ")\n",
    "def update_raio(change):\n",
    "    if change.new:\n",
    "        if type(change.new) == float:\n",
    "            print(change.new)\n",
    "\n",
    "slider.observe(update_raio)\n",
    "\n",
    "display(slider)"
   ]
  },
  {
   "cell_type": "code",
   "execution_count": 24,
   "id": "68bef5e4",
   "metadata": {},
   "outputs": [
    {
     "data": {
      "text/plain": [
       "['__annotations__',\n",
       " '__class__',\n",
       " '__del__',\n",
       " '__delattr__',\n",
       " '__dict__',\n",
       " '__dir__',\n",
       " '__doc__',\n",
       " '__eq__',\n",
       " '__format__',\n",
       " '__ge__',\n",
       " '__getattribute__',\n",
       " '__getstate__',\n",
       " '__gt__',\n",
       " '__hash__',\n",
       " '__init__',\n",
       " '__init_subclass__',\n",
       " '__le__',\n",
       " '__lt__',\n",
       " '__module__',\n",
       " '__ne__',\n",
       " '__new__',\n",
       " '__reduce__',\n",
       " '__reduce_ex__',\n",
       " '__repr__',\n",
       " '__setattr__',\n",
       " '__setstate__',\n",
       " '__sizeof__',\n",
       " '__str__',\n",
       " '__subclasshook__',\n",
       " '__weakref__',\n",
       " '_add_notifiers',\n",
       " '_call_widget_constructed',\n",
       " '_comm_changed',\n",
       " '_compare',\n",
       " '_control_comm',\n",
       " '_cross_validation_lock',\n",
       " '_default_keys',\n",
       " '_display_callbacks',\n",
       " '_dom_classes',\n",
       " '_gen_repr_from_keys',\n",
       " '_get_embed_state',\n",
       " '_get_trait_default_generator',\n",
       " '_handle_control_comm_msg',\n",
       " '_handle_custom_msg',\n",
       " '_handle_displayed',\n",
       " '_handle_msg',\n",
       " '_holding_sync',\n",
       " '_ipython_display_',\n",
       " '_is_numpy',\n",
       " '_lock_property',\n",
       " '_log_default',\n",
       " '_model_id',\n",
       " '_model_module',\n",
       " '_model_module_version',\n",
       " '_model_name',\n",
       " '_msg_callbacks',\n",
       " '_notify_observers',\n",
       " '_notify_trait',\n",
       " '_property_lock',\n",
       " '_register_validator',\n",
       " '_remove_notifiers',\n",
       " '_repr_keys',\n",
       " '_send',\n",
       " '_should_send_property',\n",
       " '_states_to_send',\n",
       " '_trait_default_generators',\n",
       " '_trait_from_json',\n",
       " '_trait_notifiers',\n",
       " '_trait_to_json',\n",
       " '_trait_validators',\n",
       " '_trait_values',\n",
       " '_validate_max',\n",
       " '_validate_min',\n",
       " '_validate_value',\n",
       " '_view_count',\n",
       " '_view_module',\n",
       " '_view_module_version',\n",
       " '_view_name',\n",
       " '_widget_construction_callback',\n",
       " 'add_class',\n",
       " 'add_traits',\n",
       " 'class_own_trait_events',\n",
       " 'class_own_traits',\n",
       " 'class_trait_names',\n",
       " 'class_traits',\n",
       " 'close',\n",
       " 'close_all',\n",
       " 'comm',\n",
       " 'continuous_update',\n",
       " 'cross_validation_lock',\n",
       " 'description',\n",
       " 'description_tooltip',\n",
       " 'disabled',\n",
       " 'get_interact_value',\n",
       " 'get_manager_state',\n",
       " 'get_state',\n",
       " 'get_view_spec',\n",
       " 'handle_comm_opened',\n",
       " 'handle_control_comm_opened',\n",
       " 'has_trait',\n",
       " 'hold_sync',\n",
       " 'hold_trait_notifications',\n",
       " 'keys',\n",
       " 'layout',\n",
       " 'log',\n",
       " 'max',\n",
       " 'min',\n",
       " 'model_id',\n",
       " 'notify_change',\n",
       " 'observe',\n",
       " 'on_displayed',\n",
       " 'on_msg',\n",
       " 'on_trait_change',\n",
       " 'on_widget_constructed',\n",
       " 'open',\n",
       " 'orientation',\n",
       " 'readout',\n",
       " 'readout_format',\n",
       " 'remove_class',\n",
       " 'send',\n",
       " 'send_state',\n",
       " 'set_state',\n",
       " 'set_trait',\n",
       " 'setup_instance',\n",
       " 'step',\n",
       " 'style',\n",
       " 'trait_defaults',\n",
       " 'trait_events',\n",
       " 'trait_has_value',\n",
       " 'trait_metadata',\n",
       " 'trait_names',\n",
       " 'trait_values',\n",
       " 'traits',\n",
       " 'unobserve',\n",
       " 'unobserve_all',\n",
       " 'value',\n",
       " 'widget_types',\n",
       " 'widgets']"
      ]
     },
     "execution_count": 24,
     "metadata": {},
     "output_type": "execute_result"
    }
   ],
   "source": [
    "dir(slider)"
   ]
  },
  {
   "cell_type": "code",
   "execution_count": 25,
   "id": "53fc7846",
   "metadata": {},
   "outputs": [
    {
     "data": {
      "text/plain": [
       "{'pythree_example_model_001': SphereBufferGeometry(heightSegments=16, widthSegments=32),\n",
       " 'pythree_example_model_002': MeshStandardMaterial(alphaMap=None, aoMap=None, bumpMap=None, color='red', defines={'STANDARD': ''}, displacementMap=None, emissiveMap=None, envMap=None, lightMap=None, map=None, metalnessMap=None, normalMap=None, normalScale=(1.0, 1.0), roughnessMap=None),\n",
       " 'pythree_example_model_003': Mesh(geometry=SphereBufferGeometry(heightSegments=16, widthSegments=32), material=MeshStandardMaterial(alphaMap=None, aoMap=None, bumpMap=None, color='red', defines={'STANDARD': ''}, displacementMap=None, emissiveMap=None, envMap=None, lightMap=None, map=None, metalnessMap=None, normalMap=None, normalScale=(1.0, 1.0), roughnessMap=None), position=(0.0, 0.0, 0.0), quaternion=(0.0, 0.0, 0.0, 1.0), rotation=(0.0, 0.0, 0.0, 'XYZ'), scale=(1.0, 1.0, 1.0), up=(0.0, 1.0, 0.0)),\n",
       " 'pythree_example_model_004': BoxBufferGeometry(),\n",
       " 'pythree_example_model_005': MeshPhysicalMaterial(alphaMap=None, aoMap=None, bumpMap=None, color='green', defines={'PHYSICAL': ''}, displacementMap=None, emissiveMap=None, envMap=None, lightMap=None, map=None, metalnessMap=None, normalMap=None, normalScale=(1.0, 1.0), roughnessMap=None),\n",
       " 'pythree_example_model_006': Mesh(geometry=BoxBufferGeometry(), material=MeshPhysicalMaterial(alphaMap=None, aoMap=None, bumpMap=None, color='green', defines={'PHYSICAL': ''}, displacementMap=None, emissiveMap=None, envMap=None, lightMap=None, map=None, metalnessMap=None, normalMap=None, normalScale=(1.0, 1.0), roughnessMap=None), position=(2.0, 0.0, 4.0), quaternion=(0.0, 0.0, 0.0, 1.0), rotation=(0.0, 0.0, 0.0, 'XYZ'), scale=(1.0, 1.0, 1.0), up=(0.0, 1.0, 0.0)),\n",
       " 'pythree_example_model_007': PerspectiveCamera(aspect=1.5, position=(10.0, 6.0, 10.0), projectionMatrix=(1.0, 0.0, 0.0, 0.0, 0.0, 1.0, 0.0, 0.0, 0.0, 0.0, 1.0, 0.0, 0.0, 0.0, 0.0, 1.0), quaternion=(0.0, 0.0, 0.0, 1.0), rotation=(0.0, 0.0, 0.0, 'XYZ'), scale=(1.0, 1.0, 1.0), up=(0.0, 1.0, 0.0)),\n",
       " 'pythree_example_model_008': DirectionalLight(position=(0.0, 10.0, 10.0), quaternion=(0.0, 0.0, 0.0, 1.0), rotation=(0.0, 0.0, 0.0, 'XYZ'), scale=(1.0, 1.0, 1.0), up=(0.0, 1.0, 0.0)),\n",
       " 'pythree_example_model_009': AmbientLight(position=(0.0, 0.0, 0.0), quaternion=(0.0, 0.0, 0.0, 1.0), rotation=(0.0, 0.0, 0.0, 'XYZ'), scale=(1.0, 1.0, 1.0), up=(0.0, 1.0, 0.0)),\n",
       " 'pythree_example_model_010': PerspectiveCamera(aspect=1.5, position=(10.0, 6.0, 10.0), projectionMatrix=(1.0, 0.0, 0.0, 0.0, 0.0, 1.0, 0.0, 0.0, 0.0, 0.0, 1.0, 0.0, 0.0, 0.0, 0.0, 1.0), quaternion=(0.0, 0.0, 0.0, 1.0), rotation=(0.0, 0.0, 0.0, 'XYZ'), scale=(1.0, 1.0, 1.0), up=(0.0, 1.0, 0.0)),\n",
       " 'pythree_example_model_011': DirectionalLight(position=(0.0, 10.0, 10.0), quaternion=(0.0, 0.0, 0.0, 1.0), rotation=(0.0, 0.0, 0.0, 'XYZ'), scale=(1.0, 1.0, 1.0), up=(0.0, 1.0, 0.0)),\n",
       " 'pythree_example_model_012': AmbientLight(position=(0.0, 0.0, 0.0), quaternion=(0.0, 0.0, 0.0, 1.0), rotation=(0.0, 0.0, 0.0, 'XYZ'), scale=(1.0, 1.0, 1.0), up=(0.0, 1.0, 0.0)),\n",
       " 'pythree_example_model_013': SphereGeometry(heightSegments=24, widthSegments=32),\n",
       " 'pythree_example_model_014': MeshLambertMaterial(alphaMap=None, aoMap=None, color='red', emissiveMap=None, envMap=None, lightMap=None, map=None, specularMap=None),\n",
       " 'pythree_example_model_015': Mesh(geometry=SphereGeometry(heightSegments=24, widthSegments=32), material=MeshLambertMaterial(alphaMap=None, aoMap=None, color='red', emissiveMap=None, envMap=None, lightMap=None, map=None, specularMap=None), position=(2.0, 1.0, 0.0), quaternion=(0.0, 0.0, 0.0, 1.0), rotation=(0.0, 0.0, 0.0, 'XYZ'), scale=(1.0, 1.0, 1.0), up=(0.0, 1.0, 0.0)),\n",
       " 'pythree_example_model_016': DirectionalLight(color='white', intensity=0.5, position=(3.0, 5.0, 1.0), quaternion=(0.0, 0.0, 0.0, 1.0), rotation=(0.0, 0.0, 0.0, 'XYZ'), scale=(1.0, 1.0, 1.0), up=(0.0, 1.0, 0.0)),\n",
       " 'pythree_example_model_017': PerspectiveCamera(children=(DirectionalLight(color='white', intensity=0.5, position=(3.0, 5.0, 1.0), quaternion=(0.0, 0.0, 0.0, 1.0), rotation=(0.0, 0.0, 0.0, 'XYZ'), scale=(1.0, 1.0, 1.0), up=(0.0, 1.0, 0.0)),), position=(0.0, 5.0, 5.0), projectionMatrix=(1.0, 0.0, 0.0, 0.0, 0.0, 1.0, 0.0, 0.0, 0.0, 0.0, 1.0, 0.0, 0.0, 0.0, 0.0, 1.0), quaternion=(0.0, 0.0, 0.0, 1.0), rotation=(0.0, 0.0, 0.0, 'XYZ'), scale=(1.0, 1.0, 1.0), up=(0.0, 1.0, 0.0)),\n",
       " 'pythree_example_model_018': AmbientLight(color='#777777', position=(0.0, 0.0, 0.0), quaternion=(0.0, 0.0, 0.0, 1.0), rotation=(0.0, 0.0, 0.0, 'XYZ'), scale=(1.0, 1.0, 1.0), up=(0.0, 1.0, 0.0)),\n",
       " 'pythree_example_model_019': Scene(children=(Mesh(geometry=SphereGeometry(heightSegments=24, widthSegments=32), material=MeshLambertMaterial(alphaMap=None, aoMap=None, color='red', emissiveMap=None, envMap=None, lightMap=None, map=None, specularMap=None), position=(2.0, 1.0, 0.0), quaternion=(0.0, 0.0, 0.0, 1.0), rotation=(0.0, 0.0, 0.0, 'XYZ'), scale=(1.0, 1.0, 1.0), up=(0.0, 1.0, 0.0)), PerspectiveCamera(children=(DirectionalLight(color='white', intensity=0.5, position=(3.0, 5.0, 1.0), quaternion=(0.0, 0.0, 0.0, 1.0), rotation=(0.0, 0.0, 0.0, 'XYZ'), scale=(1.0, 1.0, 1.0), up=(0.0, 1.0, 0.0)),), position=(0.0, 5.0, 5.0), projectionMatrix=(1.0, 0.0, 0.0, 0.0, 0.0, 1.0, 0.0, 0.0, 0.0, 0.0, 1.0, 0.0, 0.0, 0.0, 0.0, 1.0), quaternion=(0.0, 0.0, 0.0, 1.0), rotation=(0.0, 0.0, 0.0, 'XYZ'), scale=(1.0, 1.0, 1.0), up=(0.0, 1.0, 0.0)), AmbientLight(color='#777777', position=(0.0, 0.0, 0.0), quaternion=(0.0, 0.0, 0.0, 1.0), rotation=(0.0, 0.0, 0.0, 'XYZ'), scale=(1.0, 1.0, 1.0), up=(0.0, 1.0, 0.0))), fog=None, overrideMaterial=None, position=(0.0, 0.0, 0.0), quaternion=(0.0, 0.0, 0.0, 1.0), rotation=(0.0, 0.0, 0.0, 'XYZ'), scale=(1.0, 1.0, 1.0), up=(0.0, 1.0, 0.0)),\n",
       " 'pythree_example_model_020': OrbitControls(controlling=PerspectiveCamera(children=(DirectionalLight(color='white', intensity=0.5, position=(3.0, 5.0, 1.0), quaternion=(0.0, 0.0, 0.0, 1.0), rotation=(0.0, 0.0, 0.0, 'XYZ'), scale=(1.0, 1.0, 1.0), up=(0.0, 1.0, 0.0)),), position=(0.0, 5.0, 5.0), projectionMatrix=(1.0, 0.0, 0.0, 0.0, 0.0, 1.0, 0.0, 0.0, 0.0, 0.0, 1.0, 0.0, 0.0, 0.0, 0.0, 1.0), quaternion=(0.0, 0.0, 0.0, 1.0), rotation=(0.0, 0.0, 0.0, 'XYZ'), scale=(1.0, 1.0, 1.0), up=(0.0, 1.0, 0.0)), target=(0.0, 0.0, 0.0)),\n",
       " 'pythree_example_model_022': Layout(),\n",
       " 'pythree_example_model_023': WebGLShadowMap(),\n",
       " 'pythree_example_model_021': Renderer(camera=PerspectiveCamera(children=(DirectionalLight(color='white', intensity=0.5, position=(3.0, 5.0, 1.0), quaternion=(0.0, 0.0, 0.0, 1.0), rotation=(0.0, 0.0, 0.0, 'XYZ'), scale=(1.0, 1.0, 1.0), up=(0.0, 1.0, 0.0)),), position=(0.0, 5.0, 5.0), projectionMatrix=(1.0, 0.0, 0.0, 0.0, 0.0, 1.0, 0.0, 0.0, 0.0, 0.0, 1.0, 0.0, 0.0, 0.0, 0.0, 1.0), quaternion=(0.0, 0.0, 0.0, 1.0), rotation=(0.0, 0.0, 0.0, 'XYZ'), scale=(1.0, 1.0, 1.0), up=(0.0, 1.0, 0.0)), controls=[OrbitControls(controlling=PerspectiveCamera(children=(DirectionalLight(color='white', intensity=0.5, position=(3.0, 5.0, 1.0), quaternion=(0.0, 0.0, 0.0, 1.0), rotation=(0.0, 0.0, 0.0, 'XYZ'), scale=(1.0, 1.0, 1.0), up=(0.0, 1.0, 0.0)),), position=(0.0, 5.0, 5.0), projectionMatrix=(1.0, 0.0, 0.0, 0.0, 0.0, 1.0, 0.0, 0.0, 0.0, 0.0, 1.0, 0.0, 0.0, 0.0, 0.0, 1.0), quaternion=(0.0, 0.0, 0.0, 1.0), rotation=(0.0, 0.0, 0.0, 'XYZ'), scale=(1.0, 1.0, 1.0), up=(0.0, 1.0, 0.0)), target=(0.0, 0.0, 0.0))], scene=Scene(children=(Mesh(geometry=SphereGeometry(heightSegments=24, widthSegments=32), material=MeshLambertMaterial(alphaMap=None, aoMap=None, color='red', emissiveMap=None, envMap=None, lightMap=None, map=None, specularMap=None), position=(2.0, 1.0, 0.0), quaternion=(0.0, 0.0, 0.0, 1.0), rotation=(0.0, 0.0, 0.0, 'XYZ'), scale=(1.0, 1.0, 1.0), up=(0.0, 1.0, 0.0)), PerspectiveCamera(children=(DirectionalLight(color='white', intensity=0.5, position=(3.0, 5.0, 1.0), quaternion=(0.0, 0.0, 0.0, 1.0), rotation=(0.0, 0.0, 0.0, 'XYZ'), scale=(1.0, 1.0, 1.0), up=(0.0, 1.0, 0.0)),), position=(0.0, 5.0, 5.0), projectionMatrix=(1.0, 0.0, 0.0, 0.0, 0.0, 1.0, 0.0, 0.0, 0.0, 0.0, 1.0, 0.0, 0.0, 0.0, 0.0, 1.0), quaternion=(0.0, 0.0, 0.0, 1.0), rotation=(0.0, 0.0, 0.0, 'XYZ'), scale=(1.0, 1.0, 1.0), up=(0.0, 1.0, 0.0)), AmbientLight(color='#777777', position=(0.0, 0.0, 0.0), quaternion=(0.0, 0.0, 0.0, 1.0), rotation=(0.0, 0.0, 0.0, 'XYZ'), scale=(1.0, 1.0, 1.0), up=(0.0, 1.0, 0.0))), fog=None, overrideMaterial=None, position=(0.0, 0.0, 0.0), quaternion=(0.0, 0.0, 0.0, 1.0), rotation=(0.0, 0.0, 0.0, 'XYZ'), scale=(1.0, 1.0, 1.0), up=(0.0, 1.0, 0.0)), shadowMap=WebGLShadowMap()),\n",
       " 'pythree_example_model_024': SphereGeometry(heightSegments=24, widthSegments=32),\n",
       " 'pythree_example_model_025': MeshLambertMaterial(alphaMap=None, aoMap=None, color='red', emissiveMap=None, envMap=None, lightMap=None, map=None, specularMap=None),\n",
       " 'pythree_example_model_026': Mesh(geometry=SphereGeometry(heightSegments=24, widthSegments=32), material=MeshLambertMaterial(alphaMap=None, aoMap=None, color='red', emissiveMap=None, envMap=None, lightMap=None, map=None, specularMap=None), position=(2.0, 1.0, 0.0), quaternion=(0.0, 0.0, 0.0, 1.0), rotation=(0.0, 0.0, 0.0, 'XYZ'), scale=(1.0, 1.0, 1.0), up=(0.0, 1.0, 0.0)),\n",
       " 'pythree_example_model_027': SphereGeometry(heightSegments=24, widthSegments=32),\n",
       " 'pythree_example_model_028': MeshLambertMaterial(alphaMap=None, aoMap=None, color='red', emissiveMap=None, envMap=None, lightMap=None, map=None, specularMap=None),\n",
       " 'pythree_example_model_029': Mesh(geometry=SphereGeometry(heightSegments=24, widthSegments=32), material=MeshLambertMaterial(alphaMap=None, aoMap=None, color='red', emissiveMap=None, envMap=None, lightMap=None, map=None, specularMap=None), position=(2.0, 1.0, 0.0), quaternion=(0.0, 0.0, 0.0, 1.0), rotation=(0.0, 0.0, 0.0, 'XYZ'), scale=(1.0, 1.0, 1.0), up=(0.0, 1.0, 0.0)),\n",
       " 'pythree_example_model_030': DirectionalLight(color='white', intensity=0.5, position=(3.0, 5.0, 1.0), quaternion=(0.0, 0.0, 0.0, 1.0), rotation=(0.0, 0.0, 0.0, 'XYZ'), scale=(1.0, 1.0, 1.0), up=(0.0, 1.0, 0.0)),\n",
       " 'pythree_example_model_031': PerspectiveCamera(children=(DirectionalLight(color='white', intensity=0.5, position=(3.0, 5.0, 1.0), quaternion=(0.0, 0.0, 0.0, 1.0), rotation=(0.0, 0.0, 0.0, 'XYZ'), scale=(1.0, 1.0, 1.0), up=(0.0, 1.0, 0.0)),), position=(0.0, 5.0, 5.0), projectionMatrix=(1.0, 0.0, 0.0, 0.0, 0.0, 1.0, 0.0, 0.0, 0.0, 0.0, 1.0, 0.0, 0.0, 0.0, 0.0, 1.0), quaternion=(0.0, 0.0, 0.0, 1.0), rotation=(0.0, 0.0, 0.0, 'XYZ'), scale=(1.0, 1.0, 1.0), up=(0.0, 1.0, 0.0)),\n",
       " 'pythree_example_model_032': SphereGeometry(heightSegments=24, widthSegments=32),\n",
       " 'pythree_example_model_033': MeshLambertMaterial(alphaMap=None, aoMap=None, color='red', emissiveMap=None, envMap=None, lightMap=None, map=None, specularMap=None),\n",
       " 'pythree_example_model_034': Mesh(geometry=SphereGeometry(heightSegments=24, widthSegments=32), material=MeshLambertMaterial(alphaMap=None, aoMap=None, color='red', emissiveMap=None, envMap=None, lightMap=None, map=None, specularMap=None), position=(2.0, 1.0, 0.0), quaternion=(0.0, 0.0, 0.0, 1.0), rotation=(0.0, 0.0, 0.0, 'XYZ'), scale=(1.0, 1.0, 1.0), up=(0.0, 1.0, 0.0)),\n",
       " 'pythree_example_model_035': DirectionalLight(color='white', intensity=0.5, position=(3.0, 5.0, 1.0), quaternion=(0.0, 0.0, 0.0, 1.0), rotation=(0.0, 0.0, 0.0, 'XYZ'), scale=(1.0, 1.0, 1.0), up=(0.0, 1.0, 0.0)),\n",
       " 'pythree_example_model_036': PerspectiveCamera(children=(DirectionalLight(color='white', intensity=0.5, position=(3.0, 5.0, 1.0), quaternion=(0.0, 0.0, 0.0, 1.0), rotation=(0.0, 0.0, 0.0, 'XYZ'), scale=(1.0, 1.0, 1.0), up=(0.0, 1.0, 0.0)),), position=(0.0, 5.0, 5.0), projectionMatrix=(1.0, 0.0, 0.0, 0.0, 0.0, 1.0, 0.0, 0.0, 0.0, 0.0, 1.0, 0.0, 0.0, 0.0, 0.0, 1.0), quaternion=(0.0, 0.0, 0.0, 1.0), rotation=(0.0, 0.0, 0.0, 'XYZ'), scale=(1.0, 1.0, 1.0), up=(0.0, 1.0, 0.0)),\n",
       " 'pythree_example_model_037': AmbientLight(color='#777777', position=(0.0, 0.0, 0.0), quaternion=(0.0, 0.0, 0.0, 1.0), rotation=(0.0, 0.0, 0.0, 'XYZ'), scale=(1.0, 1.0, 1.0), up=(0.0, 1.0, 0.0)),\n",
       " 'pythree_example_model_038': Scene(children=(Mesh(geometry=SphereGeometry(heightSegments=24, widthSegments=32), material=MeshLambertMaterial(alphaMap=None, aoMap=None, color='red', emissiveMap=None, envMap=None, lightMap=None, map=None, specularMap=None), position=(2.0, 1.0, 0.0), quaternion=(0.0, 0.0, 0.0, 1.0), rotation=(0.0, 0.0, 0.0, 'XYZ'), scale=(1.0, 1.0, 1.0), up=(0.0, 1.0, 0.0)), PerspectiveCamera(children=(DirectionalLight(color='white', intensity=0.5, position=(3.0, 5.0, 1.0), quaternion=(0.0, 0.0, 0.0, 1.0), rotation=(0.0, 0.0, 0.0, 'XYZ'), scale=(1.0, 1.0, 1.0), up=(0.0, 1.0, 0.0)),), position=(0.0, 5.0, 5.0), projectionMatrix=(1.0, 0.0, 0.0, 0.0, 0.0, 1.0, 0.0, 0.0, 0.0, 0.0, 1.0, 0.0, 0.0, 0.0, 0.0, 1.0), quaternion=(0.0, 0.0, 0.0, 1.0), rotation=(0.0, 0.0, 0.0, 'XYZ'), scale=(1.0, 1.0, 1.0), up=(0.0, 1.0, 0.0)), AmbientLight(color='#777777', position=(0.0, 0.0, 0.0), quaternion=(0.0, 0.0, 0.0, 1.0), rotation=(0.0, 0.0, 0.0, 'XYZ'), scale=(1.0, 1.0, 1.0), up=(0.0, 1.0, 0.0))), fog=None, overrideMaterial=None, position=(0.0, 0.0, 0.0), quaternion=(0.0, 0.0, 0.0, 1.0), rotation=(0.0, 0.0, 0.0, 'XYZ'), scale=(1.0, 1.0, 1.0), up=(0.0, 1.0, 0.0)),\n",
       " 'pythree_example_model_039': SphereGeometry(heightSegments=24, widthSegments=32),\n",
       " 'pythree_example_model_040': MeshLambertMaterial(alphaMap=None, aoMap=None, color='red', emissiveMap=None, envMap=None, lightMap=None, map=None, specularMap=None),\n",
       " 'pythree_example_model_041': Mesh(geometry=SphereGeometry(heightSegments=24, widthSegments=32), material=MeshLambertMaterial(alphaMap=None, aoMap=None, color='red', emissiveMap=None, envMap=None, lightMap=None, map=None, specularMap=None), position=(2.0, 1.0, 0.0), quaternion=(0.0, 0.0, 0.0, 1.0), rotation=(0.0, 0.0, 0.0, 'XYZ'), scale=(1.0, 1.0, 1.0), up=(0.0, 1.0, 0.0)),\n",
       " 'pythree_example_model_042': DirectionalLight(color='white', intensity=0.5, position=(3.0, 5.0, 1.0), quaternion=(0.0, 0.0, 0.0, 1.0), rotation=(0.0, 0.0, 0.0, 'XYZ'), scale=(1.0, 1.0, 1.0), up=(0.0, 1.0, 0.0)),\n",
       " 'pythree_example_model_043': PerspectiveCamera(children=(DirectionalLight(color='white', intensity=0.5, position=(3.0, 5.0, 1.0), quaternion=(0.0, 0.0, 0.0, 1.0), rotation=(0.0, 0.0, 0.0, 'XYZ'), scale=(1.0, 1.0, 1.0), up=(0.0, 1.0, 0.0)),), position=(0.0, 5.0, 5.0), projectionMatrix=(1.0, 0.0, 0.0, 0.0, 0.0, 1.0, 0.0, 0.0, 0.0, 0.0, 1.0, 0.0, 0.0, 0.0, 0.0, 1.0), quaternion=(0.0, 0.0, 0.0, 1.0), rotation=(0.0, 0.0, 0.0, 'XYZ'), scale=(1.0, 1.0, 1.0), up=(0.0, 1.0, 0.0)),\n",
       " 'pythree_example_model_044': AmbientLight(color='#777777', position=(0.0, 0.0, 0.0), quaternion=(0.0, 0.0, 0.0, 1.0), rotation=(0.0, 0.0, 0.0, 'XYZ'), scale=(1.0, 1.0, 1.0), up=(0.0, 1.0, 0.0)),\n",
       " 'pythree_example_model_045': Scene(children=(Mesh(geometry=SphereGeometry(heightSegments=24, widthSegments=32), material=MeshLambertMaterial(alphaMap=None, aoMap=None, color='red', emissiveMap=None, envMap=None, lightMap=None, map=None, specularMap=None), position=(2.0, 1.0, 0.0), quaternion=(0.0, 0.0, 0.0, 1.0), rotation=(0.0, 0.0, 0.0, 'XYZ'), scale=(1.0, 1.0, 1.0), up=(0.0, 1.0, 0.0)), PerspectiveCamera(children=(DirectionalLight(color='white', intensity=0.5, position=(3.0, 5.0, 1.0), quaternion=(0.0, 0.0, 0.0, 1.0), rotation=(0.0, 0.0, 0.0, 'XYZ'), scale=(1.0, 1.0, 1.0), up=(0.0, 1.0, 0.0)),), position=(0.0, 5.0, 5.0), projectionMatrix=(1.0, 0.0, 0.0, 0.0, 0.0, 1.0, 0.0, 0.0, 0.0, 0.0, 1.0, 0.0, 0.0, 0.0, 0.0, 1.0), quaternion=(0.0, 0.0, 0.0, 1.0), rotation=(0.0, 0.0, 0.0, 'XYZ'), scale=(1.0, 1.0, 1.0), up=(0.0, 1.0, 0.0)), AmbientLight(color='#777777', position=(0.0, 0.0, 0.0), quaternion=(0.0, 0.0, 0.0, 1.0), rotation=(0.0, 0.0, 0.0, 'XYZ'), scale=(1.0, 1.0, 1.0), up=(0.0, 1.0, 0.0))), fog=None, overrideMaterial=None, position=(0.0, 0.0, 0.0), quaternion=(0.0, 0.0, 0.0, 1.0), rotation=(0.0, 0.0, 0.0, 'XYZ'), scale=(1.0, 1.0, 1.0), up=(0.0, 1.0, 0.0)),\n",
       " 'pythree_example_model_046': OrbitControls(controlling=PerspectiveCamera(children=(DirectionalLight(color='white', intensity=0.5, position=(3.0, 5.0, 1.0), quaternion=(0.0, 0.0, 0.0, 1.0), rotation=(0.0, 0.0, 0.0, 'XYZ'), scale=(1.0, 1.0, 1.0), up=(0.0, 1.0, 0.0)),), position=(0.0, 5.0, 5.0), projectionMatrix=(1.0, 0.0, 0.0, 0.0, 0.0, 1.0, 0.0, 0.0, 0.0, 0.0, 1.0, 0.0, 0.0, 0.0, 0.0, 1.0), quaternion=(0.0, 0.0, 0.0, 1.0), rotation=(0.0, 0.0, 0.0, 'XYZ'), scale=(1.0, 1.0, 1.0), up=(0.0, 1.0, 0.0)), target=(0.0, 0.0, 0.0)),\n",
       " 'pythree_example_model_048': Layout(),\n",
       " 'pythree_example_model_049': WebGLShadowMap(),\n",
       " 'pythree_example_model_047': Renderer(camera=PerspectiveCamera(children=(DirectionalLight(color='white', intensity=0.5, position=(3.0, 5.0, 1.0), quaternion=(0.0, 0.0, 0.0, 1.0), rotation=(0.0, 0.0, 0.0, 'XYZ'), scale=(1.0, 1.0, 1.0), up=(0.0, 1.0, 0.0)),), position=(0.0, 5.0, 5.0), projectionMatrix=(1.0, 0.0, 0.0, 0.0, 0.0, 1.0, 0.0, 0.0, 0.0, 0.0, 1.0, 0.0, 0.0, 0.0, 0.0, 1.0), quaternion=(0.0, 0.0, 0.0, 1.0), rotation=(0.0, 0.0, 0.0, 'XYZ'), scale=(1.0, 1.0, 1.0), up=(0.0, 1.0, 0.0)), controls=[OrbitControls(controlling=PerspectiveCamera(children=(DirectionalLight(color='white', intensity=0.5, position=(3.0, 5.0, 1.0), quaternion=(0.0, 0.0, 0.0, 1.0), rotation=(0.0, 0.0, 0.0, 'XYZ'), scale=(1.0, 1.0, 1.0), up=(0.0, 1.0, 0.0)),), position=(0.0, 5.0, 5.0), projectionMatrix=(1.0, 0.0, 0.0, 0.0, 0.0, 1.0, 0.0, 0.0, 0.0, 0.0, 1.0, 0.0, 0.0, 0.0, 0.0, 1.0), quaternion=(0.0, 0.0, 0.0, 1.0), rotation=(0.0, 0.0, 0.0, 'XYZ'), scale=(1.0, 1.0, 1.0), up=(0.0, 1.0, 0.0)), target=(0.0, 0.0, 0.0))], scene=Scene(children=(Mesh(geometry=SphereGeometry(heightSegments=24, widthSegments=32), material=MeshLambertMaterial(alphaMap=None, aoMap=None, color='red', emissiveMap=None, envMap=None, lightMap=None, map=None, specularMap=None), position=(2.0, 1.0, 0.0), quaternion=(0.0, 0.0, 0.0, 1.0), rotation=(0.0, 0.0, 0.0, 'XYZ'), scale=(1.0, 1.0, 1.0), up=(0.0, 1.0, 0.0)), PerspectiveCamera(children=(DirectionalLight(color='white', intensity=0.5, position=(3.0, 5.0, 1.0), quaternion=(0.0, 0.0, 0.0, 1.0), rotation=(0.0, 0.0, 0.0, 'XYZ'), scale=(1.0, 1.0, 1.0), up=(0.0, 1.0, 0.0)),), position=(0.0, 5.0, 5.0), projectionMatrix=(1.0, 0.0, 0.0, 0.0, 0.0, 1.0, 0.0, 0.0, 0.0, 0.0, 1.0, 0.0, 0.0, 0.0, 0.0, 1.0), quaternion=(0.0, 0.0, 0.0, 1.0), rotation=(0.0, 0.0, 0.0, 'XYZ'), scale=(1.0, 1.0, 1.0), up=(0.0, 1.0, 0.0)), AmbientLight(color='#777777', position=(0.0, 0.0, 0.0), quaternion=(0.0, 0.0, 0.0, 1.0), rotation=(0.0, 0.0, 0.0, 'XYZ'), scale=(1.0, 1.0, 1.0), up=(0.0, 1.0, 0.0))), fog=None, overrideMaterial=None, position=(0.0, 0.0, 0.0), quaternion=(0.0, 0.0, 0.0, 1.0), rotation=(0.0, 0.0, 0.0, 'XYZ'), scale=(1.0, 1.0, 1.0), up=(0.0, 1.0, 0.0)), shadowMap=WebGLShadowMap()),\n",
       " 'pythree_example_model_050': SphereGeometry(heightSegments=24, widthSegments=32),\n",
       " 'pythree_example_model_051': MeshLambertMaterial(alphaMap=None, aoMap=None, color='red', emissiveMap=None, envMap=None, lightMap=None, map=None, specularMap=None),\n",
       " 'pythree_example_model_052': Mesh(geometry=SphereGeometry(heightSegments=24, widthSegments=32), material=MeshLambertMaterial(alphaMap=None, aoMap=None, color='red', emissiveMap=None, envMap=None, lightMap=None, map=None, specularMap=None), position=(2.0, 1.0, 0.0), quaternion=(0.0, 0.0, 0.0, 1.0), rotation=(0.0, 0.0, 0.0, 'XYZ'), scale=(1.0, 1.0, 1.0), up=(0.0, 1.0, 0.0)),\n",
       " 'pythree_example_model_053': DirectionalLight(color='white', intensity=0.5, position=(3.0, 5.0, 1.0), quaternion=(0.0, 0.0, 0.0, 1.0), rotation=(0.0, 0.0, 0.0, 'XYZ'), scale=(1.0, 1.0, 1.0), up=(0.0, 1.0, 0.0)),\n",
       " 'pythree_example_model_054': PerspectiveCamera(children=(DirectionalLight(color='white', intensity=0.5, position=(3.0, 5.0, 1.0), quaternion=(0.0, 0.0, 0.0, 1.0), rotation=(0.0, 0.0, 0.0, 'XYZ'), scale=(1.0, 1.0, 1.0), up=(0.0, 1.0, 0.0)),), position=(0.0, 5.0, 5.0), projectionMatrix=(1.0, 0.0, 0.0, 0.0, 0.0, 1.0, 0.0, 0.0, 0.0, 0.0, 1.0, 0.0, 0.0, 0.0, 0.0, 1.0), quaternion=(0.0, 0.0, 0.0, 1.0), rotation=(0.0, 0.0, 0.0, 'XYZ'), scale=(1.0, 1.0, 1.0), up=(0.0, 1.0, 0.0)),\n",
       " 'pythree_example_model_055': AmbientLight(color='#777777', position=(0.0, 0.0, 0.0), quaternion=(0.0, 0.0, 0.0, 1.0), rotation=(0.0, 0.0, 0.0, 'XYZ'), scale=(1.0, 1.0, 1.0), up=(0.0, 1.0, 0.0)),\n",
       " 'pythree_example_model_056': Scene(children=(Mesh(geometry=SphereGeometry(heightSegments=24, widthSegments=32), material=MeshLambertMaterial(alphaMap=None, aoMap=None, color='red', emissiveMap=None, envMap=None, lightMap=None, map=None, specularMap=None), position=(2.0, 1.0, 0.0), quaternion=(0.0, 0.0, 0.0, 1.0), rotation=(0.0, 0.0, 0.0, 'XYZ'), scale=(1.0, 1.0, 1.0), up=(0.0, 1.0, 0.0)), PerspectiveCamera(children=(DirectionalLight(color='white', intensity=0.5, position=(3.0, 5.0, 1.0), quaternion=(0.0, 0.0, 0.0, 1.0), rotation=(0.0, 0.0, 0.0, 'XYZ'), scale=(1.0, 1.0, 1.0), up=(0.0, 1.0, 0.0)),), position=(0.0, 5.0, 5.0), projectionMatrix=(1.0, 0.0, 0.0, 0.0, 0.0, 1.0, 0.0, 0.0, 0.0, 0.0, 1.0, 0.0, 0.0, 0.0, 0.0, 1.0), quaternion=(0.0, 0.0, 0.0, 1.0), rotation=(0.0, 0.0, 0.0, 'XYZ'), scale=(1.0, 1.0, 1.0), up=(0.0, 1.0, 0.0)), AmbientLight(color='#777777', position=(0.0, 0.0, 0.0), quaternion=(0.0, 0.0, 0.0, 1.0), rotation=(0.0, 0.0, 0.0, 'XYZ'), scale=(1.0, 1.0, 1.0), up=(0.0, 1.0, 0.0))), fog=None, overrideMaterial=None, position=(0.0, 0.0, 0.0), quaternion=(0.0, 0.0, 0.0, 1.0), rotation=(0.0, 0.0, 0.0, 'XYZ'), scale=(1.0, 1.0, 1.0), up=(0.0, 1.0, 0.0)),\n",
       " 'pythree_example_model_057': OrbitControls(controlling=PerspectiveCamera(children=(DirectionalLight(color='white', intensity=0.5, position=(3.0, 5.0, 1.0), quaternion=(0.0, 0.0, 0.0, 1.0), rotation=(0.0, 0.0, 0.0, 'XYZ'), scale=(1.0, 1.0, 1.0), up=(0.0, 1.0, 0.0)),), position=(0.0, 5.0, 5.0), projectionMatrix=(1.0, 0.0, 0.0, 0.0, 0.0, 1.0, 0.0, 0.0, 0.0, 0.0, 1.0, 0.0, 0.0, 0.0, 0.0, 1.0), quaternion=(0.0, 0.0, 0.0, 1.0), rotation=(0.0, 0.0, 0.0, 'XYZ'), scale=(1.0, 1.0, 1.0), up=(0.0, 1.0, 0.0)), target=(0.0, 0.0, 0.0)),\n",
       " 'pythree_example_model_059': Layout(),\n",
       " 'pythree_example_model_060': WebGLShadowMap(),\n",
       " 'pythree_example_model_058': Renderer(camera=PerspectiveCamera(children=(DirectionalLight(color='white', intensity=0.5, position=(3.0, 5.0, 1.0), quaternion=(0.0, 0.0, 0.0, 1.0), rotation=(0.0, 0.0, 0.0, 'XYZ'), scale=(1.0, 1.0, 1.0), up=(0.0, 1.0, 0.0)),), position=(0.0, 5.0, 5.0), projectionMatrix=(1.0, 0.0, 0.0, 0.0, 0.0, 1.0, 0.0, 0.0, 0.0, 0.0, 1.0, 0.0, 0.0, 0.0, 0.0, 1.0), quaternion=(0.0, 0.0, 0.0, 1.0), rotation=(0.0, 0.0, 0.0, 'XYZ'), scale=(1.0, 1.0, 1.0), up=(0.0, 1.0, 0.0)), controls=[OrbitControls(controlling=PerspectiveCamera(children=(DirectionalLight(color='white', intensity=0.5, position=(3.0, 5.0, 1.0), quaternion=(0.0, 0.0, 0.0, 1.0), rotation=(0.0, 0.0, 0.0, 'XYZ'), scale=(1.0, 1.0, 1.0), up=(0.0, 1.0, 0.0)),), position=(0.0, 5.0, 5.0), projectionMatrix=(1.0, 0.0, 0.0, 0.0, 0.0, 1.0, 0.0, 0.0, 0.0, 0.0, 1.0, 0.0, 0.0, 0.0, 0.0, 1.0), quaternion=(0.0, 0.0, 0.0, 1.0), rotation=(0.0, 0.0, 0.0, 'XYZ'), scale=(1.0, 1.0, 1.0), up=(0.0, 1.0, 0.0)), target=(0.0, 0.0, 0.0))], scene=Scene(children=(Mesh(geometry=SphereGeometry(heightSegments=24, widthSegments=32), material=MeshLambertMaterial(alphaMap=None, aoMap=None, color='red', emissiveMap=None, envMap=None, lightMap=None, map=None, specularMap=None), position=(2.0, 1.0, 0.0), quaternion=(0.0, 0.0, 0.0, 1.0), rotation=(0.0, 0.0, 0.0, 'XYZ'), scale=(1.0, 1.0, 1.0), up=(0.0, 1.0, 0.0)), PerspectiveCamera(children=(DirectionalLight(color='white', intensity=0.5, position=(3.0, 5.0, 1.0), quaternion=(0.0, 0.0, 0.0, 1.0), rotation=(0.0, 0.0, 0.0, 'XYZ'), scale=(1.0, 1.0, 1.0), up=(0.0, 1.0, 0.0)),), position=(0.0, 5.0, 5.0), projectionMatrix=(1.0, 0.0, 0.0, 0.0, 0.0, 1.0, 0.0, 0.0, 0.0, 0.0, 1.0, 0.0, 0.0, 0.0, 0.0, 1.0), quaternion=(0.0, 0.0, 0.0, 1.0), rotation=(0.0, 0.0, 0.0, 'XYZ'), scale=(1.0, 1.0, 1.0), up=(0.0, 1.0, 0.0)), AmbientLight(color='#777777', position=(0.0, 0.0, 0.0), quaternion=(0.0, 0.0, 0.0, 1.0), rotation=(0.0, 0.0, 0.0, 'XYZ'), scale=(1.0, 1.0, 1.0), up=(0.0, 1.0, 0.0))), fog=None, overrideMaterial=None, position=(0.0, 0.0, 0.0), quaternion=(0.0, 0.0, 0.0, 1.0), rotation=(0.0, 0.0, 0.0, 'XYZ'), scale=(1.0, 1.0, 1.0), up=(0.0, 1.0, 0.0)), shadowMap=WebGLShadowMap()),\n",
       " 'pythree_example_model_061': SphereGeometry(heightSegments=24, widthSegments=32),\n",
       " 'pythree_example_model_062': MeshLambertMaterial(alphaMap=None, aoMap=None, color='red', emissiveMap=None, envMap=None, lightMap=None, map=None, specularMap=None),\n",
       " 'pythree_example_model_063': Mesh(geometry=SphereGeometry(heightSegments=24, widthSegments=32), material=MeshLambertMaterial(alphaMap=None, aoMap=None, color='red', emissiveMap=None, envMap=None, lightMap=None, map=None, specularMap=None), position=(2.0, 1.0, 0.0), quaternion=(0.0, 0.0, 0.0, 1.0), rotation=(0.0, 0.0, 0.0, 'XYZ'), scale=(0.5, 0.5, 0.5), up=(0.0, 1.0, 0.0)),\n",
       " 'pythree_example_model_064': DirectionalLight(color='white', intensity=0.5, position=(3.0, 5.0, 1.0), quaternion=(0.0, 0.0, 0.0, 1.0), rotation=(0.0, 0.0, 0.0, 'XYZ'), scale=(1.0, 1.0, 1.0), up=(0.0, 1.0, 0.0)),\n",
       " 'pythree_example_model_065': PerspectiveCamera(children=(DirectionalLight(color='white', intensity=0.5, position=(3.0, 5.0, 1.0), quaternion=(0.0, 0.0, 0.0, 1.0), rotation=(0.0, 0.0, 0.0, 'XYZ'), scale=(1.0, 1.0, 1.0), up=(0.0, 1.0, 0.0)),), position=(0.0, 5.0, 5.0), projectionMatrix=(1.0, 0.0, 0.0, 0.0, 0.0, 1.0, 0.0, 0.0, 0.0, 0.0, 1.0, 0.0, 0.0, 0.0, 0.0, 1.0), quaternion=(0.0, 0.0, 0.0, 1.0), rotation=(0.0, 0.0, 0.0, 'XYZ'), scale=(1.0, 1.0, 1.0), up=(0.0, 1.0, 0.0)),\n",
       " 'pythree_example_model_066': AmbientLight(color='#777777', position=(0.0, 0.0, 0.0), quaternion=(0.0, 0.0, 0.0, 1.0), rotation=(0.0, 0.0, 0.0, 'XYZ'), scale=(1.0, 1.0, 1.0), up=(0.0, 1.0, 0.0)),\n",
       " 'pythree_example_model_067': Scene(children=(Mesh(geometry=SphereGeometry(heightSegments=24, widthSegments=32), material=MeshLambertMaterial(alphaMap=None, aoMap=None, color='red', emissiveMap=None, envMap=None, lightMap=None, map=None, specularMap=None), position=(2.0, 1.0, 0.0), quaternion=(0.0, 0.0, 0.0, 1.0), rotation=(0.0, 0.0, 0.0, 'XYZ'), scale=(0.5, 0.5, 0.5), up=(0.0, 1.0, 0.0)), PerspectiveCamera(children=(DirectionalLight(color='white', intensity=0.5, position=(3.0, 5.0, 1.0), quaternion=(0.0, 0.0, 0.0, 1.0), rotation=(0.0, 0.0, 0.0, 'XYZ'), scale=(1.0, 1.0, 1.0), up=(0.0, 1.0, 0.0)),), position=(0.0, 5.0, 5.0), projectionMatrix=(1.0, 0.0, 0.0, 0.0, 0.0, 1.0, 0.0, 0.0, 0.0, 0.0, 1.0, 0.0, 0.0, 0.0, 0.0, 1.0), quaternion=(0.0, 0.0, 0.0, 1.0), rotation=(0.0, 0.0, 0.0, 'XYZ'), scale=(1.0, 1.0, 1.0), up=(0.0, 1.0, 0.0)), AmbientLight(color='#777777', position=(0.0, 0.0, 0.0), quaternion=(0.0, 0.0, 0.0, 1.0), rotation=(0.0, 0.0, 0.0, 'XYZ'), scale=(1.0, 1.0, 1.0), up=(0.0, 1.0, 0.0))), fog=None, overrideMaterial=None, position=(0.0, 0.0, 0.0), quaternion=(0.0, 0.0, 0.0, 1.0), rotation=(0.0, 0.0, 0.0, 'XYZ'), scale=(1.0, 1.0, 1.0), up=(0.0, 1.0, 0.0)),\n",
       " 'pythree_example_model_068': OrbitControls(controlling=PerspectiveCamera(children=(DirectionalLight(color='white', intensity=0.5, position=(3.0, 5.0, 1.0), quaternion=(0.0, 0.0, 0.0, 1.0), rotation=(0.0, 0.0, 0.0, 'XYZ'), scale=(1.0, 1.0, 1.0), up=(0.0, 1.0, 0.0)),), position=(0.0, 5.0, 5.0), projectionMatrix=(1.0, 0.0, 0.0, 0.0, 0.0, 1.0, 0.0, 0.0, 0.0, 0.0, 1.0, 0.0, 0.0, 0.0, 0.0, 1.0), quaternion=(0.0, 0.0, 0.0, 1.0), rotation=(0.0, 0.0, 0.0, 'XYZ'), scale=(1.0, 1.0, 1.0), up=(0.0, 1.0, 0.0)), target=(0.0, 0.0, 0.0)),\n",
       " 'pythree_example_model_070': Layout(),\n",
       " 'pythree_example_model_071': WebGLShadowMap(),\n",
       " 'pythree_example_model_069': Renderer(camera=PerspectiveCamera(children=(DirectionalLight(color='white', intensity=0.5, position=(3.0, 5.0, 1.0), quaternion=(0.0, 0.0, 0.0, 1.0), rotation=(0.0, 0.0, 0.0, 'XYZ'), scale=(1.0, 1.0, 1.0), up=(0.0, 1.0, 0.0)),), position=(0.0, 5.0, 5.0), projectionMatrix=(1.0, 0.0, 0.0, 0.0, 0.0, 1.0, 0.0, 0.0, 0.0, 0.0, 1.0, 0.0, 0.0, 0.0, 0.0, 1.0), quaternion=(0.0, 0.0, 0.0, 1.0), rotation=(0.0, 0.0, 0.0, 'XYZ'), scale=(1.0, 1.0, 1.0), up=(0.0, 1.0, 0.0)), controls=[OrbitControls(controlling=PerspectiveCamera(children=(DirectionalLight(color='white', intensity=0.5, position=(3.0, 5.0, 1.0), quaternion=(0.0, 0.0, 0.0, 1.0), rotation=(0.0, 0.0, 0.0, 'XYZ'), scale=(1.0, 1.0, 1.0), up=(0.0, 1.0, 0.0)),), position=(0.0, 5.0, 5.0), projectionMatrix=(1.0, 0.0, 0.0, 0.0, 0.0, 1.0, 0.0, 0.0, 0.0, 0.0, 1.0, 0.0, 0.0, 0.0, 0.0, 1.0), quaternion=(0.0, 0.0, 0.0, 1.0), rotation=(0.0, 0.0, 0.0, 'XYZ'), scale=(1.0, 1.0, 1.0), up=(0.0, 1.0, 0.0)), target=(0.0, 0.0, 0.0))], scene=Scene(children=(Mesh(geometry=SphereGeometry(heightSegments=24, widthSegments=32), material=MeshLambertMaterial(alphaMap=None, aoMap=None, color='red', emissiveMap=None, envMap=None, lightMap=None, map=None, specularMap=None), position=(2.0, 1.0, 0.0), quaternion=(0.0, 0.0, 0.0, 1.0), rotation=(0.0, 0.0, 0.0, 'XYZ'), scale=(0.5, 0.5, 0.5), up=(0.0, 1.0, 0.0)), PerspectiveCamera(children=(DirectionalLight(color='white', intensity=0.5, position=(3.0, 5.0, 1.0), quaternion=(0.0, 0.0, 0.0, 1.0), rotation=(0.0, 0.0, 0.0, 'XYZ'), scale=(1.0, 1.0, 1.0), up=(0.0, 1.0, 0.0)),), position=(0.0, 5.0, 5.0), projectionMatrix=(1.0, 0.0, 0.0, 0.0, 0.0, 1.0, 0.0, 0.0, 0.0, 0.0, 1.0, 0.0, 0.0, 0.0, 0.0, 1.0), quaternion=(0.0, 0.0, 0.0, 1.0), rotation=(0.0, 0.0, 0.0, 'XYZ'), scale=(1.0, 1.0, 1.0), up=(0.0, 1.0, 0.0)), AmbientLight(color='#777777', position=(0.0, 0.0, 0.0), quaternion=(0.0, 0.0, 0.0, 1.0), rotation=(0.0, 0.0, 0.0, 'XYZ'), scale=(1.0, 1.0, 1.0), up=(0.0, 1.0, 0.0))), fog=None, overrideMaterial=None, position=(0.0, 0.0, 0.0), quaternion=(0.0, 0.0, 0.0, 1.0), rotation=(0.0, 0.0, 0.0, 'XYZ'), scale=(1.0, 1.0, 1.0), up=(0.0, 1.0, 0.0)), shadowMap=WebGLShadowMap()),\n",
       " 'pythree_example_model_072': Geometry(colors=['#000000', '#0000ff', '#00ff00', '#ff0000', '#00ffff', '#ff00ff', '#ffff00', '#ffffff'], faces=((0, 1, 3, None, ('#000000', '#0000ff', '#ff0000'), None), (0, 3, 2, None, ('#000000', '#ff0000', '#00ff00'), None), (0, 2, 4, None, ('#000000', '#00ff00', '#00ffff'), None), (2, 6, 4, None, ('#00ff00', '#ffff00', '#00ffff'), None), (0, 4, 1, None, ('#000000', '#00ffff', '#0000ff'), None), (1, 4, 5, None, ('#0000ff', '#00ffff', '#ff00ff'), None), (2, 3, 6, None, ('#00ff00', '#ff0000', '#ffff00'), None), (3, 7, 6, None, ('#ff0000', '#ffffff', '#ffff00'), None), (1, 5, 3, None, ('#0000ff', '#ff00ff', '#ff0000'), None), (3, 5, 7, None, ('#ff0000', '#ff00ff', '#ffffff'), None), (4, 6, 5, None, ('#00ffff', '#ffff00', '#ff00ff'), None), (5, 6, 7, None, ('#ff00ff', '#ffff00', '#ffffff'), None)), vertices=[[0, 0, 0], [0, 0, 1], [0, 1, 0], [0, 1, 1], [1, 0, 0], [1, 0, 1], [1, 1, 0], [1, 1, 1]]),\n",
       " 'pythree_example_model_073': MeshLambertMaterial(alphaMap=None, aoMap=None, emissiveMap=None, envMap=None, lightMap=None, map=None, specularMap=None, vertexColors='VertexColors'),\n",
       " 'pythree_example_model_074': Mesh(geometry=Geometry(colors=['#000000', '#0000ff', '#00ff00', '#ff0000', '#00ffff', '#ff00ff', '#ffff00', '#ffffff'], faces=((0, 1, 3, None, ('#000000', '#0000ff', '#ff0000'), None), (0, 3, 2, None, ('#000000', '#ff0000', '#00ff00'), None), (0, 2, 4, None, ('#000000', '#00ff00', '#00ffff'), None), (2, 6, 4, None, ('#00ff00', '#ffff00', '#00ffff'), None), (0, 4, 1, None, ('#000000', '#00ffff', '#0000ff'), None), (1, 4, 5, None, ('#0000ff', '#00ffff', '#ff00ff'), None), (2, 3, 6, None, ('#00ff00', '#ff0000', '#ffff00'), None), (3, 7, 6, None, ('#ff0000', '#ffffff', '#ffff00'), None), (1, 5, 3, None, ('#0000ff', '#ff00ff', '#ff0000'), None), (3, 5, 7, None, ('#ff0000', '#ff00ff', '#ffffff'), None), (4, 6, 5, None, ('#00ffff', '#ffff00', '#ff00ff'), None), (5, 6, 7, None, ('#ff00ff', '#ffff00', '#ffffff'), None)), vertices=[[0, 0, 0], [0, 0, 1], [0, 1, 0], [0, 1, 1], [1, 0, 0], [1, 0, 1], [1, 1, 0], [1, 1, 1]]), material=MeshLambertMaterial(alphaMap=None, aoMap=None, emissiveMap=None, envMap=None, lightMap=None, map=None, specularMap=None, vertexColors='VertexColors'), position=(-0.5, -0.5, -0.5), quaternion=(0.0, 0.0, 0.0, 1.0), rotation=(0.0, 0.0, 0.0, 'XYZ'), scale=(1.0, 1.0, 1.0), up=(0.0, 1.0, 0.0)),\n",
       " 'pythree_example_model_075': DirectionalLight(intensity=0.5, position=(-3.0, 5.0, 1.0), quaternion=(0.0, 0.0, 0.0, 1.0), rotation=(0.0, 0.0, 0.0, 'XYZ'), scale=(1.0, 1.0, 1.0), up=(0.0, 1.0, 0.0)),\n",
       " 'pythree_example_model_076': PerspectiveCamera(children=(DirectionalLight(intensity=0.5, position=(-3.0, 5.0, 1.0), quaternion=(0.0, 0.0, 0.0, 1.0), rotation=(0.0, 0.0, 0.0, 'XYZ'), scale=(1.0, 1.0, 1.0), up=(0.0, 1.0, 0.0)),), fov=20.0, position=(3.0, 3.0, 3.0), projectionMatrix=(1.0, 0.0, 0.0, 0.0, 0.0, 1.0, 0.0, 0.0, 0.0, 0.0, 1.0, 0.0, 0.0, 0.0, 0.0, 1.0), quaternion=(0.0, 0.0, 0.0, 1.0), rotation=(0.0, 0.0, 0.0, 'XYZ'), scale=(1.0, 1.0, 1.0), up=(0.0, 1.0, 0.0)),\n",
       " 'pythree_example_model_077': AmbientLight(color='#dddddd', position=(0.0, 0.0, 0.0), quaternion=(0.0, 0.0, 0.0, 1.0), rotation=(0.0, 0.0, 0.0, 'XYZ'), scale=(1.0, 1.0, 1.0), up=(0.0, 1.0, 0.0)),\n",
       " 'pythree_example_model_078': Scene(children=(Mesh(geometry=Geometry(colors=['#000000', '#0000ff', '#00ff00', '#ff0000', '#00ffff', '#ff00ff', '#ffff00', '#ffffff'], faces=((0, 1, 3, None, ('#000000', '#0000ff', '#ff0000'), None), (0, 3, 2, None, ('#000000', '#ff0000', '#00ff00'), None), (0, 2, 4, None, ('#000000', '#00ff00', '#00ffff'), None), (2, 6, 4, None, ('#00ff00', '#ffff00', '#00ffff'), None), (0, 4, 1, None, ('#000000', '#00ffff', '#0000ff'), None), (1, 4, 5, None, ('#0000ff', '#00ffff', '#ff00ff'), None), (2, 3, 6, None, ('#00ff00', '#ff0000', '#ffff00'), None), (3, 7, 6, None, ('#ff0000', '#ffffff', '#ffff00'), None), (1, 5, 3, None, ('#0000ff', '#ff00ff', '#ff0000'), None), (3, 5, 7, None, ('#ff0000', '#ff00ff', '#ffffff'), None), (4, 6, 5, None, ('#00ffff', '#ffff00', '#ff00ff'), None), (5, 6, 7, None, ('#ff00ff', '#ffff00', '#ffffff'), None)), vertices=[[0, 0, 0], [0, 0, 1], [0, 1, 0], [0, 1, 1], [1, 0, 0], [1, 0, 1], [1, 1, 0], [1, 1, 1]]), material=MeshLambertMaterial(alphaMap=None, aoMap=None, emissiveMap=None, envMap=None, lightMap=None, map=None, specularMap=None, vertexColors='VertexColors'), position=(-0.5, -0.5, -0.5), quaternion=(0.0, 0.0, 0.0, 1.0), rotation=(0.0, 0.0, 0.0, 'XYZ'), scale=(1.0, 1.0, 1.0), up=(0.0, 1.0, 0.0)), PerspectiveCamera(children=(DirectionalLight(intensity=0.5, position=(-3.0, 5.0, 1.0), quaternion=(0.0, 0.0, 0.0, 1.0), rotation=(0.0, 0.0, 0.0, 'XYZ'), scale=(1.0, 1.0, 1.0), up=(0.0, 1.0, 0.0)),), fov=20.0, position=(3.0, 3.0, 3.0), projectionMatrix=(1.0, 0.0, 0.0, 0.0, 0.0, 1.0, 0.0, 0.0, 0.0, 0.0, 1.0, 0.0, 0.0, 0.0, 0.0, 1.0), quaternion=(0.0, 0.0, 0.0, 1.0), rotation=(0.0, 0.0, 0.0, 'XYZ'), scale=(1.0, 1.0, 1.0), up=(0.0, 1.0, 0.0)), AmbientLight(color='#dddddd', position=(0.0, 0.0, 0.0), quaternion=(0.0, 0.0, 0.0, 1.0), rotation=(0.0, 0.0, 0.0, 'XYZ'), scale=(1.0, 1.0, 1.0), up=(0.0, 1.0, 0.0))), fog=None, overrideMaterial=None, position=(0.0, 0.0, 0.0), quaternion=(0.0, 0.0, 0.0, 1.0), rotation=(0.0, 0.0, 0.0, 'XYZ'), scale=(1.0, 1.0, 1.0), up=(0.0, 1.0, 0.0)),\n",
       " 'pythree_example_model_079': OrbitControls(controlling=PerspectiveCamera(children=(DirectionalLight(intensity=0.5, position=(-3.0, 5.0, 1.0), quaternion=(0.0, 0.0, 0.0, 1.0), rotation=(0.0, 0.0, 0.0, 'XYZ'), scale=(1.0, 1.0, 1.0), up=(0.0, 1.0, 0.0)),), fov=20.0, position=(3.0, 3.0, 3.0), projectionMatrix=(1.0, 0.0, 0.0, 0.0, 0.0, 1.0, 0.0, 0.0, 0.0, 0.0, 1.0, 0.0, 0.0, 0.0, 0.0, 1.0), quaternion=(0.0, 0.0, 0.0, 1.0), rotation=(0.0, 0.0, 0.0, 'XYZ'), scale=(1.0, 1.0, 1.0), up=(0.0, 1.0, 0.0)), target=(0.0, 0.0, 0.0)),\n",
       " 'pythree_example_model_081': Layout(),\n",
       " 'pythree_example_model_082': WebGLShadowMap(),\n",
       " 'pythree_example_model_080': Renderer(camera=PerspectiveCamera(children=(DirectionalLight(intensity=0.5, position=(-3.0, 5.0, 1.0), quaternion=(0.0, 0.0, 0.0, 1.0), rotation=(0.0, 0.0, 0.0, 'XYZ'), scale=(1.0, 1.0, 1.0), up=(0.0, 1.0, 0.0)),), fov=20.0, position=(3.0, 3.0, 3.0), projectionMatrix=(1.0, 0.0, 0.0, 0.0, 0.0, 1.0, 0.0, 0.0, 0.0, 0.0, 1.0, 0.0, 0.0, 0.0, 0.0, 1.0), quaternion=(0.0, 0.0, 0.0, 1.0), rotation=(0.0, 0.0, 0.0, 'XYZ'), scale=(1.0, 1.0, 1.0), up=(0.0, 1.0, 0.0)), controls=[OrbitControls(controlling=PerspectiveCamera(children=(DirectionalLight(intensity=0.5, position=(-3.0, 5.0, 1.0), quaternion=(0.0, 0.0, 0.0, 1.0), rotation=(0.0, 0.0, 0.0, 'XYZ'), scale=(1.0, 1.0, 1.0), up=(0.0, 1.0, 0.0)),), fov=20.0, position=(3.0, 3.0, 3.0), projectionMatrix=(1.0, 0.0, 0.0, 0.0, 0.0, 1.0, 0.0, 0.0, 0.0, 0.0, 1.0, 0.0, 0.0, 0.0, 0.0, 1.0), quaternion=(0.0, 0.0, 0.0, 1.0), rotation=(0.0, 0.0, 0.0, 'XYZ'), scale=(1.0, 1.0, 1.0), up=(0.0, 1.0, 0.0)), target=(0.0, 0.0, 0.0))], scene=Scene(children=(Mesh(geometry=Geometry(colors=['#000000', '#0000ff', '#00ff00', '#ff0000', '#00ffff', '#ff00ff', '#ffff00', '#ffffff'], faces=((0, 1, 3, None, ('#000000', '#0000ff', '#ff0000'), None), (0, 3, 2, None, ('#000000', '#ff0000', '#00ff00'), None), (0, 2, 4, None, ('#000000', '#00ff00', '#00ffff'), None), (2, 6, 4, None, ('#00ff00', '#ffff00', '#00ffff'), None), (0, 4, 1, None, ('#000000', '#00ffff', '#0000ff'), None), (1, 4, 5, None, ('#0000ff', '#00ffff', '#ff00ff'), None), (2, 3, 6, None, ('#00ff00', '#ff0000', '#ffff00'), None), (3, 7, 6, None, ('#ff0000', '#ffffff', '#ffff00'), None), (1, 5, 3, None, ('#0000ff', '#ff00ff', '#ff0000'), None), (3, 5, 7, None, ('#ff0000', '#ff00ff', '#ffffff'), None), (4, 6, 5, None, ('#00ffff', '#ffff00', '#ff00ff'), None), (5, 6, 7, None, ('#ff00ff', '#ffff00', '#ffffff'), None)), vertices=[[0, 0, 0], [0, 0, 1], [0, 1, 0], [0, 1, 1], [1, 0, 0], [1, 0, 1], [1, 1, 0], [1, 1, 1]]), material=MeshLambertMaterial(alphaMap=None, aoMap=None, emissiveMap=None, envMap=None, lightMap=None, map=None, specularMap=None, vertexColors='VertexColors'), position=(-0.5, -0.5, -0.5), quaternion=(0.0, 0.0, 0.0, 1.0), rotation=(0.0, 0.0, 0.0, 'XYZ'), scale=(1.0, 1.0, 1.0), up=(0.0, 1.0, 0.0)), PerspectiveCamera(children=(DirectionalLight(intensity=0.5, position=(-3.0, 5.0, 1.0), quaternion=(0.0, 0.0, 0.0, 1.0), rotation=(0.0, 0.0, 0.0, 'XYZ'), scale=(1.0, 1.0, 1.0), up=(0.0, 1.0, 0.0)),), fov=20.0, position=(3.0, 3.0, 3.0), projectionMatrix=(1.0, 0.0, 0.0, 0.0, 0.0, 1.0, 0.0, 0.0, 0.0, 0.0, 1.0, 0.0, 0.0, 0.0, 0.0, 1.0), quaternion=(0.0, 0.0, 0.0, 1.0), rotation=(0.0, 0.0, 0.0, 'XYZ'), scale=(1.0, 1.0, 1.0), up=(0.0, 1.0, 0.0)), AmbientLight(color='#dddddd', position=(0.0, 0.0, 0.0), quaternion=(0.0, 0.0, 0.0, 1.0), rotation=(0.0, 0.0, 0.0, 'XYZ'), scale=(1.0, 1.0, 1.0), up=(0.0, 1.0, 0.0))), fog=None, overrideMaterial=None, position=(0.0, 0.0, 0.0), quaternion=(0.0, 0.0, 0.0, 1.0), rotation=(0.0, 0.0, 0.0, 'XYZ'), scale=(1.0, 1.0, 1.0), up=(0.0, 1.0, 0.0)), shadowMap=WebGLShadowMap()),\n",
       " 'pythree_example_model_084': Layout(),\n",
       " 'pythree_example_model_085': SliderStyle(),\n",
       " 'pythree_example_model_083': FloatSlider(value=0.05, description='Raio:', max=0.5, min=0.01, readout_format='.1f', step=0.01)}"
      ]
     },
     "execution_count": 25,
     "metadata": {},
     "output_type": "execute_result"
    }
   ],
   "source": [
    "slider.widgets"
   ]
  },
  {
   "cell_type": "code",
   "execution_count": 26,
   "id": "35533cfb",
   "metadata": {},
   "outputs": [
    {
     "data": {
      "text/plain": [
       "'Display a Python object in all frontends.\\n\\n    By default all representations will be computed and sent to the frontends.\\n    Frontends can decide which representation is used and how.\\n\\n    In terminal IPython this will be similar to using :func:`print`, for use in richer\\n    frontends see Jupyter notebook examples with rich display logic.\\n\\n    Parameters\\n    ----------\\n    *objs : object\\n        The Python objects to display.\\n    raw : bool, optional\\n        Are the objects to be displayed already mimetype-keyed dicts of raw display data,\\n        or Python objects that need to be formatted before display? [default: False]\\n    include : list, tuple or set, optional\\n        A list of format type strings (MIME types) to include in the\\n        format data dict. If this is set *only* the format types included\\n        in this list will be computed.\\n    exclude : list, tuple or set, optional\\n        A list of format type strings (MIME types) to exclude in the format\\n        data dict. If this is set all format types will be computed,\\n        except for those included in this argument.\\n    metadata : dict, optional\\n        A dictionary of metadata to associate with the output.\\n        mime-type keys in this dictionary will be associated with the individual\\n        representation formats, if they exist.\\n    transient : dict, optional\\n        A dictionary of transient data to associate with the output.\\n        Data in this dict should not be persisted to files (e.g. notebooks).\\n    display_id : str, bool optional\\n        Set an id for the display.\\n        This id can be used for updating this display area later via update_display.\\n        If given as `True`, generate a new `display_id`\\n    clear : bool, optional\\n        Should the output area be cleared before displaying anything? If True,\\n        this will wait for additional output before clearing. [default: False]\\n    **kwargs : additional keyword-args, optional\\n        Additional keyword-arguments are passed through to the display publisher.\\n\\n    Returns\\n    -------\\n    handle: DisplayHandle\\n        Returns a handle on updatable displays for use with :func:`update_display`,\\n        if `display_id` is given. Returns :any:`None` if no `display_id` is given\\n        (default).\\n\\n    Examples\\n    --------\\n    >>> class Json(object):\\n    ...     def __init__(self, json):\\n    ...         self.json = json\\n    ...     def _repr_pretty_(self, pp, cycle):\\n    ...         import json\\n    ...         pp.text(json.dumps(self.json, indent=2))\\n    ...     def __repr__(self):\\n    ...         return str(self.json)\\n    ...\\n\\n    >>> d = Json({1:2, 3: {4:5}})\\n\\n    >>> print(d)\\n    {1: 2, 3: {4: 5}}\\n\\n    >>> display(d)\\n    {\\n      \"1\": 2,\\n      \"3\": {\\n        \"4\": 5\\n      }\\n    }\\n\\n    >>> def int_formatter(integer, pp, cycle):\\n    ...     pp.text(\\'I\\'*integer)\\n\\n    >>> plain = get_ipython().display_formatter.formatters[\\'text/plain\\']\\n    >>> plain.for_type(int, int_formatter)\\n    <function _repr_pprint at 0x...>\\n    >>> display(7-5)\\n    II\\n\\n    >>> del plain.type_printers[int]\\n    >>> display(7-5)\\n    2\\n\\n    See Also\\n    --------\\n    :func:`update_display`\\n\\n    Notes\\n    -----\\n    In Python, objects can declare their textual representation using the\\n    `__repr__` method. IPython expands on this idea and allows objects to declare\\n    other, rich representations including:\\n\\n      - HTML\\n      - JSON\\n      - PNG\\n      - JPEG\\n      - SVG\\n      - LaTeX\\n\\n    A single object can declare some or all of these representations; all are\\n    handled by IPython\\'s display system.\\n\\n    The main idea of the first approach is that you have to implement special\\n    display methods when you define your class, one for each representation you\\n    want to use. Here is a list of the names of the special methods and the\\n    values they must return:\\n\\n      - `_repr_html_`: return raw HTML as a string, or a tuple (see below).\\n      - `_repr_json_`: return a JSONable dict, or a tuple (see below).\\n      - `_repr_jpeg_`: return raw JPEG data, or a tuple (see below).\\n      - `_repr_png_`: return raw PNG data, or a tuple (see below).\\n      - `_repr_svg_`: return raw SVG data as a string, or a tuple (see below).\\n      - `_repr_latex_`: return LaTeX commands in a string surrounded by \"$\",\\n                        or a tuple (see below).\\n      - `_repr_mimebundle_`: return a full mimebundle containing the mapping\\n                             from all mimetypes to data.\\n                             Use this for any mime-type not listed above.\\n\\n    The above functions may also return the object\\'s metadata alonside the\\n    data.  If the metadata is available, the functions will return a tuple\\n    containing the data and metadata, in that order.  If there is no metadata\\n    available, then the functions will return the data only.\\n\\n    When you are directly writing your own classes, you can adapt them for\\n    display in IPython by following the above approach. But in practice, you\\n    often need to work with existing classes that you can\\'t easily modify.\\n\\n    You can refer to the documentation on integrating with the display system in\\n    order to register custom formatters for already existing types\\n    (:ref:`integrating_rich_display`).\\n\\n    .. versionadded:: 5.4 display available without import\\n    .. versionadded:: 6.1 display available without import\\n\\n    Since IPython 5.4 and 6.1 :func:`display` is automatically made available to\\n    the user without import. If you are using display in a document that might\\n    be used in a pure python context or with older version of IPython, use the\\n    following import at the top of your file::\\n\\n        from IPython.display import display\\n\\n    '"
      ]
     },
     "execution_count": 26,
     "metadata": {},
     "output_type": "execute_result"
    }
   ],
   "source": [
    "display.__doc__"
   ]
  },
  {
   "cell_type": "code",
   "execution_count": 29,
   "id": "3b911fd7",
   "metadata": {},
   "outputs": [
    {
     "name": "stdout",
     "output_type": "stream",
     "text": [
      "Collecting ipycanvas\n",
      "  Downloading ipycanvas-0.12.0-py2.py3-none-any.whl (256 kB)\n",
      "\u001b[2K     \u001b[38;2;114;156;31m━━━━━━━━━━━━━━━━━━━━━━━━━━━━━━━━━━━━━━━\u001b[0m \u001b[32m256.3/256.3 kB\u001b[0m \u001b[31m1.3 MB/s\u001b[0m eta \u001b[36m0:00:00\u001b[0mm eta \u001b[36m0:00:01\u001b[0m0:01\u001b[0m:01\u001b[0m\n",
      "\u001b[?25hRequirement already satisfied: numpy in ./jupyter/lib/python3.8/site-packages (from ipycanvas) (1.23.0)\n",
      "Requirement already satisfied: ipywidgets>=7.6.0 in ./jupyter/lib/python3.8/site-packages (from ipycanvas) (7.7.1)\n",
      "Requirement already satisfied: pillow>=6.0 in ./jupyter/lib/python3.8/site-packages (from ipycanvas) (9.1.1)\n",
      "Requirement already satisfied: ipython-genutils~=0.2.0 in ./jupyter/lib/python3.8/site-packages (from ipywidgets>=7.6.0->ipycanvas) (0.2.0)\n",
      "Requirement already satisfied: ipykernel>=4.5.1 in ./jupyter/lib/python3.8/site-packages (from ipywidgets>=7.6.0->ipycanvas) (6.15.0)\n",
      "Requirement already satisfied: traitlets>=4.3.1 in ./jupyter/lib/python3.8/site-packages (from ipywidgets>=7.6.0->ipycanvas) (5.3.0)\n",
      "Requirement already satisfied: ipython>=4.0.0 in ./jupyter/lib/python3.8/site-packages (from ipywidgets>=7.6.0->ipycanvas) (8.4.0)\n",
      "Requirement already satisfied: jupyterlab-widgets>=1.0.0 in ./jupyter/lib/python3.8/site-packages (from ipywidgets>=7.6.0->ipycanvas) (1.1.1)\n",
      "Requirement already satisfied: widgetsnbextension~=3.6.0 in ./jupyter/lib/python3.8/site-packages (from ipywidgets>=7.6.0->ipycanvas) (3.6.1)\n",
      "Requirement already satisfied: jupyter-client>=6.1.12 in ./jupyter/lib/python3.8/site-packages (from ipykernel>=4.5.1->ipywidgets>=7.6.0->ipycanvas) (7.3.4)\n",
      "Requirement already satisfied: matplotlib-inline>=0.1 in ./jupyter/lib/python3.8/site-packages (from ipykernel>=4.5.1->ipywidgets>=7.6.0->ipycanvas) (0.1.3)\n",
      "Requirement already satisfied: packaging in ./jupyter/lib/python3.8/site-packages (from ipykernel>=4.5.1->ipywidgets>=7.6.0->ipycanvas) (21.3)\n",
      "Requirement already satisfied: tornado>=6.1 in ./jupyter/lib/python3.8/site-packages (from ipykernel>=4.5.1->ipywidgets>=7.6.0->ipycanvas) (6.1)\n",
      "Requirement already satisfied: debugpy>=1.0 in ./jupyter/lib/python3.8/site-packages (from ipykernel>=4.5.1->ipywidgets>=7.6.0->ipycanvas) (1.6.0)\n",
      "Requirement already satisfied: psutil in ./jupyter/lib/python3.8/site-packages (from ipykernel>=4.5.1->ipywidgets>=7.6.0->ipycanvas) (5.9.1)\n",
      "Requirement already satisfied: nest-asyncio in ./jupyter/lib/python3.8/site-packages (from ipykernel>=4.5.1->ipywidgets>=7.6.0->ipycanvas) (1.5.5)\n",
      "Requirement already satisfied: pyzmq>=17 in ./jupyter/lib/python3.8/site-packages (from ipykernel>=4.5.1->ipywidgets>=7.6.0->ipycanvas) (23.2.0)\n",
      "Requirement already satisfied: setuptools>=18.5 in ./jupyter/lib/python3.8/site-packages (from ipython>=4.0.0->ipywidgets>=7.6.0->ipycanvas) (62.1.0)\n",
      "Requirement already satisfied: decorator in ./jupyter/lib/python3.8/site-packages (from ipython>=4.0.0->ipywidgets>=7.6.0->ipycanvas) (5.1.1)\n",
      "Requirement already satisfied: prompt-toolkit!=3.0.0,!=3.0.1,<3.1.0,>=2.0.0 in ./jupyter/lib/python3.8/site-packages (from ipython>=4.0.0->ipywidgets>=7.6.0->ipycanvas) (3.0.30)\n",
      "Requirement already satisfied: pexpect>4.3 in ./jupyter/lib/python3.8/site-packages (from ipython>=4.0.0->ipywidgets>=7.6.0->ipycanvas) (4.8.0)\n",
      "Requirement already satisfied: backcall in ./jupyter/lib/python3.8/site-packages (from ipython>=4.0.0->ipywidgets>=7.6.0->ipycanvas) (0.2.0)\n",
      "Requirement already satisfied: pickleshare in ./jupyter/lib/python3.8/site-packages (from ipython>=4.0.0->ipywidgets>=7.6.0->ipycanvas) (0.7.5)\n",
      "Requirement already satisfied: pygments>=2.4.0 in ./jupyter/lib/python3.8/site-packages (from ipython>=4.0.0->ipywidgets>=7.6.0->ipycanvas) (2.12.0)\n",
      "Requirement already satisfied: jedi>=0.16 in ./jupyter/lib/python3.8/site-packages (from ipython>=4.0.0->ipywidgets>=7.6.0->ipycanvas) (0.17.2)\n",
      "Requirement already satisfied: stack-data in ./jupyter/lib/python3.8/site-packages (from ipython>=4.0.0->ipywidgets>=7.6.0->ipycanvas) (0.3.0)\n",
      "Requirement already satisfied: notebook>=4.4.1 in ./jupyter/lib/python3.8/site-packages (from widgetsnbextension~=3.6.0->ipywidgets>=7.6.0->ipycanvas) (6.4.12)\n",
      "Requirement already satisfied: parso<0.8.0,>=0.7.0 in ./jupyter/lib/python3.8/site-packages (from jedi>=0.16->ipython>=4.0.0->ipywidgets>=7.6.0->ipycanvas) (0.7.1)\n",
      "Requirement already satisfied: python-dateutil>=2.8.2 in ./jupyter/lib/python3.8/site-packages (from jupyter-client>=6.1.12->ipykernel>=4.5.1->ipywidgets>=7.6.0->ipycanvas) (2.8.2)\n",
      "Requirement already satisfied: jupyter-core>=4.9.2 in ./jupyter/lib/python3.8/site-packages (from jupyter-client>=6.1.12->ipykernel>=4.5.1->ipywidgets>=7.6.0->ipycanvas) (4.10.0)\n",
      "Requirement already satisfied: entrypoints in ./jupyter/lib/python3.8/site-packages (from jupyter-client>=6.1.12->ipykernel>=4.5.1->ipywidgets>=7.6.0->ipycanvas) (0.4)\n",
      "Requirement already satisfied: prometheus-client in ./jupyter/lib/python3.8/site-packages (from notebook>=4.4.1->widgetsnbextension~=3.6.0->ipywidgets>=7.6.0->ipycanvas) (0.14.1)\n",
      "Requirement already satisfied: Send2Trash>=1.8.0 in ./jupyter/lib/python3.8/site-packages (from notebook>=4.4.1->widgetsnbextension~=3.6.0->ipywidgets>=7.6.0->ipycanvas) (1.8.0)\n",
      "Requirement already satisfied: terminado>=0.8.3 in ./jupyter/lib/python3.8/site-packages (from notebook>=4.4.1->widgetsnbextension~=3.6.0->ipywidgets>=7.6.0->ipycanvas) (0.15.0)\n",
      "Requirement already satisfied: argon2-cffi in ./jupyter/lib/python3.8/site-packages (from notebook>=4.4.1->widgetsnbextension~=3.6.0->ipywidgets>=7.6.0->ipycanvas) (21.3.0)\n",
      "Requirement already satisfied: nbformat in ./jupyter/lib/python3.8/site-packages (from notebook>=4.4.1->widgetsnbextension~=3.6.0->ipywidgets>=7.6.0->ipycanvas) (5.4.0)\n",
      "Requirement already satisfied: jinja2 in ./jupyter/lib/python3.8/site-packages (from notebook>=4.4.1->widgetsnbextension~=3.6.0->ipywidgets>=7.6.0->ipycanvas) (3.1.2)\n",
      "Requirement already satisfied: nbconvert>=5 in ./jupyter/lib/python3.8/site-packages (from notebook>=4.4.1->widgetsnbextension~=3.6.0->ipywidgets>=7.6.0->ipycanvas) (6.5.0)\n",
      "Requirement already satisfied: ptyprocess>=0.5 in ./jupyter/lib/python3.8/site-packages (from pexpect>4.3->ipython>=4.0.0->ipywidgets>=7.6.0->ipycanvas) (0.7.0)\n",
      "Requirement already satisfied: wcwidth in ./jupyter/lib/python3.8/site-packages (from prompt-toolkit!=3.0.0,!=3.0.1,<3.1.0,>=2.0.0->ipython>=4.0.0->ipywidgets>=7.6.0->ipycanvas) (0.2.5)\n",
      "Requirement already satisfied: pyparsing!=3.0.5,>=2.0.2 in ./jupyter/lib/python3.8/site-packages (from packaging->ipykernel>=4.5.1->ipywidgets>=7.6.0->ipycanvas) (3.0.9)\n",
      "Requirement already satisfied: asttokens in ./jupyter/lib/python3.8/site-packages (from stack-data->ipython>=4.0.0->ipywidgets>=7.6.0->ipycanvas) (2.0.5)\n",
      "Requirement already satisfied: pure-eval in ./jupyter/lib/python3.8/site-packages (from stack-data->ipython>=4.0.0->ipywidgets>=7.6.0->ipycanvas) (0.2.2)\n",
      "Requirement already satisfied: executing in ./jupyter/lib/python3.8/site-packages (from stack-data->ipython>=4.0.0->ipywidgets>=7.6.0->ipycanvas) (0.8.3)\n",
      "Requirement already satisfied: defusedxml in ./jupyter/lib/python3.8/site-packages (from nbconvert>=5->notebook>=4.4.1->widgetsnbextension~=3.6.0->ipywidgets>=7.6.0->ipycanvas) (0.7.1)\n",
      "Requirement already satisfied: beautifulsoup4 in ./jupyter/lib/python3.8/site-packages (from nbconvert>=5->notebook>=4.4.1->widgetsnbextension~=3.6.0->ipywidgets>=7.6.0->ipycanvas) (4.11.1)\n",
      "Requirement already satisfied: mistune<2,>=0.8.1 in ./jupyter/lib/python3.8/site-packages (from nbconvert>=5->notebook>=4.4.1->widgetsnbextension~=3.6.0->ipywidgets>=7.6.0->ipycanvas) (0.8.4)\n",
      "Requirement already satisfied: jupyterlab-pygments in ./jupyter/lib/python3.8/site-packages (from nbconvert>=5->notebook>=4.4.1->widgetsnbextension~=3.6.0->ipywidgets>=7.6.0->ipycanvas) (0.2.2)\n",
      "Requirement already satisfied: tinycss2 in ./jupyter/lib/python3.8/site-packages (from nbconvert>=5->notebook>=4.4.1->widgetsnbextension~=3.6.0->ipywidgets>=7.6.0->ipycanvas) (1.1.1)\n",
      "Requirement already satisfied: nbclient>=0.5.0 in ./jupyter/lib/python3.8/site-packages (from nbconvert>=5->notebook>=4.4.1->widgetsnbextension~=3.6.0->ipywidgets>=7.6.0->ipycanvas) (0.6.4)\n",
      "Requirement already satisfied: MarkupSafe>=2.0 in ./jupyter/lib/python3.8/site-packages (from nbconvert>=5->notebook>=4.4.1->widgetsnbextension~=3.6.0->ipywidgets>=7.6.0->ipycanvas) (2.1.1)\n",
      "Requirement already satisfied: pandocfilters>=1.4.1 in ./jupyter/lib/python3.8/site-packages (from nbconvert>=5->notebook>=4.4.1->widgetsnbextension~=3.6.0->ipywidgets>=7.6.0->ipycanvas) (1.5.0)\n",
      "Requirement already satisfied: bleach in ./jupyter/lib/python3.8/site-packages (from nbconvert>=5->notebook>=4.4.1->widgetsnbextension~=3.6.0->ipywidgets>=7.6.0->ipycanvas) (5.0.1)\n",
      "Requirement already satisfied: jsonschema>=2.6 in ./jupyter/lib/python3.8/site-packages (from nbformat->notebook>=4.4.1->widgetsnbextension~=3.6.0->ipywidgets>=7.6.0->ipycanvas) (4.6.1)\n",
      "Requirement already satisfied: fastjsonschema in ./jupyter/lib/python3.8/site-packages (from nbformat->notebook>=4.4.1->widgetsnbextension~=3.6.0->ipywidgets>=7.6.0->ipycanvas) (2.15.3)\n",
      "Requirement already satisfied: six>=1.5 in ./jupyter/lib/python3.8/site-packages (from python-dateutil>=2.8.2->jupyter-client>=6.1.12->ipykernel>=4.5.1->ipywidgets>=7.6.0->ipycanvas) (1.16.0)\n"
     ]
    },
    {
     "name": "stdout",
     "output_type": "stream",
     "text": [
      "Requirement already satisfied: argon2-cffi-bindings in ./jupyter/lib/python3.8/site-packages (from argon2-cffi->notebook>=4.4.1->widgetsnbextension~=3.6.0->ipywidgets>=7.6.0->ipycanvas) (21.2.0)\n",
      "Requirement already satisfied: pyrsistent!=0.17.0,!=0.17.1,!=0.17.2,>=0.14.0 in ./jupyter/lib/python3.8/site-packages (from jsonschema>=2.6->nbformat->notebook>=4.4.1->widgetsnbextension~=3.6.0->ipywidgets>=7.6.0->ipycanvas) (0.18.1)\n",
      "Requirement already satisfied: attrs>=17.4.0 in ./jupyter/lib/python3.8/site-packages (from jsonschema>=2.6->nbformat->notebook>=4.4.1->widgetsnbextension~=3.6.0->ipywidgets>=7.6.0->ipycanvas) (21.4.0)\n",
      "Requirement already satisfied: importlib-resources>=1.4.0 in ./jupyter/lib/python3.8/site-packages (from jsonschema>=2.6->nbformat->notebook>=4.4.1->widgetsnbextension~=3.6.0->ipywidgets>=7.6.0->ipycanvas) (5.8.0)\n",
      "Requirement already satisfied: cffi>=1.0.1 in ./jupyter/lib/python3.8/site-packages (from argon2-cffi-bindings->argon2-cffi->notebook>=4.4.1->widgetsnbextension~=3.6.0->ipywidgets>=7.6.0->ipycanvas) (1.15.0)\n",
      "Requirement already satisfied: soupsieve>1.2 in ./jupyter/lib/python3.8/site-packages (from beautifulsoup4->nbconvert>=5->notebook>=4.4.1->widgetsnbextension~=3.6.0->ipywidgets>=7.6.0->ipycanvas) (2.3.2.post1)\n",
      "Requirement already satisfied: webencodings in ./jupyter/lib/python3.8/site-packages (from bleach->nbconvert>=5->notebook>=4.4.1->widgetsnbextension~=3.6.0->ipywidgets>=7.6.0->ipycanvas) (0.5.1)\n",
      "Requirement already satisfied: pycparser in ./jupyter/lib/python3.8/site-packages (from cffi>=1.0.1->argon2-cffi-bindings->argon2-cffi->notebook>=4.4.1->widgetsnbextension~=3.6.0->ipywidgets>=7.6.0->ipycanvas) (2.21)\n",
      "Requirement already satisfied: zipp>=3.1.0 in ./jupyter/lib/python3.8/site-packages (from importlib-resources>=1.4.0->jsonschema>=2.6->nbformat->notebook>=4.4.1->widgetsnbextension~=3.6.0->ipywidgets>=7.6.0->ipycanvas) (3.8.0)\n",
      "Installing collected packages: ipycanvas\n",
      "Successfully installed ipycanvas-0.12.0\n"
     ]
    }
   ],
   "source": [
    "!pip install ipycanvas"
   ]
  },
  {
   "cell_type": "code",
   "execution_count": 31,
   "id": "79eaf7c3",
   "metadata": {},
   "outputs": [
    {
     "data": {
      "application/vnd.jupyter.widget-view+json": {
       "model_id": "pythree_example_model_089",
       "version_major": 2,
       "version_minor": 0
      },
      "text/plain": [
       "Canvas(height=200, width=200)"
      ]
     },
     "metadata": {},
     "output_type": "display_data"
    }
   ],
   "source": [
    "from ipycanvas import Canvas\n",
    "\n",
    "canvas = Canvas(width=200, height=200)\n",
    "\n",
    "canvas.fill_rect(25, 25, 100, 100)\n",
    "canvas.clear_rect(45, 45, 60, 60)\n",
    "canvas.stroke_rect(50, 50, 50, 50)\n",
    "\n",
    "canvas"
   ]
  },
  {
   "cell_type": "code",
   "execution_count": 32,
   "id": "8f7a25c2",
   "metadata": {},
   "outputs": [
    {
     "data": {
      "application/vnd.jupyter.widget-view+json": {
       "model_id": "pythree_example_model_089",
       "version_major": 2,
       "version_minor": 0
      },
      "text/plain": [
       "Canvas(height=200, width=200)"
      ]
     },
     "metadata": {},
     "output_type": "display_data"
    }
   ],
   "source": [
    "display(canvas)"
   ]
  },
  {
   "cell_type": "code",
   "execution_count": null,
   "id": "27b57fbc",
   "metadata": {},
   "outputs": [],
   "source": []
  }
 ],
 "metadata": {
  "kernelspec": {
   "display_name": "Python 3 (ipykernel)",
   "language": "python",
   "name": "python3"
  },
  "language_info": {
   "codemirror_mode": {
    "name": "ipython",
    "version": 3
   },
   "file_extension": ".py",
   "mimetype": "text/x-python",
   "name": "python",
   "nbconvert_exporter": "python",
   "pygments_lexer": "ipython3",
   "version": "3.8.10"
  }
 },
 "nbformat": 4,
 "nbformat_minor": 5
}
