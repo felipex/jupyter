{
 "cells": [
  {
   "cell_type": "code",
   "execution_count": 1,
   "id": "10e0c42a",
   "metadata": {},
   "outputs": [],
   "source": [
    "from IPython.display import display, Javascript\n",
    "import ipywidgets as widgets\n",
    "import uuid"
   ]
  },
  {
   "cell_type": "markdown",
   "id": "0b41f99c",
   "metadata": {},
   "source": [
    "### SVG in jupyter\n",
    "\n",
    "This is a small study about how to show SVG in a jupyter notebook output cell and how update it in the same one."
   ]
  },
  {
   "cell_type": "markdown",
   "id": "b567eb68",
   "metadata": {},
   "source": [
    "Below there is a simple example of how SVG is displayed."
   ]
  },
  {
   "cell_type": "code",
   "execution_count": 2,
   "id": "f51c6414",
   "metadata": {},
   "outputs": [
    {
     "data": {
      "text/html": [
       "\n",
       "<svg xmlns=\"http://www.w3.org/2000/svg\" xmlns:xlink=\"http://www.w3.org/1999/xlink\" width=\"200\" height=\"200\" viewBox=\"-100 -100 200 200\" version=\"2.0\">\n",
       "\n",
       "<circle cx=\"0\" cy=\"20\" r=\"70\" fill=\"#D1495B\" />\n",
       "\n",
       "    <circle\n",
       "      cx=\"0\"\n",
       "      cy=\"-75\"\n",
       "      r=\"12\"\n",
       "      fill=\"none\"\n",
       "      stroke=\"#F79257\"\n",
       "      stroke-width=\"2\"\n",
       "    />\n",
       "\n",
       "    <rect x=\"-17.5\" y=\"-65\" width=\"35\" height=\"20\" fill=\"#F79257\" />\n",
       "</svg>\n"
      ],
      "text/plain": [
       "<__main__.sSVG at 0x7f88e8615cd0>"
      ]
     },
     "metadata": {},
     "output_type": "display_data"
    }
   ],
   "source": [
    "class sSVG:\n",
    "    def _repr_html_(self):\n",
    "        return '''\n",
    "<svg xmlns=\"http://www.w3.org/2000/svg\" xmlns:xlink=\"http://www.w3.org/1999/xlink\" width=\"200\" height=\"200\" viewBox=\"-100 -100 200 200\" version=\"2.0\">\n",
    "\n",
    "<circle cx=\"0\" cy=\"20\" r=\"70\" fill=\"#D1495B\" />\n",
    "\n",
    "    <circle\n",
    "      cx=\"0\"\n",
    "      cy=\"-75\"\n",
    "      r=\"12\"\n",
    "      fill=\"none\"\n",
    "      stroke=\"#F79257\"\n",
    "      stroke-width=\"2\"\n",
    "    />\n",
    "\n",
    "    <rect x=\"-17.5\" y=\"-65\" width=\"35\" height=\"20\" fill=\"#F79257\" />\n",
    "</svg>\n",
    "'''\n",
    "    \n",
    "t = sSVG()\n",
    "\n",
    "display(t)"
   ]
  },
  {
   "cell_type": "markdown",
   "id": "cc96909e",
   "metadata": {},
   "source": [
    "## New class for show SVG\n",
    "\n",
    "Define the class SVG_ for our class that build the SVG string and SVGO (SVG Object) for elements of SVG (circle, rect, etc.)."
   ]
  },
  {
   "cell_type": "code",
   "execution_count": 2,
   "id": "6cab8f54",
   "metadata": {},
   "outputs": [],
   "source": [
    "class SVGO:\n",
    "    \n",
    "    def __init__(self, attrs):\n",
    "        super().__init__()\n",
    "        self.attrs = attrs\n",
    "        \n",
    "    def _repr_html_(self):\n",
    "        s = ''\n",
    "        attrs = ''\n",
    "        o = self.attrs\n",
    "        for k in o.keys():\n",
    "            attrs += f'{k}=\"{o[k]}\" '\n",
    "        \n",
    "        if (o['type'] == 'circle'):\n",
    "            s = f'''<circle {attrs} />'''           \n",
    "        elif (o['type'] == 'rect'):\n",
    "            s = f'''<rect {attrs} />'''\n",
    "            \n",
    "        return s\n",
    "    \n",
    "    def set_attr(self, key=\"\", value=\"\"):\n",
    "        attrs = self.attrs       \n",
    "        command = f'''const el = document.querySelector(\"#{attrs['id']}\");\n",
    "        el.setAttribute(\"{key}\", \"{value}\");'''\n",
    "        display(Javascript(command))\n",
    "        \n",
    "\n",
    "class SVG_:\n",
    "    objects = []\n",
    "    UUID = None\n",
    "    \n",
    "    def _repr_html_(self):\n",
    "        s = ''\n",
    "        for o in self.objects:\n",
    "            s += o._repr_html_()\n",
    "            \n",
    "        self.UUID = uuid.uuid1().hex\n",
    "        \n",
    "        return f'''<svg id=\"{self.UUID}\" xmlns=\"http://www.w3.org/2000/svg\" xmlns:xlink=\"http://www.w3.org/1999/xlink\" width=\"200\" height=\"200\" viewBox=\"-100 -100 200 200\" version=\"2.0\">\n",
    "   <rect x=\"-100\" y=\"-100\" width=\"100%\" height=\"100%\" fill=\"#DDDDDD\" />\n",
    "    {s}</svg>'''\n",
    "    def __str__(self):\n",
    "        return self._repr_html_()\n",
    "    \n",
    "    \n"
   ]
  },
  {
   "cell_type": "markdown",
   "id": "16b9a24e",
   "metadata": {},
   "source": [
    "Create the <code>svg_o</code> object from class <code>SVG_</code> and <code>dd</code> object, the handle to output cell created in display function. The cell handled by <code>dd</code> will be updated when be convenient."
   ]
  },
  {
   "cell_type": "code",
   "execution_count": null,
   "id": "3b45f495",
   "metadata": {},
   "outputs": [],
   "source": [
    "\n",
    "svg_o = SVG_()\n",
    "svg_o.objects.append(SVGO({\n",
    "    'type': 'circle',\n",
    "    'cx': 0,\n",
    "    'cy': 0,\n",
    "    'r': 20,\n",
    "    'fill': 'blue',\n",
    "    'id': 'c01'\n",
    "}))\n",
    "svg_o.objects.append(SVGO({\n",
    "    'type': 'rect',\n",
    "    'x': 0,\n",
    "    'y': 0,\n",
    "    'width': 50,\n",
    "    'height': 50,\n",
    "    'fill': 'orange',\n",
    "    'id': 'c02'\n",
    "}))\n",
    "\n",
    "dd = display(svg_o, display_id='out_svg')"
   ]
  },
  {
   "cell_type": "markdown",
   "id": "1c9a1a6d",
   "metadata": {},
   "source": [
    "## Update object displayed previously\n",
    "\n",
    "### Using update method\n",
    "\n",
    "<span style=\"background-color: red; color: yellow;\">???</span>\n",
    "I think this method is not efficient because (maybe) the SVG is whole redraw at every call."
   ]
  },
  {
   "cell_type": "code",
   "execution_count": null,
   "id": "7013c221",
   "metadata": {},
   "outputs": [],
   "source": [
    "%%timeit\n",
    "svg_o.objects[0].attrs['fill'] = 'green'\n",
    "svg_o.objects[0].attrs['cy'] = '0px'\n",
    "dd.update(svg_o)"
   ]
  },
  {
   "cell_type": "markdown",
   "id": "296a2696",
   "metadata": {},
   "source": [
    "### Using javascript (the best mode?)\n",
    "\n",
    "It seems update only the object modified."
   ]
  },
  {
   "cell_type": "code",
   "execution_count": null,
   "id": "6806bb55",
   "metadata": {},
   "outputs": [],
   "source": [
    "Javascript('''\n",
    "const el = document.querySelector(\"#c01\");\n",
    "el.setAttribute(\"cy\", \"-20px\");\n",
    "''')"
   ]
  },
  {
   "cell_type": "code",
   "execution_count": null,
   "id": "ef360178",
   "metadata": {},
   "outputs": [],
   "source": [
    "svg_o.objects[0].set_attr(key=\"cx\", value=\"0\")\n",
    "svg_o.objects[0].set_attr(key=\"fill\", value=\"black\")"
   ]
  },
  {
   "cell_type": "markdown",
   "id": "f965b575",
   "metadata": {},
   "source": [
    "### Animação do SVG"
   ]
  },
  {
   "cell_type": "code",
   "execution_count": 3,
   "id": "7ae4cb8f",
   "metadata": {
    "scrolled": true
   },
   "outputs": [],
   "source": [
    "from time import sleep\n",
    "import numpy as np\n",
    "import asyncio"
   ]
  },
  {
   "cell_type": "code",
   "execution_count": 4,
   "id": "8cc63c0c",
   "metadata": {
    "scrolled": true
   },
   "outputs": [
    {
     "data": {
      "text/html": [
       "<svg id=\"81003882feb311ecb65dcb1913bf4d5d\" xmlns=\"http://www.w3.org/2000/svg\" xmlns:xlink=\"http://www.w3.org/1999/xlink\" width=\"200\" height=\"200\" viewBox=\"-100 -100 200 200\" version=\"2.0\">\n",
       "   <rect x=\"-100\" y=\"-100\" width=\"100%\" height=\"100%\" fill=\"#DDDDDD\" />\n",
       "    <circle type=\"circle\" cx=\"0\" cy=\"0\" r=\"20\" fill=\"blue\" id=\"c01\"  /><rect type=\"rect\" x=\"0\" y=\"0\" width=\"50\" height=\"50\" fill=\"orange\" id=\"c02\"  /></svg>"
      ],
      "text/plain": [
       "<__main__.SVG_ at 0x7f70384a1a90>"
      ]
     },
     "metadata": {},
     "output_type": "display_data"
    }
   ],
   "source": [
    "svg_o = SVG_()\n",
    "svg_o.objects.append(SVGO({\n",
    "    'type': 'circle',\n",
    "    'cx': 0,\n",
    "    'cy': 0,\n",
    "    'r': 20,\n",
    "    'fill': 'blue',\n",
    "    'id': 'c01'\n",
    "}))\n",
    "svg_o.objects.append(SVGO({\n",
    "    'type': 'rect',\n",
    "    'x': 0,\n",
    "    'y': 0,\n",
    "    'width': 50,\n",
    "    'height': 50,\n",
    "    'fill': 'orange',\n",
    "    'id': 'c02'\n",
    "}))\n",
    "\n",
    "dd = display(svg_o, display_id='out_svg')"
   ]
  },
  {
   "cell_type": "code",
   "execution_count": 5,
   "id": "65eb95c3",
   "metadata": {},
   "outputs": [],
   "source": [
    "async def roda(A=100, w=1, dt=0.1, t_max=10):\n",
    "    t = 0\n",
    "    while t < t_max:\n",
    "        x = A*np.cos(w*t)\n",
    "        svg_o.objects[0].set_attr(key=\"cx\", value=x)\n",
    "        t += dt\n",
    "        await asyncio.sleep(dt)\n"
   ]
  },
  {
   "cell_type": "code",
   "execution_count": 6,
   "id": "3ce97ca6",
   "metadata": {},
   "outputs": [],
   "source": [
    "async def sobedesce(A=100, w=1, dt=0.1, t_max=10):\n",
    "    t = 0\n",
    "    while t < t_max:\n",
    "        x = A*np.cos(w*t)\n",
    "        svg_o.objects[1].set_attr(key=\"y\", value=x)\n",
    "        t += dt\n",
    "        await asyncio.sleep(dt)\n"
   ]
  },
  {
   "cell_type": "code",
   "execution_count": 7,
   "id": "7dd6edfc",
   "metadata": {},
   "outputs": [],
   "source": [
    "async def muda_cor(obj, cor):\n",
    "    svg_o.objects[obj].set_attr(key=\"fill\", value=cor)\n"
   ]
  },
  {
   "cell_type": "code",
   "execution_count": 9,
   "id": "67b68c42",
   "metadata": {},
   "outputs": [
    {
     "data": {
      "application/javascript": [
       "const el = document.querySelector(\"#c01\");\n",
       "        el.setAttribute(\"cx\", \"80.0\");"
      ],
      "text/plain": [
       "<IPython.core.display.Javascript object>"
      ]
     },
     "metadata": {},
     "output_type": "display_data"
    },
    {
     "data": {
      "application/javascript": [
       "const el = document.querySelector(\"#c02\");\n",
       "        el.setAttribute(\"y\", \"80.0\");"
      ],
      "text/plain": [
       "<IPython.core.display.Javascript object>"
      ]
     },
     "metadata": {},
     "output_type": "display_data"
    },
    {
     "data": {
      "application/javascript": [
       "const el = document.querySelector(\"#c02\");\n",
       "        el.setAttribute(\"y\", \"76.08452130361228\");"
      ],
      "text/plain": [
       "<IPython.core.display.Javascript object>"
      ]
     },
     "metadata": {},
     "output_type": "display_data"
    },
    {
     "data": {
      "application/javascript": [
       "const el = document.querySelector(\"#c01\");\n",
       "        el.setAttribute(\"cx\", \"76.08452130361228\");"
      ],
      "text/plain": [
       "<IPython.core.display.Javascript object>"
      ]
     },
     "metadata": {},
     "output_type": "display_data"
    },
    {
     "data": {
      "application/javascript": [
       "const el = document.querySelector(\"#c02\");\n",
       "        el.setAttribute(\"y\", \"64.7213595499958\");"
      ],
      "text/plain": [
       "<IPython.core.display.Javascript object>"
      ]
     },
     "metadata": {},
     "output_type": "display_data"
    },
    {
     "data": {
      "application/javascript": [
       "const el = document.querySelector(\"#c02\");\n",
       "        el.setAttribute(\"y\", \"47.02282018339784\");"
      ],
      "text/plain": [
       "<IPython.core.display.Javascript object>"
      ]
     },
     "metadata": {},
     "output_type": "display_data"
    },
    {
     "data": {
      "application/javascript": [
       "const el = document.querySelector(\"#c01\");\n",
       "        el.setAttribute(\"cx\", \"64.7213595499958\");"
      ],
      "text/plain": [
       "<IPython.core.display.Javascript object>"
      ]
     },
     "metadata": {},
     "output_type": "display_data"
    },
    {
     "data": {
      "application/javascript": [
       "const el = document.querySelector(\"#c02\");\n",
       "        el.setAttribute(\"y\", \"24.721359549995796\");"
      ],
      "text/plain": [
       "<IPython.core.display.Javascript object>"
      ]
     },
     "metadata": {},
     "output_type": "display_data"
    },
    {
     "data": {
      "application/javascript": [
       "const el = document.querySelector(\"#c02\");\n",
       "        el.setAttribute(\"y\", \"4.898587196589413e-15\");"
      ],
      "text/plain": [
       "<IPython.core.display.Javascript object>"
      ]
     },
     "metadata": {},
     "output_type": "display_data"
    },
    {
     "data": {
      "application/javascript": [
       "const el = document.querySelector(\"#c01\");\n",
       "        el.setAttribute(\"cx\", \"47.02282018339784\");"
      ],
      "text/plain": [
       "<IPython.core.display.Javascript object>"
      ]
     },
     "metadata": {},
     "output_type": "display_data"
    },
    {
     "data": {
      "application/javascript": [
       "const el = document.querySelector(\"#c02\");\n",
       "        el.setAttribute(\"y\", \"-24.72135954999579\");"
      ],
      "text/plain": [
       "<IPython.core.display.Javascript object>"
      ]
     },
     "metadata": {},
     "output_type": "display_data"
    },
    {
     "data": {
      "application/javascript": [
       "const el = document.querySelector(\"#c02\");\n",
       "        el.setAttribute(\"y\", \"-47.02282018339784\");"
      ],
      "text/plain": [
       "<IPython.core.display.Javascript object>"
      ]
     },
     "metadata": {},
     "output_type": "display_data"
    },
    {
     "data": {
      "application/javascript": [
       "const el = document.querySelector(\"#c01\");\n",
       "        el.setAttribute(\"cx\", \"24.721359549995796\");"
      ],
      "text/plain": [
       "<IPython.core.display.Javascript object>"
      ]
     },
     "metadata": {},
     "output_type": "display_data"
    },
    {
     "data": {
      "application/javascript": [
       "const el = document.querySelector(\"#c02\");\n",
       "        el.setAttribute(\"y\", \"-64.72135954999578\");"
      ],
      "text/plain": [
       "<IPython.core.display.Javascript object>"
      ]
     },
     "metadata": {},
     "output_type": "display_data"
    },
    {
     "data": {
      "application/javascript": [
       "const el = document.querySelector(\"#c02\");\n",
       "        el.setAttribute(\"y\", \"-76.08452130361228\");"
      ],
      "text/plain": [
       "<IPython.core.display.Javascript object>"
      ]
     },
     "metadata": {},
     "output_type": "display_data"
    },
    {
     "data": {
      "application/javascript": [
       "const el = document.querySelector(\"#c01\");\n",
       "        el.setAttribute(\"cx\", \"4.898587196589413e-15\");"
      ],
      "text/plain": [
       "<IPython.core.display.Javascript object>"
      ]
     },
     "metadata": {},
     "output_type": "display_data"
    },
    {
     "data": {
      "application/javascript": [
       "const el = document.querySelector(\"#c02\");\n",
       "        el.setAttribute(\"y\", \"-80.0\");"
      ],
      "text/plain": [
       "<IPython.core.display.Javascript object>"
      ]
     },
     "metadata": {},
     "output_type": "display_data"
    },
    {
     "data": {
      "application/javascript": [
       "const el = document.querySelector(\"#c02\");\n",
       "        el.setAttribute(\"y\", \"-76.0845213036123\");"
      ],
      "text/plain": [
       "<IPython.core.display.Javascript object>"
      ]
     },
     "metadata": {},
     "output_type": "display_data"
    },
    {
     "data": {
      "application/javascript": [
       "const el = document.querySelector(\"#c01\");\n",
       "        el.setAttribute(\"cx\", \"-24.72135954999579\");"
      ],
      "text/plain": [
       "<IPython.core.display.Javascript object>"
      ]
     },
     "metadata": {},
     "output_type": "display_data"
    },
    {
     "data": {
      "application/javascript": [
       "const el = document.querySelector(\"#c02\");\n",
       "        el.setAttribute(\"y\", \"-64.72135954999581\");"
      ],
      "text/plain": [
       "<IPython.core.display.Javascript object>"
      ]
     },
     "metadata": {},
     "output_type": "display_data"
    },
    {
     "data": {
      "application/javascript": [
       "const el = document.querySelector(\"#c02\");\n",
       "        el.setAttribute(\"y\", \"-47.02282018339786\");"
      ],
      "text/plain": [
       "<IPython.core.display.Javascript object>"
      ]
     },
     "metadata": {},
     "output_type": "display_data"
    },
    {
     "data": {
      "application/javascript": [
       "const el = document.querySelector(\"#c01\");\n",
       "        el.setAttribute(\"cx\", \"-47.02282018339784\");"
      ],
      "text/plain": [
       "<IPython.core.display.Javascript object>"
      ]
     },
     "metadata": {},
     "output_type": "display_data"
    },
    {
     "data": {
      "application/javascript": [
       "const el = document.querySelector(\"#c02\");\n",
       "        el.setAttribute(\"y\", \"-24.721359549995803\");"
      ],
      "text/plain": [
       "<IPython.core.display.Javascript object>"
      ]
     },
     "metadata": {},
     "output_type": "display_data"
    },
    {
     "data": {
      "application/javascript": [
       "const el = document.querySelector(\"#c02\");\n",
       "        el.setAttribute(\"y\", \"5.6358511986241776e-14\");"
      ],
      "text/plain": [
       "<IPython.core.display.Javascript object>"
      ]
     },
     "metadata": {},
     "output_type": "display_data"
    },
    {
     "data": {
      "application/javascript": [
       "const el = document.querySelector(\"#c01\");\n",
       "        el.setAttribute(\"cx\", \"-64.72135954999578\");"
      ],
      "text/plain": [
       "<IPython.core.display.Javascript object>"
      ]
     },
     "metadata": {},
     "output_type": "display_data"
    },
    {
     "data": {
      "application/javascript": [
       "const el = document.querySelector(\"#c02\");\n",
       "        el.setAttribute(\"y\", \"24.721359549995846\");"
      ],
      "text/plain": [
       "<IPython.core.display.Javascript object>"
      ]
     },
     "metadata": {},
     "output_type": "display_data"
    },
    {
     "data": {
      "application/javascript": [
       "const el = document.querySelector(\"#c02\");\n",
       "        el.setAttribute(\"y\", \"47.0228201833979\");"
      ],
      "text/plain": [
       "<IPython.core.display.Javascript object>"
      ]
     },
     "metadata": {},
     "output_type": "display_data"
    },
    {
     "data": {
      "application/javascript": [
       "const el = document.querySelector(\"#c01\");\n",
       "        el.setAttribute(\"cx\", \"-76.08452130361228\");"
      ],
      "text/plain": [
       "<IPython.core.display.Javascript object>"
      ]
     },
     "metadata": {},
     "output_type": "display_data"
    },
    {
     "data": {
      "application/javascript": [
       "const el = document.querySelector(\"#c02\");\n",
       "        el.setAttribute(\"y\", \"64.72135954999587\");"
      ],
      "text/plain": [
       "<IPython.core.display.Javascript object>"
      ]
     },
     "metadata": {},
     "output_type": "display_data"
    },
    {
     "data": {
      "application/javascript": [
       "const el = document.querySelector(\"#c02\");\n",
       "        el.setAttribute(\"y\", \"76.08452130361232\");"
      ],
      "text/plain": [
       "<IPython.core.display.Javascript object>"
      ]
     },
     "metadata": {},
     "output_type": "display_data"
    },
    {
     "data": {
      "application/javascript": [
       "const el = document.querySelector(\"#c01\");\n",
       "        el.setAttribute(\"cx\", \"-80.0\");"
      ],
      "text/plain": [
       "<IPython.core.display.Javascript object>"
      ]
     },
     "metadata": {},
     "output_type": "display_data"
    },
    {
     "data": {
      "application/javascript": [
       "const el = document.querySelector(\"#c02\");\n",
       "        el.setAttribute(\"y\", \"80.0\");"
      ],
      "text/plain": [
       "<IPython.core.display.Javascript object>"
      ]
     },
     "metadata": {},
     "output_type": "display_data"
    },
    {
     "data": {
      "application/javascript": [
       "const el = document.querySelector(\"#c02\");\n",
       "        el.setAttribute(\"y\", \"76.08452130361225\");"
      ],
      "text/plain": [
       "<IPython.core.display.Javascript object>"
      ]
     },
     "metadata": {},
     "output_type": "display_data"
    },
    {
     "data": {
      "application/javascript": [
       "const el = document.querySelector(\"#c01\");\n",
       "        el.setAttribute(\"cx\", \"-76.0845213036123\");"
      ],
      "text/plain": [
       "<IPython.core.display.Javascript object>"
      ]
     },
     "metadata": {},
     "output_type": "display_data"
    },
    {
     "data": {
      "application/javascript": [
       "const el = document.querySelector(\"#c02\");\n",
       "        el.setAttribute(\"y\", \"64.72135954999573\");"
      ],
      "text/plain": [
       "<IPython.core.display.Javascript object>"
      ]
     },
     "metadata": {},
     "output_type": "display_data"
    },
    {
     "data": {
      "application/javascript": [
       "const el = document.querySelector(\"#c02\");\n",
       "        el.setAttribute(\"y\", \"47.0228201833977\");"
      ],
      "text/plain": [
       "<IPython.core.display.Javascript object>"
      ]
     },
     "metadata": {},
     "output_type": "display_data"
    },
    {
     "data": {
      "application/javascript": [
       "const el = document.querySelector(\"#c01\");\n",
       "        el.setAttribute(\"cx\", \"-64.72135954999581\");"
      ],
      "text/plain": [
       "<IPython.core.display.Javascript object>"
      ]
     },
     "metadata": {},
     "output_type": "display_data"
    },
    {
     "data": {
      "application/javascript": [
       "const el = document.querySelector(\"#c02\");\n",
       "        el.setAttribute(\"y\", \"24.721359549995615\");"
      ],
      "text/plain": [
       "<IPython.core.display.Javascript object>"
      ]
     },
     "metadata": {},
     "output_type": "display_data"
    },
    {
     "data": {
      "application/javascript": [
       "const el = document.querySelector(\"#c02\");\n",
       "        el.setAttribute(\"y\", \"-1.88669884745083e-13\");"
      ],
      "text/plain": [
       "<IPython.core.display.Javascript object>"
      ]
     },
     "metadata": {},
     "output_type": "display_data"
    },
    {
     "data": {
      "application/javascript": [
       "const el = document.querySelector(\"#c01\");\n",
       "        el.setAttribute(\"cx\", \"-47.02282018339786\");"
      ],
      "text/plain": [
       "<IPython.core.display.Javascript object>"
      ]
     },
     "metadata": {},
     "output_type": "display_data"
    },
    {
     "data": {
      "application/javascript": [
       "const el = document.querySelector(\"#c02\");\n",
       "        el.setAttribute(\"y\", \"-24.72135954999604\");"
      ],
      "text/plain": [
       "<IPython.core.display.Javascript object>"
      ]
     },
     "metadata": {},
     "output_type": "display_data"
    },
    {
     "data": {
      "application/javascript": [
       "const el = document.querySelector(\"#c02\");\n",
       "        el.setAttribute(\"y\", \"-47.02282018339805\");"
      ],
      "text/plain": [
       "<IPython.core.display.Javascript object>"
      ]
     },
     "metadata": {},
     "output_type": "display_data"
    },
    {
     "data": {
      "application/javascript": [
       "const el = document.querySelector(\"#c01\");\n",
       "        el.setAttribute(\"cx\", \"-24.721359549995803\");"
      ],
      "text/plain": [
       "<IPython.core.display.Javascript object>"
      ]
     },
     "metadata": {},
     "output_type": "display_data"
    },
    {
     "data": {
      "application/javascript": [
       "const el = document.querySelector(\"#c02\");\n",
       "        el.setAttribute(\"y\", \"-64.72135954999595\");"
      ],
      "text/plain": [
       "<IPython.core.display.Javascript object>"
      ]
     },
     "metadata": {},
     "output_type": "display_data"
    },
    {
     "data": {
      "application/javascript": [
       "const el = document.querySelector(\"#c02\");\n",
       "        el.setAttribute(\"y\", \"-76.08452130361236\");"
      ],
      "text/plain": [
       "<IPython.core.display.Javascript object>"
      ]
     },
     "metadata": {},
     "output_type": "display_data"
    },
    {
     "data": {
      "application/javascript": [
       "const el = document.querySelector(\"#c01\");\n",
       "        el.setAttribute(\"cx\", \"5.6358511986241776e-14\");"
      ],
      "text/plain": [
       "<IPython.core.display.Javascript object>"
      ]
     },
     "metadata": {},
     "output_type": "display_data"
    },
    {
     "data": {
      "application/javascript": [
       "const el = document.querySelector(\"#c02\");\n",
       "        el.setAttribute(\"y\", \"-80.0\");"
      ],
      "text/plain": [
       "<IPython.core.display.Javascript object>"
      ]
     },
     "metadata": {},
     "output_type": "display_data"
    },
    {
     "data": {
      "application/javascript": [
       "const el = document.querySelector(\"#c02\");\n",
       "        el.setAttribute(\"y\", \"-76.08452130361216\");"
      ],
      "text/plain": [
       "<IPython.core.display.Javascript object>"
      ]
     },
     "metadata": {},
     "output_type": "display_data"
    },
    {
     "data": {
      "application/javascript": [
       "const el = document.querySelector(\"#c01\");\n",
       "        el.setAttribute(\"cx\", \"24.721359549995846\");"
      ],
      "text/plain": [
       "<IPython.core.display.Javascript object>"
      ]
     },
     "metadata": {},
     "output_type": "display_data"
    },
    {
     "data": {
      "application/javascript": [
       "const el = document.querySelector(\"#c02\");\n",
       "        el.setAttribute(\"y\", \"-64.72135954999557\");"
      ],
      "text/plain": [
       "<IPython.core.display.Javascript object>"
      ]
     },
     "metadata": {},
     "output_type": "display_data"
    },
    {
     "data": {
      "application/javascript": [
       "const el = document.querySelector(\"#c02\");\n",
       "        el.setAttribute(\"y\", \"-47.02282018339753\");"
      ],
      "text/plain": [
       "<IPython.core.display.Javascript object>"
      ]
     },
     "metadata": {},
     "output_type": "display_data"
    },
    {
     "data": {
      "application/javascript": [
       "const el = document.querySelector(\"#c01\");\n",
       "        el.setAttribute(\"cx\", \"47.0228201833979\");"
      ],
      "text/plain": [
       "<IPython.core.display.Javascript object>"
      ]
     },
     "metadata": {},
     "output_type": "display_data"
    },
    {
     "data": {
      "application/javascript": [
       "const el = document.querySelector(\"#c02\");\n",
       "        el.setAttribute(\"y\", \"-24.72135954999542\");"
      ],
      "text/plain": [
       "<IPython.core.display.Javascript object>"
      ]
     },
     "metadata": {},
     "output_type": "display_data"
    },
    {
     "data": {
      "application/javascript": [
       "const el = document.querySelector(\"#c02\");\n",
       "        el.setAttribute(\"y\", \"3.920355310799342e-13\");"
      ],
      "text/plain": [
       "<IPython.core.display.Javascript object>"
      ]
     },
     "metadata": {},
     "output_type": "display_data"
    },
    {
     "data": {
      "application/javascript": [
       "const el = document.querySelector(\"#c01\");\n",
       "        el.setAttribute(\"cx\", \"64.72135954999587\");"
      ],
      "text/plain": [
       "<IPython.core.display.Javascript object>"
      ]
     },
     "metadata": {},
     "output_type": "display_data"
    },
    {
     "data": {
      "application/javascript": [
       "const el = document.querySelector(\"#c02\");\n",
       "        el.setAttribute(\"y\", \"24.721359549996166\");"
      ],
      "text/plain": [
       "<IPython.core.display.Javascript object>"
      ]
     },
     "metadata": {},
     "output_type": "display_data"
    },
    {
     "data": {
      "application/javascript": [
       "const el = document.querySelector(\"#c01\");\n",
       "        el.setAttribute(\"cx\", \"76.08452130361232\");"
      ],
      "text/plain": [
       "<IPython.core.display.Javascript object>"
      ]
     },
     "metadata": {},
     "output_type": "display_data"
    },
    {
     "data": {
      "application/javascript": [
       "const el = document.querySelector(\"#c02\");\n",
       "        el.setAttribute(\"y\", \"47.02282018339816\");"
      ],
      "text/plain": [
       "<IPython.core.display.Javascript object>"
      ]
     },
     "metadata": {},
     "output_type": "display_data"
    },
    {
     "data": {
      "application/javascript": [
       "const el = document.querySelector(\"#c02\");\n",
       "        el.setAttribute(\"y\", \"64.72135954999611\");"
      ],
      "text/plain": [
       "<IPython.core.display.Javascript object>"
      ]
     },
     "metadata": {},
     "output_type": "display_data"
    },
    {
     "data": {
      "application/javascript": [
       "const el = document.querySelector(\"#c01\");\n",
       "        el.setAttribute(\"cx\", \"80.0\");"
      ],
      "text/plain": [
       "<IPython.core.display.Javascript object>"
      ]
     },
     "metadata": {},
     "output_type": "display_data"
    },
    {
     "data": {
      "application/javascript": [
       "const el = document.querySelector(\"#c02\");\n",
       "        el.setAttribute(\"y\", \"76.08452130361245\");"
      ],
      "text/plain": [
       "<IPython.core.display.Javascript object>"
      ]
     },
     "metadata": {},
     "output_type": "display_data"
    },
    {
     "data": {
      "application/javascript": [
       "const el = document.querySelector(\"#c02\");\n",
       "        el.setAttribute(\"y\", \"80.0\");"
      ],
      "text/plain": [
       "<IPython.core.display.Javascript object>"
      ]
     },
     "metadata": {},
     "output_type": "display_data"
    },
    {
     "data": {
      "application/javascript": [
       "const el = document.querySelector(\"#c01\");\n",
       "        el.setAttribute(\"cx\", \"76.08452130361225\");"
      ],
      "text/plain": [
       "<IPython.core.display.Javascript object>"
      ]
     },
     "metadata": {},
     "output_type": "display_data"
    },
    {
     "data": {
      "application/javascript": [
       "const el = document.querySelector(\"#c02\");\n",
       "        el.setAttribute(\"y\", \"76.08452130361216\");"
      ],
      "text/plain": [
       "<IPython.core.display.Javascript object>"
      ]
     },
     "metadata": {},
     "output_type": "display_data"
    },
    {
     "data": {
      "application/javascript": [
       "const el = document.querySelector(\"#c02\");\n",
       "        el.setAttribute(\"y\", \"64.72135954999565\");"
      ],
      "text/plain": [
       "<IPython.core.display.Javascript object>"
      ]
     },
     "metadata": {},
     "output_type": "display_data"
    },
    {
     "data": {
      "application/javascript": [
       "const el = document.querySelector(\"#c01\");\n",
       "        el.setAttribute(\"cx\", \"64.72135954999573\");"
      ],
      "text/plain": [
       "<IPython.core.display.Javascript object>"
      ]
     },
     "metadata": {},
     "output_type": "display_data"
    },
    {
     "data": {
      "application/javascript": [
       "const el = document.querySelector(\"#c02\");\n",
       "        el.setAttribute(\"y\", \"47.02282018339777\");"
      ],
      "text/plain": [
       "<IPython.core.display.Javascript object>"
      ]
     },
     "metadata": {},
     "output_type": "display_data"
    },
    {
     "data": {
      "application/javascript": [
       "const el = document.querySelector(\"#c02\");\n",
       "        el.setAttribute(\"y\", \"24.721359549995697\");"
      ],
      "text/plain": [
       "<IPython.core.display.Javascript object>"
      ]
     },
     "metadata": {},
     "output_type": "display_data"
    },
    {
     "data": {
      "application/javascript": [
       "const el = document.querySelector(\"#c01\");\n",
       "        el.setAttribute(\"cx\", \"47.0228201833977\");"
      ],
      "text/plain": [
       "<IPython.core.display.Javascript object>"
      ]
     },
     "metadata": {},
     "output_type": "display_data"
    },
    {
     "data": {
      "application/javascript": [
       "const el = document.querySelector(\"#c02\");\n",
       "        el.setAttribute(\"y\", \"4.4087284769304716e-14\");"
      ],
      "text/plain": [
       "<IPython.core.display.Javascript object>"
      ]
     },
     "metadata": {},
     "output_type": "display_data"
    },
    {
     "data": {
      "application/javascript": [
       "const el = document.querySelector(\"#c02\");\n",
       "        el.setAttribute(\"y\", \"-24.721359549995615\");"
      ],
      "text/plain": [
       "<IPython.core.display.Javascript object>"
      ]
     },
     "metadata": {},
     "output_type": "display_data"
    },
    {
     "data": {
      "application/javascript": [
       "const el = document.querySelector(\"#c01\");\n",
       "        el.setAttribute(\"cx\", \"24.721359549995615\");"
      ],
      "text/plain": [
       "<IPython.core.display.Javascript object>"
      ]
     },
     "metadata": {},
     "output_type": "display_data"
    },
    {
     "data": {
      "application/javascript": [
       "const el = document.querySelector(\"#c02\");\n",
       "        el.setAttribute(\"y\", \"-47.0228201833977\");"
      ],
      "text/plain": [
       "<IPython.core.display.Javascript object>"
      ]
     },
     "metadata": {},
     "output_type": "display_data"
    },
    {
     "data": {
      "application/javascript": [
       "const el = document.querySelector(\"#c02\");\n",
       "        el.setAttribute(\"y\", \"-64.7213595499956\");"
      ],
      "text/plain": [
       "<IPython.core.display.Javascript object>"
      ]
     },
     "metadata": {},
     "output_type": "display_data"
    },
    {
     "data": {
      "application/javascript": [
       "const el = document.querySelector(\"#c01\");\n",
       "        el.setAttribute(\"cx\", \"-1.88669884745083e-13\");"
      ],
      "text/plain": [
       "<IPython.core.display.Javascript object>"
      ]
     },
     "metadata": {},
     "output_type": "display_data"
    },
    {
     "data": {
      "application/javascript": [
       "const el = document.querySelector(\"#c02\");\n",
       "        el.setAttribute(\"y\", \"-76.08452130361214\");"
      ],
      "text/plain": [
       "<IPython.core.display.Javascript object>"
      ]
     },
     "metadata": {},
     "output_type": "display_data"
    },
    {
     "data": {
      "application/javascript": [
       "const el = document.querySelector(\"#c02\");\n",
       "        el.setAttribute(\"y\", \"-80.0\");"
      ],
      "text/plain": [
       "<IPython.core.display.Javascript object>"
      ]
     },
     "metadata": {},
     "output_type": "display_data"
    },
    {
     "data": {
      "application/javascript": [
       "const el = document.querySelector(\"#c01\");\n",
       "        el.setAttribute(\"cx\", \"-24.72135954999604\");"
      ],
      "text/plain": [
       "<IPython.core.display.Javascript object>"
      ]
     },
     "metadata": {},
     "output_type": "display_data"
    },
    {
     "data": {
      "application/javascript": [
       "const el = document.querySelector(\"#c02\");\n",
       "        el.setAttribute(\"y\", \"-76.08452130361243\");"
      ],
      "text/plain": [
       "<IPython.core.display.Javascript object>"
      ]
     },
     "metadata": {},
     "output_type": "display_data"
    },
    {
     "data": {
      "application/javascript": [
       "const el = document.querySelector(\"#c02\");\n",
       "        el.setAttribute(\"y\", \"-64.72135954999617\");"
      ],
      "text/plain": [
       "<IPython.core.display.Javascript object>"
      ]
     },
     "metadata": {},
     "output_type": "display_data"
    },
    {
     "data": {
      "application/javascript": [
       "const el = document.querySelector(\"#c01\");\n",
       "        el.setAttribute(\"cx\", \"-47.02282018339805\");"
      ],
      "text/plain": [
       "<IPython.core.display.Javascript object>"
      ]
     },
     "metadata": {},
     "output_type": "display_data"
    },
    {
     "data": {
      "application/javascript": [
       "const el = document.querySelector(\"#c02\");\n",
       "        el.setAttribute(\"y\", \"-47.022820183398466\");"
      ],
      "text/plain": [
       "<IPython.core.display.Javascript object>"
      ]
     },
     "metadata": {},
     "output_type": "display_data"
    },
    {
     "data": {
      "application/javascript": [
       "const el = document.querySelector(\"#c02\");\n",
       "        el.setAttribute(\"y\", \"-24.721359549996652\");"
      ],
      "text/plain": [
       "<IPython.core.display.Javascript object>"
      ]
     },
     "metadata": {},
     "output_type": "display_data"
    },
    {
     "data": {
      "application/javascript": [
       "const el = document.querySelector(\"#c01\");\n",
       "        el.setAttribute(\"cx\", \"-64.72135954999595\");"
      ],
      "text/plain": [
       "<IPython.core.display.Javascript object>"
      ]
     },
     "metadata": {},
     "output_type": "display_data"
    },
    {
     "data": {
      "application/javascript": [
       "const el = document.querySelector(\"#c02\");\n",
       "        el.setAttribute(\"y\", \"-1.048644289226624e-12\");"
      ],
      "text/plain": [
       "<IPython.core.display.Javascript object>"
      ]
     },
     "metadata": {},
     "output_type": "display_data"
    },
    {
     "data": {
      "application/javascript": [
       "const el = document.querySelector(\"#c02\");\n",
       "        el.setAttribute(\"y\", \"24.72135954999493\");"
      ],
      "text/plain": [
       "<IPython.core.display.Javascript object>"
      ]
     },
     "metadata": {},
     "output_type": "display_data"
    },
    {
     "data": {
      "application/javascript": [
       "const el = document.querySelector(\"#c01\");\n",
       "        el.setAttribute(\"cx\", \"-76.08452130361236\");"
      ],
      "text/plain": [
       "<IPython.core.display.Javascript object>"
      ]
     },
     "metadata": {},
     "output_type": "display_data"
    },
    {
     "data": {
      "application/javascript": [
       "const el = document.querySelector(\"#c02\");\n",
       "        el.setAttribute(\"y\", \"47.022820183397\");"
      ],
      "text/plain": [
       "<IPython.core.display.Javascript object>"
      ]
     },
     "metadata": {},
     "output_type": "display_data"
    },
    {
     "data": {
      "application/javascript": [
       "const el = document.querySelector(\"#c02\");\n",
       "        el.setAttribute(\"y\", \"64.7213595499951\");"
      ],
      "text/plain": [
       "<IPython.core.display.Javascript object>"
      ]
     },
     "metadata": {},
     "output_type": "display_data"
    },
    {
     "data": {
      "application/javascript": [
       "const el = document.querySelector(\"#c01\");\n",
       "        el.setAttribute(\"cx\", \"-80.0\");"
      ],
      "text/plain": [
       "<IPython.core.display.Javascript object>"
      ]
     },
     "metadata": {},
     "output_type": "display_data"
    },
    {
     "data": {
      "application/javascript": [
       "const el = document.querySelector(\"#c02\");\n",
       "        el.setAttribute(\"y\", \"76.08452130361188\");"
      ],
      "text/plain": [
       "<IPython.core.display.Javascript object>"
      ]
     },
     "metadata": {},
     "output_type": "display_data"
    },
    {
     "data": {
      "application/javascript": [
       "const el = document.querySelector(\"#c02\");\n",
       "        el.setAttribute(\"y\", \"80.0\");"
      ],
      "text/plain": [
       "<IPython.core.display.Javascript object>"
      ]
     },
     "metadata": {},
     "output_type": "display_data"
    },
    {
     "data": {
      "application/javascript": [
       "const el = document.querySelector(\"#c01\");\n",
       "        el.setAttribute(\"cx\", \"-76.08452130361216\");"
      ],
      "text/plain": [
       "<IPython.core.display.Javascript object>"
      ]
     },
     "metadata": {},
     "output_type": "display_data"
    },
    {
     "data": {
      "application/javascript": [
       "const el = document.querySelector(\"#c02\");\n",
       "        el.setAttribute(\"y\", \"76.08452130361279\");"
      ],
      "text/plain": [
       "<IPython.core.display.Javascript object>"
      ]
     },
     "metadata": {},
     "output_type": "display_data"
    },
    {
     "data": {
      "application/javascript": [
       "const el = document.querySelector(\"#c02\");\n",
       "        el.setAttribute(\"y\", \"64.72135954999666\");"
      ],
      "text/plain": [
       "<IPython.core.display.Javascript object>"
      ]
     },
     "metadata": {},
     "output_type": "display_data"
    },
    {
     "data": {
      "application/javascript": [
       "const el = document.querySelector(\"#c01\");\n",
       "        el.setAttribute(\"cx\", \"-64.72135954999557\");"
      ],
      "text/plain": [
       "<IPython.core.display.Javascript object>"
      ]
     },
     "metadata": {},
     "output_type": "display_data"
    },
    {
     "data": {
      "application/javascript": [
       "const el = document.querySelector(\"#c02\");\n",
       "        el.setAttribute(\"y\", \"47.02282018339916\");"
      ],
      "text/plain": [
       "<IPython.core.display.Javascript object>"
      ]
     },
     "metadata": {},
     "output_type": "display_data"
    },
    {
     "data": {
      "application/javascript": [
       "const el = document.querySelector(\"#c02\");\n",
       "        el.setAttribute(\"y\", \"24.721359549997473\");"
      ],
      "text/plain": [
       "<IPython.core.display.Javascript object>"
      ]
     },
     "metadata": {},
     "output_type": "display_data"
    },
    {
     "data": {
      "application/javascript": [
       "const el = document.querySelector(\"#c01\");\n",
       "        el.setAttribute(\"cx\", \"-47.02282018339753\");"
      ],
      "text/plain": [
       "<IPython.core.display.Javascript object>"
      ]
     },
     "metadata": {},
     "output_type": "display_data"
    },
    {
     "data": {
      "application/javascript": [
       "const el = document.querySelector(\"#c02\");\n",
       "        el.setAttribute(\"y\", \"1.911092746531923e-12\");"
      ],
      "text/plain": [
       "<IPython.core.display.Javascript object>"
      ]
     },
     "metadata": {},
     "output_type": "display_data"
    },
    {
     "data": {
      "application/javascript": [
       "const el = document.querySelector(\"#c02\");\n",
       "        el.setAttribute(\"y\", \"-24.721359549993842\");"
      ],
      "text/plain": [
       "<IPython.core.display.Javascript object>"
      ]
     },
     "metadata": {},
     "output_type": "display_data"
    },
    {
     "data": {
      "application/javascript": [
       "const el = document.querySelector(\"#c01\");\n",
       "        el.setAttribute(\"cx\", \"-24.72135954999542\");"
      ],
      "text/plain": [
       "<IPython.core.display.Javascript object>"
      ]
     },
     "metadata": {},
     "output_type": "display_data"
    },
    {
     "data": {
      "application/javascript": [
       "const el = document.querySelector(\"#c02\");\n",
       "        el.setAttribute(\"y\", \"-47.022820183396306\");"
      ],
      "text/plain": [
       "<IPython.core.display.Javascript object>"
      ]
     },
     "metadata": {},
     "output_type": "display_data"
    },
    {
     "data": {
      "application/javascript": [
       "const el = document.querySelector(\"#c02\");\n",
       "        el.setAttribute(\"y\", \"-64.72135954999459\");"
      ],
      "text/plain": [
       "<IPython.core.display.Javascript object>"
      ]
     },
     "metadata": {},
     "output_type": "display_data"
    },
    {
     "data": {
      "application/javascript": [
       "const el = document.querySelector(\"#c01\");\n",
       "        el.setAttribute(\"cx\", \"3.920355310799342e-13\");"
      ],
      "text/plain": [
       "<IPython.core.display.Javascript object>"
      ]
     },
     "metadata": {},
     "output_type": "display_data"
    },
    {
     "data": {
      "application/javascript": [
       "const el = document.querySelector(\"#c02\");\n",
       "        el.setAttribute(\"y\", \"-76.08452130361161\");"
      ],
      "text/plain": [
       "<IPython.core.display.Javascript object>"
      ]
     },
     "metadata": {},
     "output_type": "display_data"
    },
    {
     "data": {
      "application/javascript": [
       "const el = document.querySelector(\"#c02\");\n",
       "        el.setAttribute(\"y\", \"-80.0\");"
      ],
      "text/plain": [
       "<IPython.core.display.Javascript object>"
      ]
     },
     "metadata": {},
     "output_type": "display_data"
    },
    {
     "data": {
      "application/javascript": [
       "const el = document.querySelector(\"#c01\");\n",
       "        el.setAttribute(\"cx\", \"24.721359549996166\");"
      ],
      "text/plain": [
       "<IPython.core.display.Javascript object>"
      ]
     },
     "metadata": {},
     "output_type": "display_data"
    },
    {
     "data": {
      "application/javascript": [
       "const el = document.querySelector(\"#c02\");\n",
       "        el.setAttribute(\"y\", \"-76.08452130361306\");"
      ],
      "text/plain": [
       "<IPython.core.display.Javascript object>"
      ]
     },
     "metadata": {},
     "output_type": "display_data"
    },
    {
     "data": {
      "application/javascript": [
       "const el = document.querySelector(\"#c02\");\n",
       "        el.setAttribute(\"y\", \"-64.72135954999717\");"
      ],
      "text/plain": [
       "<IPython.core.display.Javascript object>"
      ]
     },
     "metadata": {},
     "output_type": "display_data"
    },
    {
     "data": {
      "application/javascript": [
       "const el = document.querySelector(\"#c01\");\n",
       "        el.setAttribute(\"cx\", \"47.02282018339816\");"
      ],
      "text/plain": [
       "<IPython.core.display.Javascript object>"
      ]
     },
     "metadata": {},
     "output_type": "display_data"
    },
    {
     "data": {
      "application/javascript": [
       "const el = document.querySelector(\"#c02\");\n",
       "        el.setAttribute(\"y\", \"-47.02282018339986\");"
      ],
      "text/plain": [
       "<IPython.core.display.Javascript object>"
      ]
     },
     "metadata": {},
     "output_type": "display_data"
    },
    {
     "data": {
      "application/javascript": [
       "const el = document.querySelector(\"#c01\");\n",
       "        el.setAttribute(\"cx\", \"64.72135954999611\");"
      ],
      "text/plain": [
       "<IPython.core.display.Javascript object>"
      ]
     },
     "metadata": {},
     "output_type": "display_data"
    },
    {
     "data": {
      "application/javascript": [
       "const el = document.querySelector(\"#c02\");\n",
       "        el.setAttribute(\"y\", \"-24.721359549998297\");"
      ],
      "text/plain": [
       "<IPython.core.display.Javascript object>"
      ]
     },
     "metadata": {},
     "output_type": "display_data"
    },
    {
     "data": {
      "application/javascript": [
       "const el = document.querySelector(\"#c02\");\n",
       "        el.setAttribute(\"y\", \"-2.7735412038372216e-12\");"
      ],
      "text/plain": [
       "<IPython.core.display.Javascript object>"
      ]
     },
     "metadata": {},
     "output_type": "display_data"
    },
    {
     "data": {
      "application/javascript": [
       "const el = document.querySelector(\"#c01\");\n",
       "        el.setAttribute(\"cx\", \"76.08452130361245\");"
      ],
      "text/plain": [
       "<IPython.core.display.Javascript object>"
      ]
     },
     "metadata": {},
     "output_type": "display_data"
    },
    {
     "data": {
      "application/javascript": [
       "const el = document.querySelector(\"#c02\");\n",
       "        el.setAttribute(\"y\", \"24.72135954999302\");"
      ],
      "text/plain": [
       "<IPython.core.display.Javascript object>"
      ]
     },
     "metadata": {},
     "output_type": "display_data"
    },
    {
     "data": {
      "application/javascript": [
       "const el = document.querySelector(\"#c02\");\n",
       "        el.setAttribute(\"y\", \"47.022820183395375\");"
      ],
      "text/plain": [
       "<IPython.core.display.Javascript object>"
      ]
     },
     "metadata": {},
     "output_type": "display_data"
    },
    {
     "data": {
      "application/javascript": [
       "const el = document.querySelector(\"#c01\");\n",
       "        el.setAttribute(\"cx\", \"80.0\");"
      ],
      "text/plain": [
       "<IPython.core.display.Javascript object>"
      ]
     },
     "metadata": {},
     "output_type": "display_data"
    },
    {
     "data": {
      "application/javascript": [
       "const el = document.querySelector(\"#c02\");\n",
       "        el.setAttribute(\"y\", \"64.72135954999408\");"
      ],
      "text/plain": [
       "<IPython.core.display.Javascript object>"
      ]
     },
     "metadata": {},
     "output_type": "display_data"
    },
    {
     "data": {
      "application/javascript": [
       "const el = document.querySelector(\"#c02\");\n",
       "        el.setAttribute(\"y\", \"76.08452130361134\");"
      ],
      "text/plain": [
       "<IPython.core.display.Javascript object>"
      ]
     },
     "metadata": {},
     "output_type": "display_data"
    },
    {
     "data": {
      "application/javascript": [
       "const el = document.querySelector(\"#c01\");\n",
       "        el.setAttribute(\"cx\", \"76.08452130361216\");"
      ],
      "text/plain": [
       "<IPython.core.display.Javascript object>"
      ]
     },
     "metadata": {},
     "output_type": "display_data"
    },
    {
     "data": {
      "application/javascript": [
       "const el = document.querySelector(\"#c02\");\n",
       "        el.setAttribute(\"y\", \"80.0\");"
      ],
      "text/plain": [
       "<IPython.core.display.Javascript object>"
      ]
     },
     "metadata": {},
     "output_type": "display_data"
    },
    {
     "data": {
      "application/javascript": [
       "const el = document.querySelector(\"#c02\");\n",
       "        el.setAttribute(\"y\", \"76.08452130361331\");"
      ],
      "text/plain": [
       "<IPython.core.display.Javascript object>"
      ]
     },
     "metadata": {},
     "output_type": "display_data"
    },
    {
     "data": {
      "application/javascript": [
       "const el = document.querySelector(\"#c01\");\n",
       "        el.setAttribute(\"cx\", \"64.72135954999565\");"
      ],
      "text/plain": [
       "<IPython.core.display.Javascript object>"
      ]
     },
     "metadata": {},
     "output_type": "display_data"
    },
    {
     "data": {
      "application/javascript": [
       "const el = document.querySelector(\"#c02\");\n",
       "        el.setAttribute(\"y\", \"64.72135954999784\");"
      ],
      "text/plain": [
       "<IPython.core.display.Javascript object>"
      ]
     },
     "metadata": {},
     "output_type": "display_data"
    },
    {
     "data": {
      "application/javascript": [
       "const el = document.querySelector(\"#c02\");\n",
       "        el.setAttribute(\"y\", \"47.02282018340056\");"
      ],
      "text/plain": [
       "<IPython.core.display.Javascript object>"
      ]
     },
     "metadata": {},
     "output_type": "display_data"
    },
    {
     "data": {
      "application/javascript": [
       "const el = document.querySelector(\"#c01\");\n",
       "        el.setAttribute(\"cx\", \"47.02282018339777\");"
      ],
      "text/plain": [
       "<IPython.core.display.Javascript object>"
      ]
     },
     "metadata": {},
     "output_type": "display_data"
    },
    {
     "data": {
      "application/javascript": [
       "const el = document.querySelector(\"#c02\");\n",
       "        el.setAttribute(\"y\", \"24.721359549999118\");"
      ],
      "text/plain": [
       "<IPython.core.display.Javascript object>"
      ]
     },
     "metadata": {},
     "output_type": "display_data"
    },
    {
     "data": {
      "application/javascript": [
       "const el = document.querySelector(\"#c02\");\n",
       "        el.setAttribute(\"y\", \"3.635989661142521e-12\");"
      ],
      "text/plain": [
       "<IPython.core.display.Javascript object>"
      ]
     },
     "metadata": {},
     "output_type": "display_data"
    },
    {
     "data": {
      "application/javascript": [
       "const el = document.querySelector(\"#c01\");\n",
       "        el.setAttribute(\"cx\", \"24.721359549995697\");"
      ],
      "text/plain": [
       "<IPython.core.display.Javascript object>"
      ]
     },
     "metadata": {},
     "output_type": "display_data"
    },
    {
     "data": {
      "application/javascript": [
       "const el = document.querySelector(\"#c02\");\n",
       "        el.setAttribute(\"y\", \"-24.7213595499922\");"
      ],
      "text/plain": [
       "<IPython.core.display.Javascript object>"
      ]
     },
     "metadata": {},
     "output_type": "display_data"
    },
    {
     "data": {
      "application/javascript": [
       "const el = document.querySelector(\"#c02\");\n",
       "        el.setAttribute(\"y\", \"-47.02282018339468\");"
      ],
      "text/plain": [
       "<IPython.core.display.Javascript object>"
      ]
     },
     "metadata": {},
     "output_type": "display_data"
    },
    {
     "data": {
      "application/javascript": [
       "const el = document.querySelector(\"#c01\");\n",
       "        el.setAttribute(\"cx\", \"4.4087284769304716e-14\");"
      ],
      "text/plain": [
       "<IPython.core.display.Javascript object>"
      ]
     },
     "metadata": {},
     "output_type": "display_data"
    },
    {
     "data": {
      "application/javascript": [
       "const el = document.querySelector(\"#c02\");\n",
       "        el.setAttribute(\"y\", \"-64.72135954999341\");"
      ],
      "text/plain": [
       "<IPython.core.display.Javascript object>"
      ]
     },
     "metadata": {},
     "output_type": "display_data"
    },
    {
     "data": {
      "application/javascript": [
       "const el = document.querySelector(\"#c02\");\n",
       "        el.setAttribute(\"y\", \"-76.08452130361107\");"
      ],
      "text/plain": [
       "<IPython.core.display.Javascript object>"
      ]
     },
     "metadata": {},
     "output_type": "display_data"
    },
    {
     "data": {
      "application/javascript": [
       "const el = document.querySelector(\"#c01\");\n",
       "        el.setAttribute(\"cx\", \"-24.721359549995615\");"
      ],
      "text/plain": [
       "<IPython.core.display.Javascript object>"
      ]
     },
     "metadata": {},
     "output_type": "display_data"
    },
    {
     "data": {
      "application/javascript": [
       "const el = document.querySelector(\"#c02\");\n",
       "        el.setAttribute(\"y\", \"-80.0\");"
      ],
      "text/plain": [
       "<IPython.core.display.Javascript object>"
      ]
     },
     "metadata": {},
     "output_type": "display_data"
    },
    {
     "data": {
      "application/javascript": [
       "const el = document.querySelector(\"#c02\");\n",
       "        el.setAttribute(\"y\", \"-76.08452130361358\");"
      ],
      "text/plain": [
       "<IPython.core.display.Javascript object>"
      ]
     },
     "metadata": {},
     "output_type": "display_data"
    },
    {
     "data": {
      "application/javascript": [
       "const el = document.querySelector(\"#c01\");\n",
       "        el.setAttribute(\"cx\", \"-47.0228201833977\");"
      ],
      "text/plain": [
       "<IPython.core.display.Javascript object>"
      ]
     },
     "metadata": {},
     "output_type": "display_data"
    },
    {
     "data": {
      "application/javascript": [
       "const el = document.querySelector(\"#c02\");\n",
       "        el.setAttribute(\"y\", \"-64.72135954999835\");"
      ],
      "text/plain": [
       "<IPython.core.display.Javascript object>"
      ]
     },
     "metadata": {},
     "output_type": "display_data"
    },
    {
     "data": {
      "application/javascript": [
       "const el = document.querySelector(\"#c02\");\n",
       "        el.setAttribute(\"y\", \"-47.02282018340149\");"
      ],
      "text/plain": [
       "<IPython.core.display.Javascript object>"
      ]
     },
     "metadata": {},
     "output_type": "display_data"
    },
    {
     "data": {
      "application/javascript": [
       "const el = document.querySelector(\"#c01\");\n",
       "        el.setAttribute(\"cx\", \"-64.7213595499956\");"
      ],
      "text/plain": [
       "<IPython.core.display.Javascript object>"
      ]
     },
     "metadata": {},
     "output_type": "display_data"
    },
    {
     "data": {
      "application/javascript": [
       "const el = document.querySelector(\"#c02\");\n",
       "        el.setAttribute(\"y\", \"-24.721359549999935\");"
      ],
      "text/plain": [
       "<IPython.core.display.Javascript object>"
      ]
     },
     "metadata": {},
     "output_type": "display_data"
    },
    {
     "data": {
      "application/javascript": [
       "const el = document.querySelector(\"#c02\");\n",
       "        el.setAttribute(\"y\", \"-4.49843811844782e-12\");"
      ],
      "text/plain": [
       "<IPython.core.display.Javascript object>"
      ]
     },
     "metadata": {},
     "output_type": "display_data"
    },
    {
     "data": {
      "application/javascript": [
       "const el = document.querySelector(\"#c01\");\n",
       "        el.setAttribute(\"cx\", \"-76.08452130361214\");"
      ],
      "text/plain": [
       "<IPython.core.display.Javascript object>"
      ]
     },
     "metadata": {},
     "output_type": "display_data"
    },
    {
     "data": {
      "application/javascript": [
       "const el = document.querySelector(\"#c02\");\n",
       "        el.setAttribute(\"y\", \"24.721359549991377\");"
      ],
      "text/plain": [
       "<IPython.core.display.Javascript object>"
      ]
     },
     "metadata": {},
     "output_type": "display_data"
    },
    {
     "data": {
      "application/javascript": [
       "const el = document.querySelector(\"#c02\");\n",
       "        el.setAttribute(\"y\", \"47.022820183393975\");"
      ],
      "text/plain": [
       "<IPython.core.display.Javascript object>"
      ]
     },
     "metadata": {},
     "output_type": "display_data"
    },
    {
     "data": {
      "application/javascript": [
       "const el = document.querySelector(\"#c01\");\n",
       "        el.setAttribute(\"cx\", \"-80.0\");"
      ],
      "text/plain": [
       "<IPython.core.display.Javascript object>"
      ]
     },
     "metadata": {},
     "output_type": "display_data"
    },
    {
     "data": {
      "application/javascript": [
       "const el = document.querySelector(\"#c02\");\n",
       "        el.setAttribute(\"y\", \"64.7213595499929\");"
      ],
      "text/plain": [
       "<IPython.core.display.Javascript object>"
      ]
     },
     "metadata": {},
     "output_type": "display_data"
    },
    {
     "data": {
      "application/javascript": [
       "const el = document.querySelector(\"#c02\");\n",
       "        el.setAttribute(\"y\", \"76.08452130361081\");"
      ],
      "text/plain": [
       "<IPython.core.display.Javascript object>"
      ]
     },
     "metadata": {},
     "output_type": "display_data"
    },
    {
     "data": {
      "application/javascript": [
       "const el = document.querySelector(\"#c01\");\n",
       "        el.setAttribute(\"cx\", \"-76.08452130361243\");"
      ],
      "text/plain": [
       "<IPython.core.display.Javascript object>"
      ]
     },
     "metadata": {},
     "output_type": "display_data"
    },
    {
     "data": {
      "application/javascript": [
       "const el = document.querySelector(\"#c02\");\n",
       "        el.setAttribute(\"y\", \"80.0\");"
      ],
      "text/plain": [
       "<IPython.core.display.Javascript object>"
      ]
     },
     "metadata": {},
     "output_type": "display_data"
    },
    {
     "data": {
      "application/javascript": [
       "const el = document.querySelector(\"#c02\");\n",
       "        el.setAttribute(\"y\", \"76.08452130361385\");"
      ],
      "text/plain": [
       "<IPython.core.display.Javascript object>"
      ]
     },
     "metadata": {},
     "output_type": "display_data"
    },
    {
     "data": {
      "application/javascript": [
       "const el = document.querySelector(\"#c01\");\n",
       "        el.setAttribute(\"cx\", \"-64.72135954999617\");"
      ],
      "text/plain": [
       "<IPython.core.display.Javascript object>"
      ]
     },
     "metadata": {},
     "output_type": "display_data"
    },
    {
     "data": {
      "application/javascript": [
       "const el = document.querySelector(\"#c02\");\n",
       "        el.setAttribute(\"y\", \"64.7213595499987\");"
      ],
      "text/plain": [
       "<IPython.core.display.Javascript object>"
      ]
     },
     "metadata": {},
     "output_type": "display_data"
    },
    {
     "data": {
      "application/javascript": [
       "const el = document.querySelector(\"#c02\");\n",
       "        el.setAttribute(\"y\", \"47.02282018340219\");"
      ],
      "text/plain": [
       "<IPython.core.display.Javascript object>"
      ]
     },
     "metadata": {},
     "output_type": "display_data"
    },
    {
     "data": {
      "application/javascript": [
       "const el = document.querySelector(\"#c01\");\n",
       "        el.setAttribute(\"cx\", \"-47.022820183398466\");"
      ],
      "text/plain": [
       "<IPython.core.display.Javascript object>"
      ]
     },
     "metadata": {},
     "output_type": "display_data"
    },
    {
     "data": {
      "application/javascript": [
       "const el = document.querySelector(\"#c02\");\n",
       "        el.setAttribute(\"y\", \"24.721359550000756\");"
      ],
      "text/plain": [
       "<IPython.core.display.Javascript object>"
      ]
     },
     "metadata": {},
     "output_type": "display_data"
    },
    {
     "data": {
      "application/javascript": [
       "const el = document.querySelector(\"#c02\");\n",
       "        el.setAttribute(\"y\", \"5.645103670057159e-12\");"
      ],
      "text/plain": [
       "<IPython.core.display.Javascript object>"
      ]
     },
     "metadata": {},
     "output_type": "display_data"
    },
    {
     "data": {
      "application/javascript": [
       "const el = document.querySelector(\"#c01\");\n",
       "        el.setAttribute(\"cx\", \"-24.721359549996652\");"
      ],
      "text/plain": [
       "<IPython.core.display.Javascript object>"
      ]
     },
     "metadata": {},
     "output_type": "display_data"
    },
    {
     "data": {
      "application/javascript": [
       "const el = document.querySelector(\"#c02\");\n",
       "        el.setAttribute(\"y\", \"-24.72135954999056\");"
      ],
      "text/plain": [
       "<IPython.core.display.Javascript object>"
      ]
     },
     "metadata": {},
     "output_type": "display_data"
    },
    {
     "data": {
      "application/javascript": [
       "const el = document.querySelector(\"#c02\");\n",
       "        el.setAttribute(\"y\", \"-47.022820183393506\");"
      ],
      "text/plain": [
       "<IPython.core.display.Javascript object>"
      ]
     },
     "metadata": {},
     "output_type": "display_data"
    },
    {
     "data": {
      "application/javascript": [
       "const el = document.querySelector(\"#c01\");\n",
       "        el.setAttribute(\"cx\", \"-1.048644289226624e-12\");"
      ],
      "text/plain": [
       "<IPython.core.display.Javascript object>"
      ]
     },
     "metadata": {},
     "output_type": "display_data"
    },
    {
     "data": {
      "application/javascript": [
       "const el = document.querySelector(\"#c02\");\n",
       "        el.setAttribute(\"y\", \"-64.7213595499924\");"
      ],
      "text/plain": [
       "<IPython.core.display.Javascript object>"
      ]
     },
     "metadata": {},
     "output_type": "display_data"
    },
    {
     "data": {
      "application/javascript": [
       "const el = document.querySelector(\"#c02\");\n",
       "        el.setAttribute(\"y\", \"-76.08452130361054\");"
      ],
      "text/plain": [
       "<IPython.core.display.Javascript object>"
      ]
     },
     "metadata": {},
     "output_type": "display_data"
    },
    {
     "data": {
      "application/javascript": [
       "const el = document.querySelector(\"#c01\");\n",
       "        el.setAttribute(\"cx\", \"24.72135954999493\");"
      ],
      "text/plain": [
       "<IPython.core.display.Javascript object>"
      ]
     },
     "metadata": {},
     "output_type": "display_data"
    },
    {
     "data": {
      "application/javascript": [
       "const el = document.querySelector(\"#c02\");\n",
       "        el.setAttribute(\"y\", \"-80.0\");"
      ],
      "text/plain": [
       "<IPython.core.display.Javascript object>"
      ]
     },
     "metadata": {},
     "output_type": "display_data"
    },
    {
     "data": {
      "application/javascript": [
       "const el = document.querySelector(\"#c01\");\n",
       "        el.setAttribute(\"cx\", \"47.022820183397\");"
      ],
      "text/plain": [
       "<IPython.core.display.Javascript object>"
      ]
     },
     "metadata": {},
     "output_type": "display_data"
    },
    {
     "data": {
      "application/javascript": [
       "const el = document.querySelector(\"#c02\");\n",
       "        el.setAttribute(\"y\", \"-76.08452130361412\");"
      ],
      "text/plain": [
       "<IPython.core.display.Javascript object>"
      ]
     },
     "metadata": {},
     "output_type": "display_data"
    },
    {
     "data": {
      "application/javascript": [
       "const el = document.querySelector(\"#c02\");\n",
       "        el.setAttribute(\"y\", \"-64.72135954999953\");"
      ],
      "text/plain": [
       "<IPython.core.display.Javascript object>"
      ]
     },
     "metadata": {},
     "output_type": "display_data"
    },
    {
     "data": {
      "application/javascript": [
       "const el = document.querySelector(\"#c01\");\n",
       "        el.setAttribute(\"cx\", \"64.7213595499951\");"
      ],
      "text/plain": [
       "<IPython.core.display.Javascript object>"
      ]
     },
     "metadata": {},
     "output_type": "display_data"
    },
    {
     "data": {
      "application/javascript": [
       "const el = document.querySelector(\"#c02\");\n",
       "        el.setAttribute(\"y\", \"-47.022820183402885\");"
      ],
      "text/plain": [
       "<IPython.core.display.Javascript object>"
      ]
     },
     "metadata": {},
     "output_type": "display_data"
    },
    {
     "data": {
      "application/javascript": [
       "const el = document.querySelector(\"#c02\");\n",
       "        el.setAttribute(\"y\", \"-24.72135955000158\");"
      ],
      "text/plain": [
       "<IPython.core.display.Javascript object>"
      ]
     },
     "metadata": {},
     "output_type": "display_data"
    },
    {
     "data": {
      "application/javascript": [
       "const el = document.querySelector(\"#c01\");\n",
       "        el.setAttribute(\"cx\", \"76.08452130361188\");"
      ],
      "text/plain": [
       "<IPython.core.display.Javascript object>"
      ]
     },
     "metadata": {},
     "output_type": "display_data"
    },
    {
     "data": {
      "application/javascript": [
       "const el = document.querySelector(\"#c02\");\n",
       "        el.setAttribute(\"y\", \"-6.507552127362458e-12\");"
      ],
      "text/plain": [
       "<IPython.core.display.Javascript object>"
      ]
     },
     "metadata": {},
     "output_type": "display_data"
    },
    {
     "data": {
      "application/javascript": [
       "const el = document.querySelector(\"#c02\");\n",
       "        el.setAttribute(\"y\", \"24.72135954998974\");"
      ],
      "text/plain": [
       "<IPython.core.display.Javascript object>"
      ]
     },
     "metadata": {},
     "output_type": "display_data"
    },
    {
     "data": {
      "application/javascript": [
       "const el = document.querySelector(\"#c01\");\n",
       "        el.setAttribute(\"cx\", \"80.0\");"
      ],
      "text/plain": [
       "<IPython.core.display.Javascript object>"
      ]
     },
     "metadata": {},
     "output_type": "display_data"
    },
    {
     "data": {
      "application/javascript": [
       "const el = document.querySelector(\"#c02\");\n",
       "        el.setAttribute(\"y\", \"47.022820183392355\");"
      ],
      "text/plain": [
       "<IPython.core.display.Javascript object>"
      ]
     },
     "metadata": {},
     "output_type": "display_data"
    },
    {
     "data": {
      "application/javascript": [
       "const el = document.querySelector(\"#c02\");\n",
       "        el.setAttribute(\"y\", \"64.72135954999187\");"
      ],
      "text/plain": [
       "<IPython.core.display.Javascript object>"
      ]
     },
     "metadata": {},
     "output_type": "display_data"
    },
    {
     "data": {
      "application/javascript": [
       "const el = document.querySelector(\"#c01\");\n",
       "        el.setAttribute(\"cx\", \"76.08452130361279\");"
      ],
      "text/plain": [
       "<IPython.core.display.Javascript object>"
      ]
     },
     "metadata": {},
     "output_type": "display_data"
    },
    {
     "data": {
      "application/javascript": [
       "const el = document.querySelector(\"#c02\");\n",
       "        el.setAttribute(\"y\", \"76.08452130361027\");"
      ],
      "text/plain": [
       "<IPython.core.display.Javascript object>"
      ]
     },
     "metadata": {},
     "output_type": "display_data"
    },
    {
     "data": {
      "application/javascript": [
       "const el = document.querySelector(\"#c02\");\n",
       "        el.setAttribute(\"y\", \"80.0\");"
      ],
      "text/plain": [
       "<IPython.core.display.Javascript object>"
      ]
     },
     "metadata": {},
     "output_type": "display_data"
    },
    {
     "data": {
      "application/javascript": [
       "const el = document.querySelector(\"#c01\");\n",
       "        el.setAttribute(\"cx\", \"64.72135954999666\");"
      ],
      "text/plain": [
       "<IPython.core.display.Javascript object>"
      ]
     },
     "metadata": {},
     "output_type": "display_data"
    },
    {
     "data": {
      "application/javascript": [
       "const el = document.querySelector(\"#c02\");\n",
       "        el.setAttribute(\"y\", \"76.0845213036144\");"
      ],
      "text/plain": [
       "<IPython.core.display.Javascript object>"
      ]
     },
     "metadata": {},
     "output_type": "display_data"
    },
    {
     "data": {
      "application/javascript": [
       "const el = document.querySelector(\"#c02\");\n",
       "        el.setAttribute(\"y\", \"64.72135955000005\");"
      ],
      "text/plain": [
       "<IPython.core.display.Javascript object>"
      ]
     },
     "metadata": {},
     "output_type": "display_data"
    },
    {
     "data": {
      "application/javascript": [
       "const el = document.querySelector(\"#c01\");\n",
       "        el.setAttribute(\"cx\", \"47.02282018339916\");"
      ],
      "text/plain": [
       "<IPython.core.display.Javascript object>"
      ]
     },
     "metadata": {},
     "output_type": "display_data"
    },
    {
     "data": {
      "application/javascript": [
       "const el = document.querySelector(\"#c02\");\n",
       "        el.setAttribute(\"y\", \"47.02282018340358\");"
      ],
      "text/plain": [
       "<IPython.core.display.Javascript object>"
      ]
     },
     "metadata": {},
     "output_type": "display_data"
    },
    {
     "data": {
      "application/javascript": [
       "const el = document.querySelector(\"#c02\");\n",
       "        el.setAttribute(\"y\", \"24.721359550002397\");"
      ],
      "text/plain": [
       "<IPython.core.display.Javascript object>"
      ]
     },
     "metadata": {},
     "output_type": "display_data"
    },
    {
     "data": {
      "application/javascript": [
       "const el = document.querySelector(\"#c01\");\n",
       "        el.setAttribute(\"cx\", \"24.721359549997473\");"
      ],
      "text/plain": [
       "<IPython.core.display.Javascript object>"
      ]
     },
     "metadata": {},
     "output_type": "display_data"
    },
    {
     "data": {
      "application/javascript": [
       "const el = document.querySelector(\"#c02\");\n",
       "        el.setAttribute(\"y\", \"7.370000584667756e-12\");"
      ],
      "text/plain": [
       "<IPython.core.display.Javascript object>"
      ]
     },
     "metadata": {},
     "output_type": "display_data"
    },
    {
     "data": {
      "application/javascript": [
       "const el = document.querySelector(\"#c02\");\n",
       "        el.setAttribute(\"y\", \"-24.721359549988918\");"
      ],
      "text/plain": [
       "<IPython.core.display.Javascript object>"
      ]
     },
     "metadata": {},
     "output_type": "display_data"
    },
    {
     "data": {
      "application/javascript": [
       "const el = document.querySelector(\"#c01\");\n",
       "        el.setAttribute(\"cx\", \"1.911092746531923e-12\");"
      ],
      "text/plain": [
       "<IPython.core.display.Javascript object>"
      ]
     },
     "metadata": {},
     "output_type": "display_data"
    },
    {
     "data": {
      "application/javascript": [
       "const el = document.querySelector(\"#c02\");\n",
       "        el.setAttribute(\"y\", \"-47.02282018339166\");"
      ],
      "text/plain": [
       "<IPython.core.display.Javascript object>"
      ]
     },
     "metadata": {},
     "output_type": "display_data"
    },
    {
     "data": {
      "application/javascript": [
       "const el = document.querySelector(\"#c02\");\n",
       "        el.setAttribute(\"y\", \"-64.72135954999138\");"
      ],
      "text/plain": [
       "<IPython.core.display.Javascript object>"
      ]
     },
     "metadata": {},
     "output_type": "display_data"
    },
    {
     "data": {
      "application/javascript": [
       "const el = document.querySelector(\"#c01\");\n",
       "        el.setAttribute(\"cx\", \"-24.721359549993842\");"
      ],
      "text/plain": [
       "<IPython.core.display.Javascript object>"
      ]
     },
     "metadata": {},
     "output_type": "display_data"
    },
    {
     "data": {
      "application/javascript": [
       "const el = document.querySelector(\"#c02\");\n",
       "        el.setAttribute(\"y\", \"-76.08452130361\");"
      ],
      "text/plain": [
       "<IPython.core.display.Javascript object>"
      ]
     },
     "metadata": {},
     "output_type": "display_data"
    },
    {
     "data": {
      "application/javascript": [
       "const el = document.querySelector(\"#c02\");\n",
       "        el.setAttribute(\"y\", \"-80.0\");"
      ],
      "text/plain": [
       "<IPython.core.display.Javascript object>"
      ]
     },
     "metadata": {},
     "output_type": "display_data"
    },
    {
     "data": {
      "application/javascript": [
       "const el = document.querySelector(\"#c01\");\n",
       "        el.setAttribute(\"cx\", \"-47.022820183396306\");"
      ],
      "text/plain": [
       "<IPython.core.display.Javascript object>"
      ]
     },
     "metadata": {},
     "output_type": "display_data"
    },
    {
     "data": {
      "application/javascript": [
       "const el = document.querySelector(\"#c02\");\n",
       "        el.setAttribute(\"y\", \"-76.08452130361465\");"
      ],
      "text/plain": [
       "<IPython.core.display.Javascript object>"
      ]
     },
     "metadata": {},
     "output_type": "display_data"
    },
    {
     "data": {
      "application/javascript": [
       "const el = document.querySelector(\"#c02\");\n",
       "        el.setAttribute(\"y\", \"-64.72135955000054\");"
      ],
      "text/plain": [
       "<IPython.core.display.Javascript object>"
      ]
     },
     "metadata": {},
     "output_type": "display_data"
    },
    {
     "data": {
      "application/javascript": [
       "const el = document.querySelector(\"#c01\");\n",
       "        el.setAttribute(\"cx\", \"-64.72135954999459\");"
      ],
      "text/plain": [
       "<IPython.core.display.Javascript object>"
      ]
     },
     "metadata": {},
     "output_type": "display_data"
    },
    {
     "data": {
      "application/javascript": [
       "const el = document.querySelector(\"#c02\");\n",
       "        el.setAttribute(\"y\", \"-47.02282018340428\");"
      ],
      "text/plain": [
       "<IPython.core.display.Javascript object>"
      ]
     },
     "metadata": {},
     "output_type": "display_data"
    },
    {
     "data": {
      "application/javascript": [
       "const el = document.querySelector(\"#c02\");\n",
       "        el.setAttribute(\"y\", \"-24.721359550003218\");"
      ],
      "text/plain": [
       "<IPython.core.display.Javascript object>"
      ]
     },
     "metadata": {},
     "output_type": "display_data"
    },
    {
     "data": {
      "application/javascript": [
       "const el = document.querySelector(\"#c01\");\n",
       "        el.setAttribute(\"cx\", \"-76.08452130361161\");"
      ],
      "text/plain": [
       "<IPython.core.display.Javascript object>"
      ]
     },
     "metadata": {},
     "output_type": "display_data"
    },
    {
     "data": {
      "application/javascript": [
       "const el = document.querySelector(\"#c02\");\n",
       "        el.setAttribute(\"y\", \"-8.232449041973056e-12\");"
      ],
      "text/plain": [
       "<IPython.core.display.Javascript object>"
      ]
     },
     "metadata": {},
     "output_type": "display_data"
    },
    {
     "data": {
      "application/javascript": [
       "const el = document.querySelector(\"#c02\");\n",
       "        el.setAttribute(\"y\", \"24.7213595499881\");"
      ],
      "text/plain": [
       "<IPython.core.display.Javascript object>"
      ]
     },
     "metadata": {},
     "output_type": "display_data"
    },
    {
     "data": {
      "application/javascript": [
       "const el = document.querySelector(\"#c01\");\n",
       "        el.setAttribute(\"cx\", \"-80.0\");"
      ],
      "text/plain": [
       "<IPython.core.display.Javascript object>"
      ]
     },
     "metadata": {},
     "output_type": "display_data"
    },
    {
     "data": {
      "application/javascript": [
       "const el = document.querySelector(\"#c02\");\n",
       "        el.setAttribute(\"y\", \"47.02282018339096\");"
      ],
      "text/plain": [
       "<IPython.core.display.Javascript object>"
      ]
     },
     "metadata": {},
     "output_type": "display_data"
    },
    {
     "data": {
      "application/javascript": [
       "const el = document.querySelector(\"#c02\");\n",
       "        el.setAttribute(\"y\", \"64.72135954999086\");"
      ],
      "text/plain": [
       "<IPython.core.display.Javascript object>"
      ]
     },
     "metadata": {},
     "output_type": "display_data"
    },
    {
     "data": {
      "application/javascript": [
       "const el = document.querySelector(\"#c01\");\n",
       "        el.setAttribute(\"cx\", \"-76.08452130361306\");"
      ],
      "text/plain": [
       "<IPython.core.display.Javascript object>"
      ]
     },
     "metadata": {},
     "output_type": "display_data"
    },
    {
     "data": {
      "application/javascript": [
       "const el = document.querySelector(\"#c02\");\n",
       "        el.setAttribute(\"y\", \"76.08452130360956\");"
      ],
      "text/plain": [
       "<IPython.core.display.Javascript object>"
      ]
     },
     "metadata": {},
     "output_type": "display_data"
    },
    {
     "data": {
      "application/javascript": [
       "const el = document.querySelector(\"#c02\");\n",
       "        el.setAttribute(\"y\", \"80.0\");"
      ],
      "text/plain": [
       "<IPython.core.display.Javascript object>"
      ]
     },
     "metadata": {},
     "output_type": "display_data"
    },
    {
     "data": {
      "application/javascript": [
       "const el = document.querySelector(\"#c01\");\n",
       "        el.setAttribute(\"cx\", \"-64.72135954999717\");"
      ],
      "text/plain": [
       "<IPython.core.display.Javascript object>"
      ]
     },
     "metadata": {},
     "output_type": "display_data"
    },
    {
     "data": {
      "application/javascript": [
       "const el = document.querySelector(\"#c02\");\n",
       "        el.setAttribute(\"y\", \"76.08452130361492\");"
      ],
      "text/plain": [
       "<IPython.core.display.Javascript object>"
      ]
     },
     "metadata": {},
     "output_type": "display_data"
    },
    {
     "data": {
      "application/javascript": [
       "const el = document.querySelector(\"#c02\");\n",
       "        el.setAttribute(\"y\", \"64.72135955000105\");"
      ],
      "text/plain": [
       "<IPython.core.display.Javascript object>"
      ]
     },
     "metadata": {},
     "output_type": "display_data"
    },
    {
     "data": {
      "application/javascript": [
       "const el = document.querySelector(\"#c01\");\n",
       "        el.setAttribute(\"cx\", \"-47.02282018339986\");"
      ],
      "text/plain": [
       "<IPython.core.display.Javascript object>"
      ]
     },
     "metadata": {},
     "output_type": "display_data"
    },
    {
     "data": {
      "application/javascript": [
       "const el = document.querySelector(\"#c02\");\n",
       "        el.setAttribute(\"y\", \"47.022820183404974\");"
      ],
      "text/plain": [
       "<IPython.core.display.Javascript object>"
      ]
     },
     "metadata": {},
     "output_type": "display_data"
    },
    {
     "data": {
      "application/javascript": [
       "const el = document.querySelector(\"#c02\");\n",
       "        el.setAttribute(\"y\", \"24.721359550004575\");"
      ],
      "text/plain": [
       "<IPython.core.display.Javascript object>"
      ]
     },
     "metadata": {},
     "output_type": "display_data"
    },
    {
     "data": {
      "application/javascript": [
       "const el = document.querySelector(\"#c01\");\n",
       "        el.setAttribute(\"cx\", \"-24.721359549998297\");"
      ],
      "text/plain": [
       "<IPython.core.display.Javascript object>"
      ]
     },
     "metadata": {},
     "output_type": "display_data"
    },
    {
     "data": {
      "application/javascript": [
       "const el = document.querySelector(\"#c02\");\n",
       "        el.setAttribute(\"y\", \"9.094897499278355e-12\");"
      ],
      "text/plain": [
       "<IPython.core.display.Javascript object>"
      ]
     },
     "metadata": {},
     "output_type": "display_data"
    },
    {
     "data": {
      "application/javascript": [
       "const el = document.querySelector(\"#c02\");\n",
       "        el.setAttribute(\"y\", \"-24.721359549987277\");"
      ],
      "text/plain": [
       "<IPython.core.display.Javascript object>"
      ]
     },
     "metadata": {},
     "output_type": "display_data"
    },
    {
     "data": {
      "application/javascript": [
       "const el = document.querySelector(\"#c01\");\n",
       "        el.setAttribute(\"cx\", \"-2.7735412038372216e-12\");"
      ],
      "text/plain": [
       "<IPython.core.display.Javascript object>"
      ]
     },
     "metadata": {},
     "output_type": "display_data"
    },
    {
     "data": {
      "application/javascript": [
       "const el = document.querySelector(\"#c02\");\n",
       "        el.setAttribute(\"y\", \"-47.02282018339026\");"
      ],
      "text/plain": [
       "<IPython.core.display.Javascript object>"
      ]
     },
     "metadata": {},
     "output_type": "display_data"
    },
    {
     "data": {
      "application/javascript": [
       "const el = document.querySelector(\"#c01\");\n",
       "        el.setAttribute(\"cx\", \"24.72135954999302\");"
      ],
      "text/plain": [
       "<IPython.core.display.Javascript object>"
      ]
     },
     "metadata": {},
     "output_type": "display_data"
    },
    {
     "data": {
      "application/javascript": [
       "const el = document.querySelector(\"#c02\");\n",
       "        el.setAttribute(\"y\", \"-64.72135954999035\");"
      ],
      "text/plain": [
       "<IPython.core.display.Javascript object>"
      ]
     },
     "metadata": {},
     "output_type": "display_data"
    },
    {
     "data": {
      "application/javascript": [
       "const el = document.querySelector(\"#c02\");\n",
       "        el.setAttribute(\"y\", \"-76.08452130360929\");"
      ],
      "text/plain": [
       "<IPython.core.display.Javascript object>"
      ]
     },
     "metadata": {},
     "output_type": "display_data"
    },
    {
     "data": {
      "application/javascript": [
       "const el = document.querySelector(\"#c01\");\n",
       "        el.setAttribute(\"cx\", \"47.022820183395375\");"
      ],
      "text/plain": [
       "<IPython.core.display.Javascript object>"
      ]
     },
     "metadata": {},
     "output_type": "display_data"
    },
    {
     "data": {
      "application/javascript": [
       "const el = document.querySelector(\"#c02\");\n",
       "        el.setAttribute(\"y\", \"-80.0\");"
      ],
      "text/plain": [
       "<IPython.core.display.Javascript object>"
      ]
     },
     "metadata": {},
     "output_type": "display_data"
    },
    {
     "data": {
      "application/javascript": [
       "const el = document.querySelector(\"#c02\");\n",
       "        el.setAttribute(\"y\", \"-76.08452130361519\");"
      ],
      "text/plain": [
       "<IPython.core.display.Javascript object>"
      ]
     },
     "metadata": {},
     "output_type": "display_data"
    },
    {
     "data": {
      "application/javascript": [
       "const el = document.querySelector(\"#c01\");\n",
       "        el.setAttribute(\"cx\", \"64.72135954999408\");"
      ],
      "text/plain": [
       "<IPython.core.display.Javascript object>"
      ]
     },
     "metadata": {},
     "output_type": "display_data"
    },
    {
     "data": {
      "application/javascript": [
       "const el = document.querySelector(\"#c02\");\n",
       "        el.setAttribute(\"y\", \"-64.72135955000157\");"
      ],
      "text/plain": [
       "<IPython.core.display.Javascript object>"
      ]
     },
     "metadata": {},
     "output_type": "display_data"
    },
    {
     "data": {
      "application/javascript": [
       "const el = document.querySelector(\"#c02\");\n",
       "        el.setAttribute(\"y\", \"-47.02282018340568\");"
      ],
      "text/plain": [
       "<IPython.core.display.Javascript object>"
      ]
     },
     "metadata": {},
     "output_type": "display_data"
    },
    {
     "data": {
      "application/javascript": [
       "const el = document.querySelector(\"#c01\");\n",
       "        el.setAttribute(\"cx\", \"76.08452130361134\");"
      ],
      "text/plain": [
       "<IPython.core.display.Javascript object>"
      ]
     },
     "metadata": {},
     "output_type": "display_data"
    },
    {
     "data": {
      "application/javascript": [
       "const el = document.querySelector(\"#c02\");\n",
       "        el.setAttribute(\"y\", \"-24.721359550005396\");"
      ],
      "text/plain": [
       "<IPython.core.display.Javascript object>"
      ]
     },
     "metadata": {},
     "output_type": "display_data"
    },
    {
     "data": {
      "application/javascript": [
       "const el = document.querySelector(\"#c02\");\n",
       "        el.setAttribute(\"y\", \"-9.957345956583655e-12\");"
      ],
      "text/plain": [
       "<IPython.core.display.Javascript object>"
      ]
     },
     "metadata": {},
     "output_type": "display_data"
    },
    {
     "data": {
      "application/javascript": [
       "const el = document.querySelector(\"#c01\");\n",
       "        el.setAttribute(\"cx\", \"80.0\");"
      ],
      "text/plain": [
       "<IPython.core.display.Javascript object>"
      ]
     },
     "metadata": {},
     "output_type": "display_data"
    },
    {
     "data": {
      "application/javascript": [
       "const el = document.querySelector(\"#c02\");\n",
       "        el.setAttribute(\"y\", \"24.721359549986456\");"
      ],
      "text/plain": [
       "<IPython.core.display.Javascript object>"
      ]
     },
     "metadata": {},
     "output_type": "display_data"
    },
    {
     "data": {
      "application/javascript": [
       "const el = document.querySelector(\"#c02\");\n",
       "        el.setAttribute(\"y\", \"47.02282018338956\");"
      ],
      "text/plain": [
       "<IPython.core.display.Javascript object>"
      ]
     },
     "metadata": {},
     "output_type": "display_data"
    },
    {
     "data": {
      "application/javascript": [
       "const el = document.querySelector(\"#c01\");\n",
       "        el.setAttribute(\"cx\", \"76.08452130361331\");"
      ],
      "text/plain": [
       "<IPython.core.display.Javascript object>"
      ]
     },
     "metadata": {},
     "output_type": "display_data"
    },
    {
     "data": {
      "application/javascript": [
       "const el = document.querySelector(\"#c02\");\n",
       "        el.setAttribute(\"y\", \"64.72135954998986\");"
      ],
      "text/plain": [
       "<IPython.core.display.Javascript object>"
      ]
     },
     "metadata": {},
     "output_type": "display_data"
    },
    {
     "data": {
      "application/javascript": [
       "const el = document.querySelector(\"#c02\");\n",
       "        el.setAttribute(\"y\", \"76.08452130360904\");"
      ],
      "text/plain": [
       "<IPython.core.display.Javascript object>"
      ]
     },
     "metadata": {},
     "output_type": "display_data"
    },
    {
     "data": {
      "application/javascript": [
       "const el = document.querySelector(\"#c01\");\n",
       "        el.setAttribute(\"cx\", \"64.72135954999784\");"
      ],
      "text/plain": [
       "<IPython.core.display.Javascript object>"
      ]
     },
     "metadata": {},
     "output_type": "display_data"
    },
    {
     "data": {
      "application/javascript": [
       "const el = document.querySelector(\"#c02\");\n",
       "        el.setAttribute(\"y\", \"80.0\");"
      ],
      "text/plain": [
       "<IPython.core.display.Javascript object>"
      ]
     },
     "metadata": {},
     "output_type": "display_data"
    },
    {
     "data": {
      "application/javascript": [
       "const el = document.querySelector(\"#c02\");\n",
       "        el.setAttribute(\"y\", \"76.08452130361545\");"
      ],
      "text/plain": [
       "<IPython.core.display.Javascript object>"
      ]
     },
     "metadata": {},
     "output_type": "display_data"
    },
    {
     "data": {
      "application/javascript": [
       "const el = document.querySelector(\"#c01\");\n",
       "        el.setAttribute(\"cx\", \"47.02282018340056\");"
      ],
      "text/plain": [
       "<IPython.core.display.Javascript object>"
      ]
     },
     "metadata": {},
     "output_type": "display_data"
    },
    {
     "data": {
      "application/javascript": [
       "const el = document.querySelector(\"#c02\");\n",
       "        el.setAttribute(\"y\", \"64.72135955000174\");"
      ],
      "text/plain": [
       "<IPython.core.display.Javascript object>"
      ]
     },
     "metadata": {},
     "output_type": "display_data"
    },
    {
     "data": {
      "application/javascript": [
       "const el = document.querySelector(\"#c02\");\n",
       "        el.setAttribute(\"y\", \"47.02282018340591\");"
      ],
      "text/plain": [
       "<IPython.core.display.Javascript object>"
      ]
     },
     "metadata": {},
     "output_type": "display_data"
    },
    {
     "data": {
      "application/javascript": [
       "const el = document.querySelector(\"#c01\");\n",
       "        el.setAttribute(\"cx\", \"24.721359549999118\");"
      ],
      "text/plain": [
       "<IPython.core.display.Javascript object>"
      ]
     },
     "metadata": {},
     "output_type": "display_data"
    },
    {
     "data": {
      "application/javascript": [
       "const el = document.querySelector(\"#c02\");\n",
       "        el.setAttribute(\"y\", \"24.7213595500046\");"
      ],
      "text/plain": [
       "<IPython.core.display.Javascript object>"
      ]
     },
     "metadata": {},
     "output_type": "display_data"
    },
    {
     "data": {
      "application/javascript": [
       "const el = document.querySelector(\"#c02\");\n",
       "        el.setAttribute(\"y\", \"9.114491848064714e-12\");"
      ],
      "text/plain": [
       "<IPython.core.display.Javascript object>"
      ]
     },
     "metadata": {},
     "output_type": "display_data"
    },
    {
     "data": {
      "application/javascript": [
       "const el = document.querySelector(\"#c01\");\n",
       "        el.setAttribute(\"cx\", \"3.635989661142521e-12\");"
      ],
      "text/plain": [
       "<IPython.core.display.Javascript object>"
      ]
     },
     "metadata": {},
     "output_type": "display_data"
    },
    {
     "data": {
      "application/javascript": [
       "const el = document.querySelector(\"#c02\");\n",
       "        el.setAttribute(\"y\", \"-24.721359549987262\");"
      ],
      "text/plain": [
       "<IPython.core.display.Javascript object>"
      ]
     },
     "metadata": {},
     "output_type": "display_data"
    },
    {
     "data": {
      "application/javascript": [
       "const el = document.querySelector(\"#c02\");\n",
       "        el.setAttribute(\"y\", \"-47.02282018339116\");"
      ],
      "text/plain": [
       "<IPython.core.display.Javascript object>"
      ]
     },
     "metadata": {},
     "output_type": "display_data"
    },
    {
     "data": {
      "application/javascript": [
       "const el = document.querySelector(\"#c01\");\n",
       "        el.setAttribute(\"cx\", \"-24.7213595499922\");"
      ],
      "text/plain": [
       "<IPython.core.display.Javascript object>"
      ]
     },
     "metadata": {},
     "output_type": "display_data"
    },
    {
     "data": {
      "application/javascript": [
       "const el = document.querySelector(\"#c02\");\n",
       "        el.setAttribute(\"y\", \"-64.72135954999102\");"
      ],
      "text/plain": [
       "<IPython.core.display.Javascript object>"
      ]
     },
     "metadata": {},
     "output_type": "display_data"
    },
    {
     "data": {
      "application/javascript": [
       "const el = document.querySelector(\"#c02\");\n",
       "        el.setAttribute(\"y\", \"-76.08452130360999\");"
      ],
      "text/plain": [
       "<IPython.core.display.Javascript object>"
      ]
     },
     "metadata": {},
     "output_type": "display_data"
    },
    {
     "data": {
      "application/javascript": [
       "const el = document.querySelector(\"#c01\");\n",
       "        el.setAttribute(\"cx\", \"-47.02282018339468\");"
      ],
      "text/plain": [
       "<IPython.core.display.Javascript object>"
      ]
     },
     "metadata": {},
     "output_type": "display_data"
    },
    {
     "data": {
      "application/javascript": [
       "const el = document.querySelector(\"#c02\");\n",
       "        el.setAttribute(\"y\", \"-80.0\");"
      ],
      "text/plain": [
       "<IPython.core.display.Javascript object>"
      ]
     },
     "metadata": {},
     "output_type": "display_data"
    },
    {
     "data": {
      "application/javascript": [
       "const el = document.querySelector(\"#c02\");\n",
       "        el.setAttribute(\"y\", \"-76.08452130361448\");"
      ],
      "text/plain": [
       "<IPython.core.display.Javascript object>"
      ]
     },
     "metadata": {},
     "output_type": "display_data"
    },
    {
     "data": {
      "application/javascript": [
       "const el = document.querySelector(\"#c01\");\n",
       "        el.setAttribute(\"cx\", \"-64.72135954999341\");"
      ],
      "text/plain": [
       "<IPython.core.display.Javascript object>"
      ]
     },
     "metadata": {},
     "output_type": "display_data"
    },
    {
     "data": {
      "application/javascript": [
       "const el = document.querySelector(\"#c02\");\n",
       "        el.setAttribute(\"y\", \"-64.72135954999958\");"
      ],
      "text/plain": [
       "<IPython.core.display.Javascript object>"
      ]
     },
     "metadata": {},
     "output_type": "display_data"
    },
    {
     "data": {
      "application/javascript": [
       "const el = document.querySelector(\"#c02\");\n",
       "        el.setAttribute(\"y\", \"-47.02282018340293\");"
      ],
      "text/plain": [
       "<IPython.core.display.Javascript object>"
      ]
     },
     "metadata": {},
     "output_type": "display_data"
    },
    {
     "data": {
      "application/javascript": [
       "const el = document.querySelector(\"#c01\");\n",
       "        el.setAttribute(\"cx\", \"-76.08452130361107\");"
      ],
      "text/plain": [
       "<IPython.core.display.Javascript object>"
      ]
     },
     "metadata": {},
     "output_type": "display_data"
    },
    {
     "data": {
      "application/javascript": [
       "const el = document.querySelector(\"#c02\");\n",
       "        el.setAttribute(\"y\", \"-24.72135955000163\");"
      ],
      "text/plain": [
       "<IPython.core.display.Javascript object>"
      ]
     },
     "metadata": {},
     "output_type": "display_data"
    },
    {
     "data": {
      "application/javascript": [
       "const el = document.querySelector(\"#c02\");\n",
       "        el.setAttribute(\"y\", \"-5.42946679650537e-12\");"
      ],
      "text/plain": [
       "<IPython.core.display.Javascript object>"
      ]
     },
     "metadata": {},
     "output_type": "display_data"
    },
    {
     "data": {
      "application/javascript": [
       "const el = document.querySelector(\"#c01\");\n",
       "        el.setAttribute(\"cx\", \"-80.0\");"
      ],
      "text/plain": [
       "<IPython.core.display.Javascript object>"
      ]
     },
     "metadata": {},
     "output_type": "display_data"
    },
    {
     "data": {
      "application/javascript": [
       "const el = document.querySelector(\"#c02\");\n",
       "        el.setAttribute(\"y\", \"24.721359549990765\");"
      ],
      "text/plain": [
       "<IPython.core.display.Javascript object>"
      ]
     },
     "metadata": {},
     "output_type": "display_data"
    },
    {
     "data": {
      "application/javascript": [
       "const el = document.querySelector(\"#c02\");\n",
       "        el.setAttribute(\"y\", \"47.022820183394145\");"
      ],
      "text/plain": [
       "<IPython.core.display.Javascript object>"
      ]
     },
     "metadata": {},
     "output_type": "display_data"
    },
    {
     "data": {
      "application/javascript": [
       "const el = document.querySelector(\"#c01\");\n",
       "        el.setAttribute(\"cx\", \"-76.08452130361358\");"
      ],
      "text/plain": [
       "<IPython.core.display.Javascript object>"
      ]
     },
     "metadata": {},
     "output_type": "display_data"
    },
    {
     "data": {
      "application/javascript": [
       "const el = document.querySelector(\"#c02\");\n",
       "        el.setAttribute(\"y\", \"64.72135954999318\");"
      ],
      "text/plain": [
       "<IPython.core.display.Javascript object>"
      ]
     },
     "metadata": {},
     "output_type": "display_data"
    },
    {
     "data": {
      "application/javascript": [
       "const el = document.querySelector(\"#c02\");\n",
       "        el.setAttribute(\"y\", \"76.08452130361096\");"
      ],
      "text/plain": [
       "<IPython.core.display.Javascript object>"
      ]
     },
     "metadata": {},
     "output_type": "display_data"
    },
    {
     "data": {
      "application/javascript": [
       "const el = document.querySelector(\"#c01\");\n",
       "        el.setAttribute(\"cx\", \"-64.72135954999835\");"
      ],
      "text/plain": [
       "<IPython.core.display.Javascript object>"
      ]
     },
     "metadata": {},
     "output_type": "display_data"
    },
    {
     "data": {
      "application/javascript": [
       "const el = document.querySelector(\"#c02\");\n",
       "        el.setAttribute(\"y\", \"80.0\");"
      ],
      "text/plain": [
       "<IPython.core.display.Javascript object>"
      ]
     },
     "metadata": {},
     "output_type": "display_data"
    },
    {
     "data": {
      "application/javascript": [
       "const el = document.querySelector(\"#c02\");\n",
       "        el.setAttribute(\"y\", \"76.08452130361334\");"
      ],
      "text/plain": [
       "<IPython.core.display.Javascript object>"
      ]
     },
     "metadata": {},
     "output_type": "display_data"
    },
    {
     "data": {
      "application/javascript": [
       "const el = document.querySelector(\"#c01\");\n",
       "        el.setAttribute(\"cx\", \"-47.02282018340149\");"
      ],
      "text/plain": [
       "<IPython.core.display.Javascript object>"
      ]
     },
     "metadata": {},
     "output_type": "display_data"
    },
    {
     "data": {
      "application/javascript": [
       "const el = document.querySelector(\"#c02\");\n",
       "        el.setAttribute(\"y\", \"64.72135954999773\");"
      ],
      "text/plain": [
       "<IPython.core.display.Javascript object>"
      ]
     },
     "metadata": {},
     "output_type": "display_data"
    },
    {
     "data": {
      "application/javascript": [
       "const el = document.querySelector(\"#c02\");\n",
       "        el.setAttribute(\"y\", \"47.02282018339994\");"
      ],
      "text/plain": [
       "<IPython.core.display.Javascript object>"
      ]
     },
     "metadata": {},
     "output_type": "display_data"
    },
    {
     "data": {
      "application/javascript": [
       "const el = document.querySelector(\"#c01\");\n",
       "        el.setAttribute(\"cx\", \"-24.721359549999935\");"
      ],
      "text/plain": [
       "<IPython.core.display.Javascript object>"
      ]
     },
     "metadata": {},
     "output_type": "display_data"
    },
    {
     "data": {
      "application/javascript": [
       "const el = document.querySelector(\"#c02\");\n",
       "        el.setAttribute(\"y\", \"24.721359549998127\");"
      ],
      "text/plain": [
       "<IPython.core.display.Javascript object>"
      ]
     },
     "metadata": {},
     "output_type": "display_data"
    },
    {
     "data": {
      "application/javascript": [
       "const el = document.querySelector(\"#c01\");\n",
       "        el.setAttribute(\"cx\", \"-4.49843811844782e-12\");"
      ],
      "text/plain": [
       "<IPython.core.display.Javascript object>"
      ]
     },
     "metadata": {},
     "output_type": "display_data"
    },
    {
     "data": {
      "application/javascript": [
       "const el = document.querySelector(\"#c02\");\n",
       "        el.setAttribute(\"y\", \"1.7444417449460286e-12\");"
      ],
      "text/plain": [
       "<IPython.core.display.Javascript object>"
      ]
     },
     "metadata": {},
     "output_type": "display_data"
    },
    {
     "data": {
      "application/javascript": [
       "const el = document.querySelector(\"#c02\");\n",
       "        el.setAttribute(\"y\", \"-24.72135954999427\");"
      ],
      "text/plain": [
       "<IPython.core.display.Javascript object>"
      ]
     },
     "metadata": {},
     "output_type": "display_data"
    },
    {
     "data": {
      "application/javascript": [
       "const el = document.querySelector(\"#c01\");\n",
       "        el.setAttribute(\"cx\", \"24.721359549991377\");"
      ],
      "text/plain": [
       "<IPython.core.display.Javascript object>"
      ]
     },
     "metadata": {},
     "output_type": "display_data"
    },
    {
     "data": {
      "application/javascript": [
       "const el = document.querySelector(\"#c02\");\n",
       "        el.setAttribute(\"y\", \"-47.02282018339667\");"
      ],
      "text/plain": [
       "<IPython.core.display.Javascript object>"
      ]
     },
     "metadata": {},
     "output_type": "display_data"
    },
    {
     "data": {
      "application/javascript": [
       "const el = document.querySelector(\"#c02\");\n",
       "        el.setAttribute(\"y\", \"-64.72135954999536\");"
      ],
      "text/plain": [
       "<IPython.core.display.Javascript object>"
      ]
     },
     "metadata": {},
     "output_type": "display_data"
    },
    {
     "data": {
      "application/javascript": [
       "const el = document.querySelector(\"#c01\");\n",
       "        el.setAttribute(\"cx\", \"47.022820183393975\");"
      ],
      "text/plain": [
       "<IPython.core.display.Javascript object>"
      ]
     },
     "metadata": {},
     "output_type": "display_data"
    },
    {
     "data": {
      "application/javascript": [
       "const el = document.querySelector(\"#c02\");\n",
       "        el.setAttribute(\"y\", \"-76.08452130361209\");"
      ],
      "text/plain": [
       "<IPython.core.display.Javascript object>"
      ]
     },
     "metadata": {},
     "output_type": "display_data"
    },
    {
     "data": {
      "application/javascript": [
       "const el = document.querySelector(\"#c02\");\n",
       "        el.setAttribute(\"y\", \"-80.0\");"
      ],
      "text/plain": [
       "<IPython.core.display.Javascript object>"
      ]
     },
     "metadata": {},
     "output_type": "display_data"
    },
    {
     "data": {
      "application/javascript": [
       "const el = document.querySelector(\"#c01\");\n",
       "        el.setAttribute(\"cx\", \"64.7213595499929\");"
      ],
      "text/plain": [
       "<IPython.core.display.Javascript object>"
      ]
     },
     "metadata": {},
     "output_type": "display_data"
    },
    {
     "data": {
      "application/javascript": [
       "const el = document.querySelector(\"#c02\");\n",
       "        el.setAttribute(\"y\", \"-76.0845213036122\");"
      ],
      "text/plain": [
       "<IPython.core.display.Javascript object>"
      ]
     },
     "metadata": {},
     "output_type": "display_data"
    },
    {
     "data": {
      "application/javascript": [
       "const el = document.querySelector(\"#c02\");\n",
       "        el.setAttribute(\"y\", \"-64.72135954999557\");"
      ],
      "text/plain": [
       "<IPython.core.display.Javascript object>"
      ]
     },
     "metadata": {},
     "output_type": "display_data"
    },
    {
     "data": {
      "application/javascript": [
       "const el = document.querySelector(\"#c01\");\n",
       "        el.setAttribute(\"cx\", \"76.08452130361081\");"
      ],
      "text/plain": [
       "<IPython.core.display.Javascript object>"
      ]
     },
     "metadata": {},
     "output_type": "display_data"
    },
    {
     "data": {
      "application/javascript": [
       "const el = document.querySelector(\"#c02\");\n",
       "        el.setAttribute(\"y\", \"-47.02282018339697\");"
      ],
      "text/plain": [
       "<IPython.core.display.Javascript object>"
      ]
     },
     "metadata": {},
     "output_type": "display_data"
    },
    {
     "data": {
      "application/javascript": [
       "const el = document.querySelector(\"#c02\");\n",
       "        el.setAttribute(\"y\", \"-24.721359549994624\");"
      ],
      "text/plain": [
       "<IPython.core.display.Javascript object>"
      ]
     },
     "metadata": {},
     "output_type": "display_data"
    },
    {
     "data": {
      "application/javascript": [
       "const el = document.querySelector(\"#c01\");\n",
       "        el.setAttribute(\"cx\", \"80.0\");"
      ],
      "text/plain": [
       "<IPython.core.display.Javascript object>"
      ]
     },
     "metadata": {},
     "output_type": "display_data"
    },
    {
     "data": {
      "application/javascript": [
       "const el = document.querySelector(\"#c02\");\n",
       "        el.setAttribute(\"y\", \"1.3721491180052334e-12\");"
      ],
      "text/plain": [
       "<IPython.core.display.Javascript object>"
      ]
     },
     "metadata": {},
     "output_type": "display_data"
    },
    {
     "data": {
      "application/javascript": [
       "const el = document.querySelector(\"#c02\");\n",
       "        el.setAttribute(\"y\", \"24.72135954999777\");"
      ],
      "text/plain": [
       "<IPython.core.display.Javascript object>"
      ]
     },
     "metadata": {},
     "output_type": "display_data"
    },
    {
     "data": {
      "application/javascript": [
       "const el = document.querySelector(\"#c02\");\n",
       "        el.setAttribute(\"y\", \"47.022820183399645\");"
      ],
      "text/plain": [
       "<IPython.core.display.Javascript object>"
      ]
     },
     "metadata": {},
     "output_type": "display_data"
    },
    {
     "data": {
      "application/javascript": [
       "const el = document.querySelector(\"#c02\");\n",
       "        el.setAttribute(\"y\", \"64.72135954999752\");"
      ],
      "text/plain": [
       "<IPython.core.display.Javascript object>"
      ]
     },
     "metadata": {},
     "output_type": "display_data"
    },
    {
     "data": {
      "application/javascript": [
       "const el = document.querySelector(\"#c02\");\n",
       "        el.setAttribute(\"y\", \"76.08452130361323\");"
      ],
      "text/plain": [
       "<IPython.core.display.Javascript object>"
      ]
     },
     "metadata": {},
     "output_type": "display_data"
    },
    {
     "data": {
      "application/javascript": [
       "const el = document.querySelector(\"#c02\");\n",
       "        el.setAttribute(\"y\", \"80.0\");"
      ],
      "text/plain": [
       "<IPython.core.display.Javascript object>"
      ]
     },
     "metadata": {},
     "output_type": "display_data"
    },
    {
     "data": {
      "application/javascript": [
       "const el = document.querySelector(\"#c02\");\n",
       "        el.setAttribute(\"y\", \"76.08452130361107\");"
      ],
      "text/plain": [
       "<IPython.core.display.Javascript object>"
      ]
     },
     "metadata": {},
     "output_type": "display_data"
    },
    {
     "data": {
      "application/javascript": [
       "const el = document.querySelector(\"#c02\");\n",
       "        el.setAttribute(\"y\", \"64.72135954999341\");"
      ],
      "text/plain": [
       "<IPython.core.display.Javascript object>"
      ]
     },
     "metadata": {},
     "output_type": "display_data"
    },
    {
     "data": {
      "application/javascript": [
       "const el = document.querySelector(\"#c02\");\n",
       "        el.setAttribute(\"y\", \"47.02282018339445\");"
      ],
      "text/plain": [
       "<IPython.core.display.Javascript object>"
      ]
     },
     "metadata": {},
     "output_type": "display_data"
    },
    {
     "data": {
      "application/javascript": [
       "const el = document.querySelector(\"#c02\");\n",
       "        el.setAttribute(\"y\", \"24.72135954999112\");"
      ],
      "text/plain": [
       "<IPython.core.display.Javascript object>"
      ]
     },
     "metadata": {},
     "output_type": "display_data"
    },
    {
     "data": {
      "application/javascript": [
       "const el = document.querySelector(\"#c02\");\n",
       "        el.setAttribute(\"y\", \"-5.0571741695645755e-12\");"
      ],
      "text/plain": [
       "<IPython.core.display.Javascript object>"
      ]
     },
     "metadata": {},
     "output_type": "display_data"
    },
    {
     "data": {
      "application/javascript": [
       "const el = document.querySelector(\"#c02\");\n",
       "        el.setAttribute(\"y\", \"-24.721359550000738\");"
      ],
      "text/plain": [
       "<IPython.core.display.Javascript object>"
      ]
     },
     "metadata": {},
     "output_type": "display_data"
    },
    {
     "data": {
      "application/javascript": [
       "const el = document.querySelector(\"#c02\");\n",
       "        el.setAttribute(\"y\", \"-47.02282018340217\");"
      ],
      "text/plain": [
       "<IPython.core.display.Javascript object>"
      ]
     },
     "metadata": {},
     "output_type": "display_data"
    },
    {
     "data": {
      "application/javascript": [
       "const el = document.querySelector(\"#c02\");\n",
       "        el.setAttribute(\"y\", \"-64.72135954999969\");"
      ],
      "text/plain": [
       "<IPython.core.display.Javascript object>"
      ]
     },
     "metadata": {},
     "output_type": "display_data"
    },
    {
     "data": {
      "application/javascript": [
       "const el = document.querySelector(\"#c02\");\n",
       "        el.setAttribute(\"y\", \"-76.08452130361438\");"
      ],
      "text/plain": [
       "<IPython.core.display.Javascript object>"
      ]
     },
     "metadata": {},
     "output_type": "display_data"
    },
    {
     "data": {
      "application/javascript": [
       "const el = document.querySelector(\"#c02\");\n",
       "        el.setAttribute(\"y\", \"-80.0\");"
      ],
      "text/plain": [
       "<IPython.core.display.Javascript object>"
      ]
     },
     "metadata": {},
     "output_type": "display_data"
    },
    {
     "data": {
      "application/javascript": [
       "const el = document.querySelector(\"#c02\");\n",
       "        el.setAttribute(\"y\", \"-76.0845213036101\");"
      ],
      "text/plain": [
       "<IPython.core.display.Javascript object>"
      ]
     },
     "metadata": {},
     "output_type": "display_data"
    },
    {
     "data": {
      "application/javascript": [
       "const el = document.querySelector(\"#c02\");\n",
       "        el.setAttribute(\"y\", \"-64.72135954999158\");"
      ],
      "text/plain": [
       "<IPython.core.display.Javascript object>"
      ]
     },
     "metadata": {},
     "output_type": "display_data"
    },
    {
     "data": {
      "application/javascript": [
       "const el = document.querySelector(\"#c02\");\n",
       "        el.setAttribute(\"y\", \"-47.022820183391005\");"
      ],
      "text/plain": [
       "<IPython.core.display.Javascript object>"
      ]
     },
     "metadata": {},
     "output_type": "display_data"
    },
    {
     "data": {
      "application/javascript": [
       "const el = document.querySelector(\"#c02\");\n",
       "        el.setAttribute(\"y\", \"-24.721359549987618\");"
      ],
      "text/plain": [
       "<IPython.core.display.Javascript object>"
      ]
     },
     "metadata": {},
     "output_type": "display_data"
    },
    {
     "data": {
      "application/javascript": [
       "const el = document.querySelector(\"#c02\");\n",
       "        el.setAttribute(\"y\", \"8.742199221123918e-12\");"
      ],
      "text/plain": [
       "<IPython.core.display.Javascript object>"
      ]
     },
     "metadata": {},
     "output_type": "display_data"
    },
    {
     "data": {
      "application/javascript": [
       "const el = document.querySelector(\"#c02\");\n",
       "        el.setAttribute(\"y\", \"24.721359550004244\");"
      ],
      "text/plain": [
       "<IPython.core.display.Javascript object>"
      ]
     },
     "metadata": {},
     "output_type": "display_data"
    },
    {
     "data": {
      "application/javascript": [
       "const el = document.querySelector(\"#c02\");\n",
       "        el.setAttribute(\"y\", \"47.02282018340515\");"
      ],
      "text/plain": [
       "<IPython.core.display.Javascript object>"
      ]
     },
     "metadata": {},
     "output_type": "display_data"
    },
    {
     "data": {
      "application/javascript": [
       "const el = document.querySelector(\"#c02\");\n",
       "        el.setAttribute(\"y\", \"64.72135955000185\");"
      ],
      "text/plain": [
       "<IPython.core.display.Javascript object>"
      ]
     },
     "metadata": {},
     "output_type": "display_data"
    },
    {
     "data": {
      "application/javascript": [
       "const el = document.querySelector(\"#c02\");\n",
       "        el.setAttribute(\"y\", \"76.08452130361552\");"
      ],
      "text/plain": [
       "<IPython.core.display.Javascript object>"
      ]
     },
     "metadata": {},
     "output_type": "display_data"
    },
    {
     "data": {
      "application/javascript": [
       "const el = document.querySelector(\"#c02\");\n",
       "        el.setAttribute(\"y\", \"80.0\");"
      ],
      "text/plain": [
       "<IPython.core.display.Javascript object>"
      ]
     },
     "metadata": {},
     "output_type": "display_data"
    },
    {
     "data": {
      "application/javascript": [
       "const el = document.querySelector(\"#c02\");\n",
       "        el.setAttribute(\"y\", \"76.08452130360897\");"
      ],
      "text/plain": [
       "<IPython.core.display.Javascript object>"
      ]
     },
     "metadata": {},
     "output_type": "display_data"
    },
    {
     "data": {
      "application/javascript": [
       "const el = document.querySelector(\"#c02\");\n",
       "        el.setAttribute(\"y\", \"64.72135954998942\");"
      ],
      "text/plain": [
       "<IPython.core.display.Javascript object>"
      ]
     },
     "metadata": {},
     "output_type": "display_data"
    },
    {
     "data": {
      "application/javascript": [
       "const el = document.querySelector(\"#c02\");\n",
       "        el.setAttribute(\"y\", \"47.022820183388944\");"
      ],
      "text/plain": [
       "<IPython.core.display.Javascript object>"
      ]
     },
     "metadata": {},
     "output_type": "display_data"
    },
    {
     "data": {
      "application/javascript": [
       "const el = document.querySelector(\"#c02\");\n",
       "        el.setAttribute(\"y\", \"24.721359549984108\");"
      ],
      "text/plain": [
       "<IPython.core.display.Javascript object>"
      ]
     },
     "metadata": {},
     "output_type": "display_data"
    },
    {
     "data": {
      "application/javascript": [
       "const el = document.querySelector(\"#c02\");\n",
       "        el.setAttribute(\"y\", \"-1.2427224272683258e-11\");"
      ],
      "text/plain": [
       "<IPython.core.display.Javascript object>"
      ]
     },
     "metadata": {},
     "output_type": "display_data"
    },
    {
     "data": {
      "application/javascript": [
       "const el = document.querySelector(\"#c02\");\n",
       "        el.setAttribute(\"y\", \"-24.721359550007747\");"
      ],
      "text/plain": [
       "<IPython.core.display.Javascript object>"
      ]
     },
     "metadata": {},
     "output_type": "display_data"
    },
    {
     "data": {
      "application/javascript": [
       "const el = document.querySelector(\"#c02\");\n",
       "        el.setAttribute(\"y\", \"-47.022820183408136\");"
      ],
      "text/plain": [
       "<IPython.core.display.Javascript object>"
      ]
     },
     "metadata": {},
     "output_type": "display_data"
    },
    {
     "data": {
      "application/javascript": [
       "const el = document.querySelector(\"#c02\");\n",
       "        el.setAttribute(\"y\", \"-64.72135955000334\");"
      ],
      "text/plain": [
       "<IPython.core.display.Javascript object>"
      ]
     },
     "metadata": {},
     "output_type": "display_data"
    },
    {
     "data": {
      "application/javascript": [
       "const el = document.querySelector(\"#c02\");\n",
       "        el.setAttribute(\"y\", \"-76.08452130361665\");"
      ],
      "text/plain": [
       "<IPython.core.display.Javascript object>"
      ]
     },
     "metadata": {},
     "output_type": "display_data"
    },
    {
     "data": {
      "application/javascript": [
       "const el = document.querySelector(\"#c02\");\n",
       "        el.setAttribute(\"y\", \"-80.0\");"
      ],
      "text/plain": [
       "<IPython.core.display.Javascript object>"
      ]
     },
     "metadata": {},
     "output_type": "display_data"
    },
    {
     "data": {
      "application/javascript": [
       "const el = document.querySelector(\"#c02\");\n",
       "        el.setAttribute(\"y\", \"-76.08452130360783\");"
      ],
      "text/plain": [
       "<IPython.core.display.Javascript object>"
      ]
     },
     "metadata": {},
     "output_type": "display_data"
    },
    {
     "data": {
      "application/javascript": [
       "const el = document.querySelector(\"#c02\");\n",
       "        el.setAttribute(\"y\", \"-64.72135954998724\");"
      ],
      "text/plain": [
       "<IPython.core.display.Javascript object>"
      ]
     },
     "metadata": {},
     "output_type": "display_data"
    },
    {
     "data": {
      "application/javascript": [
       "const el = document.querySelector(\"#c02\");\n",
       "        el.setAttribute(\"y\", \"-47.02282018338597\");"
      ],
      "text/plain": [
       "<IPython.core.display.Javascript object>"
      ]
     },
     "metadata": {},
     "output_type": "display_data"
    },
    {
     "data": {
      "application/javascript": [
       "const el = document.querySelector(\"#c02\");\n",
       "        el.setAttribute(\"y\", \"-24.721359549980605\");"
      ],
      "text/plain": [
       "<IPython.core.display.Javascript object>"
      ]
     },
     "metadata": {},
     "output_type": "display_data"
    },
    {
     "data": {
      "application/javascript": [
       "const el = document.querySelector(\"#c02\");\n",
       "        el.setAttribute(\"y\", \"1.61122493242426e-11\");"
      ],
      "text/plain": [
       "<IPython.core.display.Javascript object>"
      ]
     },
     "metadata": {},
     "output_type": "display_data"
    },
    {
     "data": {
      "application/javascript": [
       "const el = document.querySelector(\"#c02\");\n",
       "        el.setAttribute(\"y\", \"24.72135955001125\");"
      ],
      "text/plain": [
       "<IPython.core.display.Javascript object>"
      ]
     },
     "metadata": {},
     "output_type": "display_data"
    },
    {
     "data": {
      "application/javascript": [
       "const el = document.querySelector(\"#c02\");\n",
       "        el.setAttribute(\"y\", \"47.02282018341111\");"
      ],
      "text/plain": [
       "<IPython.core.display.Javascript object>"
      ]
     },
     "metadata": {},
     "output_type": "display_data"
    },
    {
     "data": {
      "application/javascript": [
       "const el = document.querySelector(\"#c02\");\n",
       "        el.setAttribute(\"y\", \"64.72135955000552\");"
      ],
      "text/plain": [
       "<IPython.core.display.Javascript object>"
      ]
     },
     "metadata": {},
     "output_type": "display_data"
    },
    {
     "data": {
      "application/javascript": [
       "const el = document.querySelector(\"#c02\");\n",
       "        el.setAttribute(\"y\", \"76.08452130361779\");"
      ],
      "text/plain": [
       "<IPython.core.display.Javascript object>"
      ]
     },
     "metadata": {},
     "output_type": "display_data"
    },
    {
     "data": {
      "application/javascript": [
       "const el = document.querySelector(\"#c02\");\n",
       "        el.setAttribute(\"y\", \"80.0\");"
      ],
      "text/plain": [
       "<IPython.core.display.Javascript object>"
      ]
     },
     "metadata": {},
     "output_type": "display_data"
    },
    {
     "data": {
      "application/javascript": [
       "const el = document.querySelector(\"#c02\");\n",
       "        el.setAttribute(\"y\", \"76.08452130360669\");"
      ],
      "text/plain": [
       "<IPython.core.display.Javascript object>"
      ]
     },
     "metadata": {},
     "output_type": "display_data"
    },
    {
     "data": {
      "application/javascript": [
       "const el = document.querySelector(\"#c02\");\n",
       "        el.setAttribute(\"y\", \"64.72135954998508\");"
      ],
      "text/plain": [
       "<IPython.core.display.Javascript object>"
      ]
     },
     "metadata": {},
     "output_type": "display_data"
    },
    {
     "data": {
      "application/javascript": [
       "const el = document.querySelector(\"#c02\");\n",
       "        el.setAttribute(\"y\", \"47.02282018338298\");"
      ],
      "text/plain": [
       "<IPython.core.display.Javascript object>"
      ]
     },
     "metadata": {},
     "output_type": "display_data"
    },
    {
     "data": {
      "application/javascript": [
       "const el = document.querySelector(\"#c02\");\n",
       "        el.setAttribute(\"y\", \"24.721359549978178\");"
      ],
      "text/plain": [
       "<IPython.core.display.Javascript object>"
      ]
     },
     "metadata": {},
     "output_type": "display_data"
    },
    {
     "data": {
      "application/javascript": [
       "const el = document.querySelector(\"#c02\");\n",
       "        el.setAttribute(\"y\", \"-1.9797274375801945e-11\");"
      ],
      "text/plain": [
       "<IPython.core.display.Javascript object>"
      ]
     },
     "metadata": {},
     "output_type": "display_data"
    },
    {
     "data": {
      "application/javascript": [
       "const el = document.querySelector(\"#c02\");\n",
       "        el.setAttribute(\"y\", \"-24.721359550014753\");"
      ],
      "text/plain": [
       "<IPython.core.display.Javascript object>"
      ]
     },
     "metadata": {},
     "output_type": "display_data"
    },
    {
     "data": {
      "application/javascript": [
       "const el = document.querySelector(\"#c02\");\n",
       "        el.setAttribute(\"y\", \"-47.0228201834141\");"
      ],
      "text/plain": [
       "<IPython.core.display.Javascript object>"
      ]
     },
     "metadata": {},
     "output_type": "display_data"
    },
    {
     "data": {
      "application/javascript": [
       "const el = document.querySelector(\"#c02\");\n",
       "        el.setAttribute(\"y\", \"-64.72135955000768\");"
      ],
      "text/plain": [
       "<IPython.core.display.Javascript object>"
      ]
     },
     "metadata": {},
     "output_type": "display_data"
    },
    {
     "data": {
      "application/javascript": [
       "const el = document.querySelector(\"#c02\");\n",
       "        el.setAttribute(\"y\", \"-76.08452130361857\");"
      ],
      "text/plain": [
       "<IPython.core.display.Javascript object>"
      ]
     },
     "metadata": {},
     "output_type": "display_data"
    },
    {
     "data": {
      "application/javascript": [
       "const el = document.querySelector(\"#c02\");\n",
       "        el.setAttribute(\"y\", \"-80.0\");"
      ],
      "text/plain": [
       "<IPython.core.display.Javascript object>"
      ]
     },
     "metadata": {},
     "output_type": "display_data"
    },
    {
     "data": {
      "application/javascript": [
       "const el = document.querySelector(\"#c02\");\n",
       "        el.setAttribute(\"y\", \"-76.08452130360556\");"
      ],
      "text/plain": [
       "<IPython.core.display.Javascript object>"
      ]
     },
     "metadata": {},
     "output_type": "display_data"
    },
    {
     "data": {
      "application/javascript": [
       "const el = document.querySelector(\"#c02\");\n",
       "        el.setAttribute(\"y\", \"-64.7213595499829\");"
      ],
      "text/plain": [
       "<IPython.core.display.Javascript object>"
      ]
     },
     "metadata": {},
     "output_type": "display_data"
    },
    {
     "data": {
      "application/javascript": [
       "const el = document.querySelector(\"#c02\");\n",
       "        el.setAttribute(\"y\", \"-47.02282018338\");"
      ],
      "text/plain": [
       "<IPython.core.display.Javascript object>"
      ]
     },
     "metadata": {},
     "output_type": "display_data"
    },
    {
     "data": {
      "application/javascript": [
       "const el = document.querySelector(\"#c02\");\n",
       "        el.setAttribute(\"y\", \"-24.721359549974675\");"
      ],
      "text/plain": [
       "<IPython.core.display.Javascript object>"
      ]
     },
     "metadata": {},
     "output_type": "display_data"
    },
    {
     "data": {
      "application/javascript": [
       "const el = document.querySelector(\"#c02\");\n",
       "        el.setAttribute(\"y\", \"2.3482299427361288e-11\");"
      ],
      "text/plain": [
       "<IPython.core.display.Javascript object>"
      ]
     },
     "metadata": {},
     "output_type": "display_data"
    },
    {
     "data": {
      "application/javascript": [
       "const el = document.querySelector(\"#c02\");\n",
       "        el.setAttribute(\"y\", \"24.721359550018263\");"
      ],
      "text/plain": [
       "<IPython.core.display.Javascript object>"
      ]
     },
     "metadata": {},
     "output_type": "display_data"
    },
    {
     "data": {
      "application/javascript": [
       "const el = document.querySelector(\"#c02\");\n",
       "        el.setAttribute(\"y\", \"47.02282018341708\");"
      ],
      "text/plain": [
       "<IPython.core.display.Javascript object>"
      ]
     },
     "metadata": {},
     "output_type": "display_data"
    },
    {
     "data": {
      "application/javascript": [
       "const el = document.querySelector(\"#c02\");\n",
       "        el.setAttribute(\"y\", \"64.72135955000985\");"
      ],
      "text/plain": [
       "<IPython.core.display.Javascript object>"
      ]
     },
     "metadata": {},
     "output_type": "display_data"
    },
    {
     "data": {
      "application/javascript": [
       "const el = document.querySelector(\"#c02\");\n",
       "        el.setAttribute(\"y\", \"76.08452130361971\");"
      ],
      "text/plain": [
       "<IPython.core.display.Javascript object>"
      ]
     },
     "metadata": {},
     "output_type": "display_data"
    },
    {
     "data": {
      "application/javascript": [
       "const el = document.querySelector(\"#c02\");\n",
       "        el.setAttribute(\"y\", \"80.0\");"
      ],
      "text/plain": [
       "<IPython.core.display.Javascript object>"
      ]
     },
     "metadata": {},
     "output_type": "display_data"
    },
    {
     "data": {
      "application/javascript": [
       "const el = document.querySelector(\"#c02\");\n",
       "        el.setAttribute(\"y\", \"76.08452130360442\");"
      ],
      "text/plain": [
       "<IPython.core.display.Javascript object>"
      ]
     },
     "metadata": {},
     "output_type": "display_data"
    },
    {
     "data": {
      "application/javascript": [
       "const el = document.querySelector(\"#c02\");\n",
       "        el.setAttribute(\"y\", \"64.72135954998075\");"
      ],
      "text/plain": [
       "<IPython.core.display.Javascript object>"
      ]
     },
     "metadata": {},
     "output_type": "display_data"
    },
    {
     "data": {
      "application/javascript": [
       "const el = document.querySelector(\"#c02\");\n",
       "        el.setAttribute(\"y\", \"47.02282018337702\");"
      ],
      "text/plain": [
       "<IPython.core.display.Javascript object>"
      ]
     },
     "metadata": {},
     "output_type": "display_data"
    },
    {
     "data": {
      "application/javascript": [
       "const el = document.querySelector(\"#c02\");\n",
       "        el.setAttribute(\"y\", \"24.721359549971172\");"
      ],
      "text/plain": [
       "<IPython.core.display.Javascript object>"
      ]
     },
     "metadata": {},
     "output_type": "display_data"
    },
    {
     "data": {
      "application/javascript": [
       "const el = document.querySelector(\"#c02\");\n",
       "        el.setAttribute(\"y\", \"-2.6030456101704468e-11\");"
      ],
      "text/plain": [
       "<IPython.core.display.Javascript object>"
      ]
     },
     "metadata": {},
     "output_type": "display_data"
    },
    {
     "data": {
      "application/javascript": [
       "const el = document.querySelector(\"#c02\");\n",
       "        el.setAttribute(\"y\", \"-24.721359550021766\");"
      ],
      "text/plain": [
       "<IPython.core.display.Javascript object>"
      ]
     },
     "metadata": {},
     "output_type": "display_data"
    },
    {
     "data": {
      "application/javascript": [
       "const el = document.querySelector(\"#c02\");\n",
       "        el.setAttribute(\"y\", \"-47.02282018342005\");"
      ],
      "text/plain": [
       "<IPython.core.display.Javascript object>"
      ]
     },
     "metadata": {},
     "output_type": "display_data"
    },
    {
     "data": {
      "application/javascript": [
       "const el = document.querySelector(\"#c02\");\n",
       "        el.setAttribute(\"y\", \"-64.72135955001201\");"
      ],
      "text/plain": [
       "<IPython.core.display.Javascript object>"
      ]
     },
     "metadata": {},
     "output_type": "display_data"
    },
    {
     "data": {
      "application/javascript": [
       "const el = document.querySelector(\"#c02\");\n",
       "        el.setAttribute(\"y\", \"-76.08452130362085\");"
      ],
      "text/plain": [
       "<IPython.core.display.Javascript object>"
      ]
     },
     "metadata": {},
     "output_type": "display_data"
    },
    {
     "data": {
      "application/javascript": [
       "const el = document.querySelector(\"#c02\");\n",
       "        el.setAttribute(\"y\", \"-80.0\");"
      ],
      "text/plain": [
       "<IPython.core.display.Javascript object>"
      ]
     },
     "metadata": {},
     "output_type": "display_data"
    },
    {
     "data": {
      "application/javascript": [
       "const el = document.querySelector(\"#c02\");\n",
       "        el.setAttribute(\"y\", \"-76.08452130360328\");"
      ],
      "text/plain": [
       "<IPython.core.display.Javascript object>"
      ]
     },
     "metadata": {},
     "output_type": "display_data"
    },
    {
     "data": {
      "application/javascript": [
       "const el = document.querySelector(\"#c02\");\n",
       "        el.setAttribute(\"y\", \"-64.72135954997857\");"
      ],
      "text/plain": [
       "<IPython.core.display.Javascript object>"
      ]
     },
     "metadata": {},
     "output_type": "display_data"
    },
    {
     "data": {
      "application/javascript": [
       "const el = document.querySelector(\"#c02\");\n",
       "        el.setAttribute(\"y\", \"-47.02282018337404\");"
      ],
      "text/plain": [
       "<IPython.core.display.Javascript object>"
      ]
     },
     "metadata": {},
     "output_type": "display_data"
    },
    {
     "data": {
      "application/javascript": [
       "const el = document.querySelector(\"#c02\");\n",
       "        el.setAttribute(\"y\", \"-24.721359549967666\");"
      ],
      "text/plain": [
       "<IPython.core.display.Javascript object>"
      ]
     },
     "metadata": {},
     "output_type": "display_data"
    },
    {
     "data": {
      "application/javascript": [
       "const el = document.querySelector(\"#c02\");\n",
       "        el.setAttribute(\"y\", \"2.971548115326381e-11\");"
      ],
      "text/plain": [
       "<IPython.core.display.Javascript object>"
      ]
     },
     "metadata": {},
     "output_type": "display_data"
    },
    {
     "data": {
      "application/javascript": [
       "const el = document.querySelector(\"#c02\");\n",
       "        el.setAttribute(\"y\", \"24.72135955002527\");"
      ],
      "text/plain": [
       "<IPython.core.display.Javascript object>"
      ]
     },
     "metadata": {},
     "output_type": "display_data"
    },
    {
     "data": {
      "application/javascript": [
       "const el = document.querySelector(\"#c02\");\n",
       "        el.setAttribute(\"y\", \"47.022820183423036\");"
      ],
      "text/plain": [
       "<IPython.core.display.Javascript object>"
      ]
     },
     "metadata": {},
     "output_type": "display_data"
    },
    {
     "data": {
      "application/javascript": [
       "const el = document.querySelector(\"#c02\");\n",
       "        el.setAttribute(\"y\", \"64.72135955001418\");"
      ],
      "text/plain": [
       "<IPython.core.display.Javascript object>"
      ]
     },
     "metadata": {},
     "output_type": "display_data"
    },
    {
     "data": {
      "application/javascript": [
       "const el = document.querySelector(\"#c02\");\n",
       "        el.setAttribute(\"y\", \"76.08452130362198\");"
      ],
      "text/plain": [
       "<IPython.core.display.Javascript object>"
      ]
     },
     "metadata": {},
     "output_type": "display_data"
    },
    {
     "data": {
      "application/javascript": [
       "const el = document.querySelector(\"#c02\");\n",
       "        el.setAttribute(\"y\", \"80.0\");"
      ],
      "text/plain": [
       "<IPython.core.display.Javascript object>"
      ]
     },
     "metadata": {},
     "output_type": "display_data"
    },
    {
     "data": {
      "application/javascript": [
       "const el = document.querySelector(\"#c02\");\n",
       "        el.setAttribute(\"y\", \"76.08452130360249\");"
      ],
      "text/plain": [
       "<IPython.core.display.Javascript object>"
      ]
     },
     "metadata": {},
     "output_type": "display_data"
    },
    {
     "data": {
      "application/javascript": [
       "const el = document.querySelector(\"#c02\");\n",
       "        el.setAttribute(\"y\", \"64.72135954997641\");"
      ],
      "text/plain": [
       "<IPython.core.display.Javascript object>"
      ]
     },
     "metadata": {},
     "output_type": "display_data"
    },
    {
     "data": {
      "application/javascript": [
       "const el = document.querySelector(\"#c02\");\n",
       "        el.setAttribute(\"y\", \"47.02282018337105\");"
      ],
      "text/plain": [
       "<IPython.core.display.Javascript object>"
      ]
     },
     "metadata": {},
     "output_type": "display_data"
    },
    {
     "data": {
      "application/javascript": [
       "const el = document.querySelector(\"#c02\");\n",
       "        el.setAttribute(\"y\", \"24.721359549964163\");"
      ],
      "text/plain": [
       "<IPython.core.display.Javascript object>"
      ]
     },
     "metadata": {},
     "output_type": "display_data"
    },
    {
     "data": {
      "application/javascript": [
       "const el = document.querySelector(\"#c02\");\n",
       "        el.setAttribute(\"y\", \"-3.340050620482315e-11\");"
      ],
      "text/plain": [
       "<IPython.core.display.Javascript object>"
      ]
     },
     "metadata": {},
     "output_type": "display_data"
    },
    {
     "data": {
      "application/javascript": [
       "const el = document.querySelector(\"#c02\");\n",
       "        el.setAttribute(\"y\", \"-24.721359550027696\");"
      ],
      "text/plain": [
       "<IPython.core.display.Javascript object>"
      ]
     },
     "metadata": {},
     "output_type": "display_data"
    },
    {
     "data": {
      "application/javascript": [
       "const el = document.querySelector(\"#c02\");\n",
       "        el.setAttribute(\"y\", \"-47.02282018342602\");"
      ],
      "text/plain": [
       "<IPython.core.display.Javascript object>"
      ]
     },
     "metadata": {},
     "output_type": "display_data"
    },
    {
     "data": {
      "application/javascript": [
       "const el = document.querySelector(\"#c02\");\n",
       "        el.setAttribute(\"y\", \"-64.72135955001634\");"
      ],
      "text/plain": [
       "<IPython.core.display.Javascript object>"
      ]
     },
     "metadata": {},
     "output_type": "display_data"
    },
    {
     "data": {
      "application/javascript": [
       "const el = document.querySelector(\"#c02\");\n",
       "        el.setAttribute(\"y\", \"-76.08452130362313\");"
      ],
      "text/plain": [
       "<IPython.core.display.Javascript object>"
      ]
     },
     "metadata": {},
     "output_type": "display_data"
    },
    {
     "data": {
      "application/javascript": [
       "const el = document.querySelector(\"#c02\");\n",
       "        el.setAttribute(\"y\", \"-80.0\");"
      ],
      "text/plain": [
       "<IPython.core.display.Javascript object>"
      ]
     },
     "metadata": {},
     "output_type": "display_data"
    },
    {
     "data": {
      "application/javascript": [
       "const el = document.querySelector(\"#c02\");\n",
       "        el.setAttribute(\"y\", \"-76.08452130360135\");"
      ],
      "text/plain": [
       "<IPython.core.display.Javascript object>"
      ]
     },
     "metadata": {},
     "output_type": "display_data"
    },
    {
     "data": {
      "application/javascript": [
       "const el = document.querySelector(\"#c02\");\n",
       "        el.setAttribute(\"y\", \"-64.72135954997425\");"
      ],
      "text/plain": [
       "<IPython.core.display.Javascript object>"
      ]
     },
     "metadata": {},
     "output_type": "display_data"
    },
    {
     "data": {
      "application/javascript": [
       "const el = document.querySelector(\"#c02\");\n",
       "        el.setAttribute(\"y\", \"-47.02282018336808\");"
      ],
      "text/plain": [
       "<IPython.core.display.Javascript object>"
      ]
     },
     "metadata": {},
     "output_type": "display_data"
    },
    {
     "data": {
      "application/javascript": [
       "const el = document.querySelector(\"#c02\");\n",
       "        el.setAttribute(\"y\", \"-24.72135954996066\");"
      ],
      "text/plain": [
       "<IPython.core.display.Javascript object>"
      ]
     },
     "metadata": {},
     "output_type": "display_data"
    },
    {
     "data": {
      "application/javascript": [
       "const el = document.querySelector(\"#c02\");\n",
       "        el.setAttribute(\"y\", \"3.7085531256382495e-11\");"
      ],
      "text/plain": [
       "<IPython.core.display.Javascript object>"
      ]
     },
     "metadata": {},
     "output_type": "display_data"
    },
    {
     "data": {
      "application/javascript": [
       "const el = document.querySelector(\"#c02\");\n",
       "        el.setAttribute(\"y\", \"24.7213595500312\");"
      ],
      "text/plain": [
       "<IPython.core.display.Javascript object>"
      ]
     },
     "metadata": {},
     "output_type": "display_data"
    },
    {
     "data": {
      "application/javascript": [
       "const el = document.querySelector(\"#c02\");\n",
       "        el.setAttribute(\"y\", \"47.02282018342808\");"
      ],
      "text/plain": [
       "<IPython.core.display.Javascript object>"
      ]
     },
     "metadata": {},
     "output_type": "display_data"
    },
    {
     "data": {
      "application/javascript": [
       "const el = document.querySelector(\"#c02\");\n",
       "        el.setAttribute(\"y\", \"64.7213595500185\");"
      ],
      "text/plain": [
       "<IPython.core.display.Javascript object>"
      ]
     },
     "metadata": {},
     "output_type": "display_data"
    },
    {
     "data": {
      "application/javascript": [
       "const el = document.querySelector(\"#c02\");\n",
       "        el.setAttribute(\"y\", \"76.08452130362427\");"
      ],
      "text/plain": [
       "<IPython.core.display.Javascript object>"
      ]
     },
     "metadata": {},
     "output_type": "display_data"
    }
   ],
   "source": [
    "loop = asyncio.get_event_loop()\n",
    "task1 = loop.create_task(roda(A=80, w=2*np.pi/2, dt=0.1, t_max=10));\n",
    "task2 = loop.create_task(sobedesce(A=80, w=2*np.pi/1, dt=0.05, t_max=15));"
   ]
  },
  {
   "cell_type": "code",
   "execution_count": 10,
   "id": "1ca87311",
   "metadata": {},
   "outputs": [
    {
     "data": {
      "application/javascript": [
       "const el = document.querySelector(\"#c01\");\n",
       "        el.setAttribute(\"fill\", \"green\");"
      ],
      "text/plain": [
       "<IPython.core.display.Javascript object>"
      ]
     },
     "metadata": {},
     "output_type": "display_data"
    },
    {
     "data": {
      "application/javascript": [
       "const el = document.querySelector(\"#c01\");\n",
       "        el.setAttribute(\"cx\", \"3.920355310799342e-13\");"
      ],
      "text/plain": [
       "<IPython.core.display.Javascript object>"
      ]
     },
     "metadata": {},
     "output_type": "display_data"
    },
    {
     "data": {
      "application/javascript": [
       "const el = document.querySelector(\"#c02\");\n",
       "        el.setAttribute(\"y\", \"-76.08452130361161\");"
      ],
      "text/plain": [
       "<IPython.core.display.Javascript object>"
      ]
     },
     "metadata": {},
     "output_type": "display_data"
    },
    {
     "data": {
      "application/javascript": [
       "const el = document.querySelector(\"#c02\");\n",
       "        el.setAttribute(\"y\", \"-80.0\");"
      ],
      "text/plain": [
       "<IPython.core.display.Javascript object>"
      ]
     },
     "metadata": {},
     "output_type": "display_data"
    },
    {
     "data": {
      "application/javascript": [
       "const el = document.querySelector(\"#c01\");\n",
       "        el.setAttribute(\"cx\", \"24.721359549996166\");"
      ],
      "text/plain": [
       "<IPython.core.display.Javascript object>"
      ]
     },
     "metadata": {},
     "output_type": "display_data"
    },
    {
     "data": {
      "application/javascript": [
       "const el = document.querySelector(\"#c02\");\n",
       "        el.setAttribute(\"y\", \"-76.08452130361306\");"
      ],
      "text/plain": [
       "<IPython.core.display.Javascript object>"
      ]
     },
     "metadata": {},
     "output_type": "display_data"
    },
    {
     "data": {
      "application/javascript": [
       "const el = document.querySelector(\"#c02\");\n",
       "        el.setAttribute(\"y\", \"-64.72135954999717\");"
      ],
      "text/plain": [
       "<IPython.core.display.Javascript object>"
      ]
     },
     "metadata": {},
     "output_type": "display_data"
    },
    {
     "data": {
      "application/javascript": [
       "const el = document.querySelector(\"#c01\");\n",
       "        el.setAttribute(\"cx\", \"47.02282018339816\");"
      ],
      "text/plain": [
       "<IPython.core.display.Javascript object>"
      ]
     },
     "metadata": {},
     "output_type": "display_data"
    },
    {
     "data": {
      "application/javascript": [
       "const el = document.querySelector(\"#c02\");\n",
       "        el.setAttribute(\"y\", \"-47.02282018339986\");"
      ],
      "text/plain": [
       "<IPython.core.display.Javascript object>"
      ]
     },
     "metadata": {},
     "output_type": "display_data"
    },
    {
     "data": {
      "application/javascript": [
       "const el = document.querySelector(\"#c02\");\n",
       "        el.setAttribute(\"y\", \"-24.721359549998297\");"
      ],
      "text/plain": [
       "<IPython.core.display.Javascript object>"
      ]
     },
     "metadata": {},
     "output_type": "display_data"
    },
    {
     "data": {
      "application/javascript": [
       "const el = document.querySelector(\"#c01\");\n",
       "        el.setAttribute(\"cx\", \"64.72135954999611\");"
      ],
      "text/plain": [
       "<IPython.core.display.Javascript object>"
      ]
     },
     "metadata": {},
     "output_type": "display_data"
    },
    {
     "data": {
      "application/javascript": [
       "const el = document.querySelector(\"#c02\");\n",
       "        el.setAttribute(\"y\", \"-2.7735412038372216e-12\");"
      ],
      "text/plain": [
       "<IPython.core.display.Javascript object>"
      ]
     },
     "metadata": {},
     "output_type": "display_data"
    },
    {
     "data": {
      "application/javascript": [
       "const el = document.querySelector(\"#c02\");\n",
       "        el.setAttribute(\"y\", \"24.72135954999302\");"
      ],
      "text/plain": [
       "<IPython.core.display.Javascript object>"
      ]
     },
     "metadata": {},
     "output_type": "display_data"
    },
    {
     "data": {
      "application/javascript": [
       "const el = document.querySelector(\"#c01\");\n",
       "        el.setAttribute(\"cx\", \"76.08452130361245\");"
      ],
      "text/plain": [
       "<IPython.core.display.Javascript object>"
      ]
     },
     "metadata": {},
     "output_type": "display_data"
    },
    {
     "data": {
      "application/javascript": [
       "const el = document.querySelector(\"#c02\");\n",
       "        el.setAttribute(\"y\", \"47.022820183395375\");"
      ],
      "text/plain": [
       "<IPython.core.display.Javascript object>"
      ]
     },
     "metadata": {},
     "output_type": "display_data"
    },
    {
     "data": {
      "application/javascript": [
       "const el = document.querySelector(\"#c02\");\n",
       "        el.setAttribute(\"y\", \"64.72135954999408\");"
      ],
      "text/plain": [
       "<IPython.core.display.Javascript object>"
      ]
     },
     "metadata": {},
     "output_type": "display_data"
    },
    {
     "data": {
      "application/javascript": [
       "const el = document.querySelector(\"#c01\");\n",
       "        el.setAttribute(\"cx\", \"80.0\");"
      ],
      "text/plain": [
       "<IPython.core.display.Javascript object>"
      ]
     },
     "metadata": {},
     "output_type": "display_data"
    },
    {
     "data": {
      "application/javascript": [
       "const el = document.querySelector(\"#c02\");\n",
       "        el.setAttribute(\"y\", \"76.08452130361134\");"
      ],
      "text/plain": [
       "<IPython.core.display.Javascript object>"
      ]
     },
     "metadata": {},
     "output_type": "display_data"
    },
    {
     "data": {
      "application/javascript": [
       "const el = document.querySelector(\"#c02\");\n",
       "        el.setAttribute(\"y\", \"80.0\");"
      ],
      "text/plain": [
       "<IPython.core.display.Javascript object>"
      ]
     },
     "metadata": {},
     "output_type": "display_data"
    },
    {
     "data": {
      "application/javascript": [
       "const el = document.querySelector(\"#c01\");\n",
       "        el.setAttribute(\"cx\", \"76.08452130361216\");"
      ],
      "text/plain": [
       "<IPython.core.display.Javascript object>"
      ]
     },
     "metadata": {},
     "output_type": "display_data"
    },
    {
     "data": {
      "application/javascript": [
       "const el = document.querySelector(\"#c02\");\n",
       "        el.setAttribute(\"y\", \"76.08452130361331\");"
      ],
      "text/plain": [
       "<IPython.core.display.Javascript object>"
      ]
     },
     "metadata": {},
     "output_type": "display_data"
    },
    {
     "data": {
      "application/javascript": [
       "const el = document.querySelector(\"#c02\");\n",
       "        el.setAttribute(\"y\", \"64.72135954999784\");"
      ],
      "text/plain": [
       "<IPython.core.display.Javascript object>"
      ]
     },
     "metadata": {},
     "output_type": "display_data"
    },
    {
     "data": {
      "application/javascript": [
       "const el = document.querySelector(\"#c01\");\n",
       "        el.setAttribute(\"cx\", \"64.72135954999565\");"
      ],
      "text/plain": [
       "<IPython.core.display.Javascript object>"
      ]
     },
     "metadata": {},
     "output_type": "display_data"
    },
    {
     "data": {
      "application/javascript": [
       "const el = document.querySelector(\"#c02\");\n",
       "        el.setAttribute(\"y\", \"47.02282018340056\");"
      ],
      "text/plain": [
       "<IPython.core.display.Javascript object>"
      ]
     },
     "metadata": {},
     "output_type": "display_data"
    },
    {
     "data": {
      "application/javascript": [
       "const el = document.querySelector(\"#c02\");\n",
       "        el.setAttribute(\"y\", \"24.721359549999118\");"
      ],
      "text/plain": [
       "<IPython.core.display.Javascript object>"
      ]
     },
     "metadata": {},
     "output_type": "display_data"
    },
    {
     "data": {
      "application/javascript": [
       "const el = document.querySelector(\"#c01\");\n",
       "        el.setAttribute(\"cx\", \"47.02282018339777\");"
      ],
      "text/plain": [
       "<IPython.core.display.Javascript object>"
      ]
     },
     "metadata": {},
     "output_type": "display_data"
    },
    {
     "data": {
      "application/javascript": [
       "const el = document.querySelector(\"#c02\");\n",
       "        el.setAttribute(\"y\", \"3.635989661142521e-12\");"
      ],
      "text/plain": [
       "<IPython.core.display.Javascript object>"
      ]
     },
     "metadata": {},
     "output_type": "display_data"
    },
    {
     "data": {
      "application/javascript": [
       "const el = document.querySelector(\"#c02\");\n",
       "        el.setAttribute(\"y\", \"-24.7213595499922\");"
      ],
      "text/plain": [
       "<IPython.core.display.Javascript object>"
      ]
     },
     "metadata": {},
     "output_type": "display_data"
    },
    {
     "data": {
      "application/javascript": [
       "const el = document.querySelector(\"#c01\");\n",
       "        el.setAttribute(\"cx\", \"24.721359549995697\");"
      ],
      "text/plain": [
       "<IPython.core.display.Javascript object>"
      ]
     },
     "metadata": {},
     "output_type": "display_data"
    },
    {
     "data": {
      "application/javascript": [
       "const el = document.querySelector(\"#c02\");\n",
       "        el.setAttribute(\"y\", \"-47.02282018339468\");"
      ],
      "text/plain": [
       "<IPython.core.display.Javascript object>"
      ]
     },
     "metadata": {},
     "output_type": "display_data"
    },
    {
     "data": {
      "application/javascript": [
       "const el = document.querySelector(\"#c02\");\n",
       "        el.setAttribute(\"y\", \"-64.72135954999341\");"
      ],
      "text/plain": [
       "<IPython.core.display.Javascript object>"
      ]
     },
     "metadata": {},
     "output_type": "display_data"
    },
    {
     "data": {
      "application/javascript": [
       "const el = document.querySelector(\"#c01\");\n",
       "        el.setAttribute(\"cx\", \"4.4087284769304716e-14\");"
      ],
      "text/plain": [
       "<IPython.core.display.Javascript object>"
      ]
     },
     "metadata": {},
     "output_type": "display_data"
    },
    {
     "data": {
      "application/javascript": [
       "const el = document.querySelector(\"#c02\");\n",
       "        el.setAttribute(\"y\", \"-76.08452130361107\");"
      ],
      "text/plain": [
       "<IPython.core.display.Javascript object>"
      ]
     },
     "metadata": {},
     "output_type": "display_data"
    },
    {
     "data": {
      "application/javascript": [
       "const el = document.querySelector(\"#c02\");\n",
       "        el.setAttribute(\"y\", \"-80.0\");"
      ],
      "text/plain": [
       "<IPython.core.display.Javascript object>"
      ]
     },
     "metadata": {},
     "output_type": "display_data"
    },
    {
     "data": {
      "application/javascript": [
       "const el = document.querySelector(\"#c01\");\n",
       "        el.setAttribute(\"cx\", \"-24.721359549995615\");"
      ],
      "text/plain": [
       "<IPython.core.display.Javascript object>"
      ]
     },
     "metadata": {},
     "output_type": "display_data"
    },
    {
     "data": {
      "application/javascript": [
       "const el = document.querySelector(\"#c02\");\n",
       "        el.setAttribute(\"y\", \"-76.08452130361358\");"
      ],
      "text/plain": [
       "<IPython.core.display.Javascript object>"
      ]
     },
     "metadata": {},
     "output_type": "display_data"
    },
    {
     "data": {
      "application/javascript": [
       "const el = document.querySelector(\"#c02\");\n",
       "        el.setAttribute(\"y\", \"-64.72135954999835\");"
      ],
      "text/plain": [
       "<IPython.core.display.Javascript object>"
      ]
     },
     "metadata": {},
     "output_type": "display_data"
    },
    {
     "data": {
      "application/javascript": [
       "const el = document.querySelector(\"#c01\");\n",
       "        el.setAttribute(\"cx\", \"-47.0228201833977\");"
      ],
      "text/plain": [
       "<IPython.core.display.Javascript object>"
      ]
     },
     "metadata": {},
     "output_type": "display_data"
    },
    {
     "data": {
      "application/javascript": [
       "const el = document.querySelector(\"#c02\");\n",
       "        el.setAttribute(\"y\", \"-47.02282018340149\");"
      ],
      "text/plain": [
       "<IPython.core.display.Javascript object>"
      ]
     },
     "metadata": {},
     "output_type": "display_data"
    },
    {
     "data": {
      "application/javascript": [
       "const el = document.querySelector(\"#c02\");\n",
       "        el.setAttribute(\"y\", \"-24.721359549999935\");"
      ],
      "text/plain": [
       "<IPython.core.display.Javascript object>"
      ]
     },
     "metadata": {},
     "output_type": "display_data"
    },
    {
     "data": {
      "application/javascript": [
       "const el = document.querySelector(\"#c01\");\n",
       "        el.setAttribute(\"cx\", \"-64.7213595499956\");"
      ],
      "text/plain": [
       "<IPython.core.display.Javascript object>"
      ]
     },
     "metadata": {},
     "output_type": "display_data"
    },
    {
     "data": {
      "application/javascript": [
       "const el = document.querySelector(\"#c02\");\n",
       "        el.setAttribute(\"y\", \"-4.49843811844782e-12\");"
      ],
      "text/plain": [
       "<IPython.core.display.Javascript object>"
      ]
     },
     "metadata": {},
     "output_type": "display_data"
    },
    {
     "data": {
      "application/javascript": [
       "const el = document.querySelector(\"#c02\");\n",
       "        el.setAttribute(\"y\", \"24.721359549991377\");"
      ],
      "text/plain": [
       "<IPython.core.display.Javascript object>"
      ]
     },
     "metadata": {},
     "output_type": "display_data"
    },
    {
     "data": {
      "application/javascript": [
       "const el = document.querySelector(\"#c01\");\n",
       "        el.setAttribute(\"cx\", \"-76.08452130361214\");"
      ],
      "text/plain": [
       "<IPython.core.display.Javascript object>"
      ]
     },
     "metadata": {},
     "output_type": "display_data"
    },
    {
     "data": {
      "application/javascript": [
       "const el = document.querySelector(\"#c02\");\n",
       "        el.setAttribute(\"y\", \"47.022820183393975\");"
      ],
      "text/plain": [
       "<IPython.core.display.Javascript object>"
      ]
     },
     "metadata": {},
     "output_type": "display_data"
    },
    {
     "data": {
      "application/javascript": [
       "const el = document.querySelector(\"#c02\");\n",
       "        el.setAttribute(\"y\", \"64.7213595499929\");"
      ],
      "text/plain": [
       "<IPython.core.display.Javascript object>"
      ]
     },
     "metadata": {},
     "output_type": "display_data"
    },
    {
     "data": {
      "application/javascript": [
       "const el = document.querySelector(\"#c01\");\n",
       "        el.setAttribute(\"cx\", \"-80.0\");"
      ],
      "text/plain": [
       "<IPython.core.display.Javascript object>"
      ]
     },
     "metadata": {},
     "output_type": "display_data"
    },
    {
     "data": {
      "application/javascript": [
       "const el = document.querySelector(\"#c02\");\n",
       "        el.setAttribute(\"y\", \"76.08452130361081\");"
      ],
      "text/plain": [
       "<IPython.core.display.Javascript object>"
      ]
     },
     "metadata": {},
     "output_type": "display_data"
    },
    {
     "data": {
      "application/javascript": [
       "const el = document.querySelector(\"#c02\");\n",
       "        el.setAttribute(\"y\", \"80.0\");"
      ],
      "text/plain": [
       "<IPython.core.display.Javascript object>"
      ]
     },
     "metadata": {},
     "output_type": "display_data"
    },
    {
     "data": {
      "application/javascript": [
       "const el = document.querySelector(\"#c01\");\n",
       "        el.setAttribute(\"cx\", \"-76.08452130361243\");"
      ],
      "text/plain": [
       "<IPython.core.display.Javascript object>"
      ]
     },
     "metadata": {},
     "output_type": "display_data"
    },
    {
     "data": {
      "application/javascript": [
       "const el = document.querySelector(\"#c02\");\n",
       "        el.setAttribute(\"y\", \"76.08452130361385\");"
      ],
      "text/plain": [
       "<IPython.core.display.Javascript object>"
      ]
     },
     "metadata": {},
     "output_type": "display_data"
    },
    {
     "data": {
      "application/javascript": [
       "const el = document.querySelector(\"#c01\");\n",
       "        el.setAttribute(\"cx\", \"-64.72135954999617\");"
      ],
      "text/plain": [
       "<IPython.core.display.Javascript object>"
      ]
     },
     "metadata": {},
     "output_type": "display_data"
    },
    {
     "data": {
      "application/javascript": [
       "const el = document.querySelector(\"#c02\");\n",
       "        el.setAttribute(\"y\", \"64.7213595499987\");"
      ],
      "text/plain": [
       "<IPython.core.display.Javascript object>"
      ]
     },
     "metadata": {},
     "output_type": "display_data"
    },
    {
     "data": {
      "application/javascript": [
       "const el = document.querySelector(\"#c02\");\n",
       "        el.setAttribute(\"y\", \"47.02282018340219\");"
      ],
      "text/plain": [
       "<IPython.core.display.Javascript object>"
      ]
     },
     "metadata": {},
     "output_type": "display_data"
    },
    {
     "data": {
      "application/javascript": [
       "const el = document.querySelector(\"#c01\");\n",
       "        el.setAttribute(\"cx\", \"-47.022820183398466\");"
      ],
      "text/plain": [
       "<IPython.core.display.Javascript object>"
      ]
     },
     "metadata": {},
     "output_type": "display_data"
    },
    {
     "data": {
      "application/javascript": [
       "const el = document.querySelector(\"#c02\");\n",
       "        el.setAttribute(\"y\", \"24.721359550000756\");"
      ],
      "text/plain": [
       "<IPython.core.display.Javascript object>"
      ]
     },
     "metadata": {},
     "output_type": "display_data"
    },
    {
     "data": {
      "application/javascript": [
       "const el = document.querySelector(\"#c02\");\n",
       "        el.setAttribute(\"y\", \"5.645103670057159e-12\");"
      ],
      "text/plain": [
       "<IPython.core.display.Javascript object>"
      ]
     },
     "metadata": {},
     "output_type": "display_data"
    },
    {
     "data": {
      "application/javascript": [
       "const el = document.querySelector(\"#c01\");\n",
       "        el.setAttribute(\"cx\", \"-24.721359549996652\");"
      ],
      "text/plain": [
       "<IPython.core.display.Javascript object>"
      ]
     },
     "metadata": {},
     "output_type": "display_data"
    },
    {
     "data": {
      "application/javascript": [
       "const el = document.querySelector(\"#c02\");\n",
       "        el.setAttribute(\"y\", \"-24.72135954999056\");"
      ],
      "text/plain": [
       "<IPython.core.display.Javascript object>"
      ]
     },
     "metadata": {},
     "output_type": "display_data"
    },
    {
     "data": {
      "application/javascript": [
       "const el = document.querySelector(\"#c02\");\n",
       "        el.setAttribute(\"y\", \"-47.022820183393506\");"
      ],
      "text/plain": [
       "<IPython.core.display.Javascript object>"
      ]
     },
     "metadata": {},
     "output_type": "display_data"
    },
    {
     "data": {
      "application/javascript": [
       "const el = document.querySelector(\"#c01\");\n",
       "        el.setAttribute(\"cx\", \"-1.048644289226624e-12\");"
      ],
      "text/plain": [
       "<IPython.core.display.Javascript object>"
      ]
     },
     "metadata": {},
     "output_type": "display_data"
    },
    {
     "data": {
      "application/javascript": [
       "const el = document.querySelector(\"#c02\");\n",
       "        el.setAttribute(\"y\", \"-64.7213595499924\");"
      ],
      "text/plain": [
       "<IPython.core.display.Javascript object>"
      ]
     },
     "metadata": {},
     "output_type": "display_data"
    },
    {
     "data": {
      "application/javascript": [
       "const el = document.querySelector(\"#c02\");\n",
       "        el.setAttribute(\"y\", \"-76.08452130361054\");"
      ],
      "text/plain": [
       "<IPython.core.display.Javascript object>"
      ]
     },
     "metadata": {},
     "output_type": "display_data"
    },
    {
     "data": {
      "application/javascript": [
       "const el = document.querySelector(\"#c01\");\n",
       "        el.setAttribute(\"cx\", \"24.72135954999493\");"
      ],
      "text/plain": [
       "<IPython.core.display.Javascript object>"
      ]
     },
     "metadata": {},
     "output_type": "display_data"
    },
    {
     "data": {
      "application/javascript": [
       "const el = document.querySelector(\"#c02\");\n",
       "        el.setAttribute(\"y\", \"-80.0\");"
      ],
      "text/plain": [
       "<IPython.core.display.Javascript object>"
      ]
     },
     "metadata": {},
     "output_type": "display_data"
    },
    {
     "data": {
      "application/javascript": [
       "const el = document.querySelector(\"#c02\");\n",
       "        el.setAttribute(\"y\", \"-76.08452130361412\");"
      ],
      "text/plain": [
       "<IPython.core.display.Javascript object>"
      ]
     },
     "metadata": {},
     "output_type": "display_data"
    },
    {
     "data": {
      "application/javascript": [
       "const el = document.querySelector(\"#c01\");\n",
       "        el.setAttribute(\"cx\", \"47.022820183397\");"
      ],
      "text/plain": [
       "<IPython.core.display.Javascript object>"
      ]
     },
     "metadata": {},
     "output_type": "display_data"
    },
    {
     "data": {
      "application/javascript": [
       "const el = document.querySelector(\"#c02\");\n",
       "        el.setAttribute(\"y\", \"-64.72135954999953\");"
      ],
      "text/plain": [
       "<IPython.core.display.Javascript object>"
      ]
     },
     "metadata": {},
     "output_type": "display_data"
    },
    {
     "data": {
      "application/javascript": [
       "const el = document.querySelector(\"#c02\");\n",
       "        el.setAttribute(\"y\", \"-47.022820183402885\");"
      ],
      "text/plain": [
       "<IPython.core.display.Javascript object>"
      ]
     },
     "metadata": {},
     "output_type": "display_data"
    },
    {
     "data": {
      "application/javascript": [
       "const el = document.querySelector(\"#c01\");\n",
       "        el.setAttribute(\"cx\", \"64.7213595499951\");"
      ],
      "text/plain": [
       "<IPython.core.display.Javascript object>"
      ]
     },
     "metadata": {},
     "output_type": "display_data"
    },
    {
     "data": {
      "application/javascript": [
       "const el = document.querySelector(\"#c02\");\n",
       "        el.setAttribute(\"y\", \"-24.72135955000158\");"
      ],
      "text/plain": [
       "<IPython.core.display.Javascript object>"
      ]
     },
     "metadata": {},
     "output_type": "display_data"
    },
    {
     "data": {
      "application/javascript": [
       "const el = document.querySelector(\"#c02\");\n",
       "        el.setAttribute(\"y\", \"-6.507552127362458e-12\");"
      ],
      "text/plain": [
       "<IPython.core.display.Javascript object>"
      ]
     },
     "metadata": {},
     "output_type": "display_data"
    },
    {
     "data": {
      "application/javascript": [
       "const el = document.querySelector(\"#c01\");\n",
       "        el.setAttribute(\"cx\", \"76.08452130361188\");"
      ],
      "text/plain": [
       "<IPython.core.display.Javascript object>"
      ]
     },
     "metadata": {},
     "output_type": "display_data"
    },
    {
     "data": {
      "application/javascript": [
       "const el = document.querySelector(\"#c02\");\n",
       "        el.setAttribute(\"y\", \"24.72135954998974\");"
      ],
      "text/plain": [
       "<IPython.core.display.Javascript object>"
      ]
     },
     "metadata": {},
     "output_type": "display_data"
    },
    {
     "data": {
      "application/javascript": [
       "const el = document.querySelector(\"#c02\");\n",
       "        el.setAttribute(\"y\", \"47.022820183392355\");"
      ],
      "text/plain": [
       "<IPython.core.display.Javascript object>"
      ]
     },
     "metadata": {},
     "output_type": "display_data"
    },
    {
     "data": {
      "application/javascript": [
       "const el = document.querySelector(\"#c01\");\n",
       "        el.setAttribute(\"cx\", \"80.0\");"
      ],
      "text/plain": [
       "<IPython.core.display.Javascript object>"
      ]
     },
     "metadata": {},
     "output_type": "display_data"
    },
    {
     "data": {
      "application/javascript": [
       "const el = document.querySelector(\"#c02\");\n",
       "        el.setAttribute(\"y\", \"64.72135954999187\");"
      ],
      "text/plain": [
       "<IPython.core.display.Javascript object>"
      ]
     },
     "metadata": {},
     "output_type": "display_data"
    },
    {
     "data": {
      "application/javascript": [
       "const el = document.querySelector(\"#c02\");\n",
       "        el.setAttribute(\"y\", \"76.08452130361027\");"
      ],
      "text/plain": [
       "<IPython.core.display.Javascript object>"
      ]
     },
     "metadata": {},
     "output_type": "display_data"
    },
    {
     "data": {
      "application/javascript": [
       "const el = document.querySelector(\"#c01\");\n",
       "        el.setAttribute(\"cx\", \"76.08452130361279\");"
      ],
      "text/plain": [
       "<IPython.core.display.Javascript object>"
      ]
     },
     "metadata": {},
     "output_type": "display_data"
    },
    {
     "data": {
      "application/javascript": [
       "const el = document.querySelector(\"#c02\");\n",
       "        el.setAttribute(\"y\", \"80.0\");"
      ],
      "text/plain": [
       "<IPython.core.display.Javascript object>"
      ]
     },
     "metadata": {},
     "output_type": "display_data"
    },
    {
     "data": {
      "application/javascript": [
       "const el = document.querySelector(\"#c02\");\n",
       "        el.setAttribute(\"y\", \"76.0845213036144\");"
      ],
      "text/plain": [
       "<IPython.core.display.Javascript object>"
      ]
     },
     "metadata": {},
     "output_type": "display_data"
    },
    {
     "data": {
      "application/javascript": [
       "const el = document.querySelector(\"#c01\");\n",
       "        el.setAttribute(\"cx\", \"64.72135954999666\");"
      ],
      "text/plain": [
       "<IPython.core.display.Javascript object>"
      ]
     },
     "metadata": {},
     "output_type": "display_data"
    },
    {
     "data": {
      "application/javascript": [
       "const el = document.querySelector(\"#c02\");\n",
       "        el.setAttribute(\"y\", \"64.72135955000005\");"
      ],
      "text/plain": [
       "<IPython.core.display.Javascript object>"
      ]
     },
     "metadata": {},
     "output_type": "display_data"
    },
    {
     "data": {
      "application/javascript": [
       "const el = document.querySelector(\"#c02\");\n",
       "        el.setAttribute(\"y\", \"47.02282018340358\");"
      ],
      "text/plain": [
       "<IPython.core.display.Javascript object>"
      ]
     },
     "metadata": {},
     "output_type": "display_data"
    },
    {
     "data": {
      "application/javascript": [
       "const el = document.querySelector(\"#c01\");\n",
       "        el.setAttribute(\"cx\", \"47.02282018339916\");"
      ],
      "text/plain": [
       "<IPython.core.display.Javascript object>"
      ]
     },
     "metadata": {},
     "output_type": "display_data"
    },
    {
     "data": {
      "application/javascript": [
       "const el = document.querySelector(\"#c02\");\n",
       "        el.setAttribute(\"y\", \"24.721359550002397\");"
      ],
      "text/plain": [
       "<IPython.core.display.Javascript object>"
      ]
     },
     "metadata": {},
     "output_type": "display_data"
    },
    {
     "data": {
      "application/javascript": [
       "const el = document.querySelector(\"#c02\");\n",
       "        el.setAttribute(\"y\", \"7.370000584667756e-12\");"
      ],
      "text/plain": [
       "<IPython.core.display.Javascript object>"
      ]
     },
     "metadata": {},
     "output_type": "display_data"
    },
    {
     "data": {
      "application/javascript": [
       "const el = document.querySelector(\"#c01\");\n",
       "        el.setAttribute(\"cx\", \"24.721359549997473\");"
      ],
      "text/plain": [
       "<IPython.core.display.Javascript object>"
      ]
     },
     "metadata": {},
     "output_type": "display_data"
    },
    {
     "data": {
      "application/javascript": [
       "const el = document.querySelector(\"#c02\");\n",
       "        el.setAttribute(\"y\", \"-24.721359549988918\");"
      ],
      "text/plain": [
       "<IPython.core.display.Javascript object>"
      ]
     },
     "metadata": {},
     "output_type": "display_data"
    },
    {
     "data": {
      "application/javascript": [
       "const el = document.querySelector(\"#c02\");\n",
       "        el.setAttribute(\"y\", \"-47.02282018339166\");"
      ],
      "text/plain": [
       "<IPython.core.display.Javascript object>"
      ]
     },
     "metadata": {},
     "output_type": "display_data"
    },
    {
     "data": {
      "application/javascript": [
       "const el = document.querySelector(\"#c01\");\n",
       "        el.setAttribute(\"cx\", \"1.911092746531923e-12\");"
      ],
      "text/plain": [
       "<IPython.core.display.Javascript object>"
      ]
     },
     "metadata": {},
     "output_type": "display_data"
    },
    {
     "data": {
      "application/javascript": [
       "const el = document.querySelector(\"#c02\");\n",
       "        el.setAttribute(\"y\", \"-64.72135954999138\");"
      ],
      "text/plain": [
       "<IPython.core.display.Javascript object>"
      ]
     },
     "metadata": {},
     "output_type": "display_data"
    },
    {
     "data": {
      "application/javascript": [
       "const el = document.querySelector(\"#c02\");\n",
       "        el.setAttribute(\"y\", \"-76.08452130361\");"
      ],
      "text/plain": [
       "<IPython.core.display.Javascript object>"
      ]
     },
     "metadata": {},
     "output_type": "display_data"
    },
    {
     "data": {
      "application/javascript": [
       "const el = document.querySelector(\"#c01\");\n",
       "        el.setAttribute(\"cx\", \"-24.721359549993842\");"
      ],
      "text/plain": [
       "<IPython.core.display.Javascript object>"
      ]
     },
     "metadata": {},
     "output_type": "display_data"
    },
    {
     "data": {
      "application/javascript": [
       "const el = document.querySelector(\"#c02\");\n",
       "        el.setAttribute(\"y\", \"-80.0\");"
      ],
      "text/plain": [
       "<IPython.core.display.Javascript object>"
      ]
     },
     "metadata": {},
     "output_type": "display_data"
    },
    {
     "data": {
      "application/javascript": [
       "const el = document.querySelector(\"#c02\");\n",
       "        el.setAttribute(\"y\", \"-76.08452130361465\");"
      ],
      "text/plain": [
       "<IPython.core.display.Javascript object>"
      ]
     },
     "metadata": {},
     "output_type": "display_data"
    },
    {
     "data": {
      "application/javascript": [
       "const el = document.querySelector(\"#c01\");\n",
       "        el.setAttribute(\"cx\", \"-47.022820183396306\");"
      ],
      "text/plain": [
       "<IPython.core.display.Javascript object>"
      ]
     },
     "metadata": {},
     "output_type": "display_data"
    },
    {
     "data": {
      "application/javascript": [
       "const el = document.querySelector(\"#c02\");\n",
       "        el.setAttribute(\"y\", \"-64.72135955000054\");"
      ],
      "text/plain": [
       "<IPython.core.display.Javascript object>"
      ]
     },
     "metadata": {},
     "output_type": "display_data"
    },
    {
     "data": {
      "application/javascript": [
       "const el = document.querySelector(\"#c02\");\n",
       "        el.setAttribute(\"y\", \"-47.02282018340428\");"
      ],
      "text/plain": [
       "<IPython.core.display.Javascript object>"
      ]
     },
     "metadata": {},
     "output_type": "display_data"
    },
    {
     "data": {
      "application/javascript": [
       "const el = document.querySelector(\"#c01\");\n",
       "        el.setAttribute(\"cx\", \"-64.72135954999459\");"
      ],
      "text/plain": [
       "<IPython.core.display.Javascript object>"
      ]
     },
     "metadata": {},
     "output_type": "display_data"
    },
    {
     "data": {
      "application/javascript": [
       "const el = document.querySelector(\"#c02\");\n",
       "        el.setAttribute(\"y\", \"-24.721359550003218\");"
      ],
      "text/plain": [
       "<IPython.core.display.Javascript object>"
      ]
     },
     "metadata": {},
     "output_type": "display_data"
    },
    {
     "data": {
      "application/javascript": [
       "const el = document.querySelector(\"#c02\");\n",
       "        el.setAttribute(\"y\", \"-8.232449041973056e-12\");"
      ],
      "text/plain": [
       "<IPython.core.display.Javascript object>"
      ]
     },
     "metadata": {},
     "output_type": "display_data"
    },
    {
     "data": {
      "application/javascript": [
       "const el = document.querySelector(\"#c01\");\n",
       "        el.setAttribute(\"cx\", \"-76.08452130361161\");"
      ],
      "text/plain": [
       "<IPython.core.display.Javascript object>"
      ]
     },
     "metadata": {},
     "output_type": "display_data"
    },
    {
     "data": {
      "application/javascript": [
       "const el = document.querySelector(\"#c02\");\n",
       "        el.setAttribute(\"y\", \"24.7213595499881\");"
      ],
      "text/plain": [
       "<IPython.core.display.Javascript object>"
      ]
     },
     "metadata": {},
     "output_type": "display_data"
    },
    {
     "data": {
      "application/javascript": [
       "const el = document.querySelector(\"#c02\");\n",
       "        el.setAttribute(\"y\", \"47.02282018339096\");"
      ],
      "text/plain": [
       "<IPython.core.display.Javascript object>"
      ]
     },
     "metadata": {},
     "output_type": "display_data"
    },
    {
     "data": {
      "application/javascript": [
       "const el = document.querySelector(\"#c01\");\n",
       "        el.setAttribute(\"cx\", \"-80.0\");"
      ],
      "text/plain": [
       "<IPython.core.display.Javascript object>"
      ]
     },
     "metadata": {},
     "output_type": "display_data"
    },
    {
     "data": {
      "application/javascript": [
       "const el = document.querySelector(\"#c02\");\n",
       "        el.setAttribute(\"y\", \"64.72135954999086\");"
      ],
      "text/plain": [
       "<IPython.core.display.Javascript object>"
      ]
     },
     "metadata": {},
     "output_type": "display_data"
    },
    {
     "data": {
      "application/javascript": [
       "const el = document.querySelector(\"#c02\");\n",
       "        el.setAttribute(\"y\", \"76.08452130360956\");"
      ],
      "text/plain": [
       "<IPython.core.display.Javascript object>"
      ]
     },
     "metadata": {},
     "output_type": "display_data"
    },
    {
     "data": {
      "application/javascript": [
       "const el = document.querySelector(\"#c01\");\n",
       "        el.setAttribute(\"cx\", \"-76.08452130361306\");"
      ],
      "text/plain": [
       "<IPython.core.display.Javascript object>"
      ]
     },
     "metadata": {},
     "output_type": "display_data"
    },
    {
     "data": {
      "application/javascript": [
       "const el = document.querySelector(\"#c02\");\n",
       "        el.setAttribute(\"y\", \"80.0\");"
      ],
      "text/plain": [
       "<IPython.core.display.Javascript object>"
      ]
     },
     "metadata": {},
     "output_type": "display_data"
    },
    {
     "data": {
      "application/javascript": [
       "const el = document.querySelector(\"#c02\");\n",
       "        el.setAttribute(\"y\", \"76.08452130361492\");"
      ],
      "text/plain": [
       "<IPython.core.display.Javascript object>"
      ]
     },
     "metadata": {},
     "output_type": "display_data"
    },
    {
     "data": {
      "application/javascript": [
       "const el = document.querySelector(\"#c01\");\n",
       "        el.setAttribute(\"cx\", \"-64.72135954999717\");"
      ],
      "text/plain": [
       "<IPython.core.display.Javascript object>"
      ]
     },
     "metadata": {},
     "output_type": "display_data"
    },
    {
     "data": {
      "application/javascript": [
       "const el = document.querySelector(\"#c02\");\n",
       "        el.setAttribute(\"y\", \"64.72135955000105\");"
      ],
      "text/plain": [
       "<IPython.core.display.Javascript object>"
      ]
     },
     "metadata": {},
     "output_type": "display_data"
    },
    {
     "data": {
      "application/javascript": [
       "const el = document.querySelector(\"#c02\");\n",
       "        el.setAttribute(\"y\", \"47.022820183404974\");"
      ],
      "text/plain": [
       "<IPython.core.display.Javascript object>"
      ]
     },
     "metadata": {},
     "output_type": "display_data"
    },
    {
     "data": {
      "application/javascript": [
       "const el = document.querySelector(\"#c01\");\n",
       "        el.setAttribute(\"cx\", \"-47.02282018339986\");"
      ],
      "text/plain": [
       "<IPython.core.display.Javascript object>"
      ]
     },
     "metadata": {},
     "output_type": "display_data"
    },
    {
     "data": {
      "application/javascript": [
       "const el = document.querySelector(\"#c02\");\n",
       "        el.setAttribute(\"y\", \"24.721359550004575\");"
      ],
      "text/plain": [
       "<IPython.core.display.Javascript object>"
      ]
     },
     "metadata": {},
     "output_type": "display_data"
    },
    {
     "data": {
      "application/javascript": [
       "const el = document.querySelector(\"#c02\");\n",
       "        el.setAttribute(\"y\", \"9.094897499278355e-12\");"
      ],
      "text/plain": [
       "<IPython.core.display.Javascript object>"
      ]
     },
     "metadata": {},
     "output_type": "display_data"
    },
    {
     "data": {
      "application/javascript": [
       "const el = document.querySelector(\"#c01\");\n",
       "        el.setAttribute(\"cx\", \"-24.721359549998297\");"
      ],
      "text/plain": [
       "<IPython.core.display.Javascript object>"
      ]
     },
     "metadata": {},
     "output_type": "display_data"
    },
    {
     "data": {
      "application/javascript": [
       "const el = document.querySelector(\"#c02\");\n",
       "        el.setAttribute(\"y\", \"-24.721359549987277\");"
      ],
      "text/plain": [
       "<IPython.core.display.Javascript object>"
      ]
     },
     "metadata": {},
     "output_type": "display_data"
    },
    {
     "data": {
      "application/javascript": [
       "const el = document.querySelector(\"#c02\");\n",
       "        el.setAttribute(\"y\", \"-47.02282018339026\");"
      ],
      "text/plain": [
       "<IPython.core.display.Javascript object>"
      ]
     },
     "metadata": {},
     "output_type": "display_data"
    },
    {
     "data": {
      "application/javascript": [
       "const el = document.querySelector(\"#c01\");\n",
       "        el.setAttribute(\"cx\", \"-2.7735412038372216e-12\");"
      ],
      "text/plain": [
       "<IPython.core.display.Javascript object>"
      ]
     },
     "metadata": {},
     "output_type": "display_data"
    },
    {
     "data": {
      "application/javascript": [
       "const el = document.querySelector(\"#c02\");\n",
       "        el.setAttribute(\"y\", \"-64.72135954999035\");"
      ],
      "text/plain": [
       "<IPython.core.display.Javascript object>"
      ]
     },
     "metadata": {},
     "output_type": "display_data"
    },
    {
     "data": {
      "application/javascript": [
       "const el = document.querySelector(\"#c02\");\n",
       "        el.setAttribute(\"y\", \"-76.08452130360929\");"
      ],
      "text/plain": [
       "<IPython.core.display.Javascript object>"
      ]
     },
     "metadata": {},
     "output_type": "display_data"
    },
    {
     "data": {
      "application/javascript": [
       "const el = document.querySelector(\"#c01\");\n",
       "        el.setAttribute(\"cx\", \"24.72135954999302\");"
      ],
      "text/plain": [
       "<IPython.core.display.Javascript object>"
      ]
     },
     "metadata": {},
     "output_type": "display_data"
    },
    {
     "data": {
      "application/javascript": [
       "const el = document.querySelector(\"#c02\");\n",
       "        el.setAttribute(\"y\", \"-80.0\");"
      ],
      "text/plain": [
       "<IPython.core.display.Javascript object>"
      ]
     },
     "metadata": {},
     "output_type": "display_data"
    },
    {
     "data": {
      "application/javascript": [
       "const el = document.querySelector(\"#c02\");\n",
       "        el.setAttribute(\"y\", \"-76.08452130361519\");"
      ],
      "text/plain": [
       "<IPython.core.display.Javascript object>"
      ]
     },
     "metadata": {},
     "output_type": "display_data"
    },
    {
     "data": {
      "application/javascript": [
       "const el = document.querySelector(\"#c01\");\n",
       "        el.setAttribute(\"cx\", \"47.022820183395375\");"
      ],
      "text/plain": [
       "<IPython.core.display.Javascript object>"
      ]
     },
     "metadata": {},
     "output_type": "display_data"
    },
    {
     "data": {
      "application/javascript": [
       "const el = document.querySelector(\"#c02\");\n",
       "        el.setAttribute(\"y\", \"-64.72135955000157\");"
      ],
      "text/plain": [
       "<IPython.core.display.Javascript object>"
      ]
     },
     "metadata": {},
     "output_type": "display_data"
    },
    {
     "data": {
      "application/javascript": [
       "const el = document.querySelector(\"#c01\");\n",
       "        el.setAttribute(\"cx\", \"64.72135954999408\");"
      ],
      "text/plain": [
       "<IPython.core.display.Javascript object>"
      ]
     },
     "metadata": {},
     "output_type": "display_data"
    },
    {
     "data": {
      "application/javascript": [
       "const el = document.querySelector(\"#c02\");\n",
       "        el.setAttribute(\"y\", \"-47.02282018340568\");"
      ],
      "text/plain": [
       "<IPython.core.display.Javascript object>"
      ]
     },
     "metadata": {},
     "output_type": "display_data"
    },
    {
     "data": {
      "application/javascript": [
       "const el = document.querySelector(\"#c02\");\n",
       "        el.setAttribute(\"y\", \"-24.721359550005396\");"
      ],
      "text/plain": [
       "<IPython.core.display.Javascript object>"
      ]
     },
     "metadata": {},
     "output_type": "display_data"
    },
    {
     "data": {
      "application/javascript": [
       "const el = document.querySelector(\"#c01\");\n",
       "        el.setAttribute(\"cx\", \"76.08452130361134\");"
      ],
      "text/plain": [
       "<IPython.core.display.Javascript object>"
      ]
     },
     "metadata": {},
     "output_type": "display_data"
    },
    {
     "data": {
      "application/javascript": [
       "const el = document.querySelector(\"#c02\");\n",
       "        el.setAttribute(\"y\", \"-9.957345956583655e-12\");"
      ],
      "text/plain": [
       "<IPython.core.display.Javascript object>"
      ]
     },
     "metadata": {},
     "output_type": "display_data"
    },
    {
     "data": {
      "application/javascript": [
       "const el = document.querySelector(\"#c02\");\n",
       "        el.setAttribute(\"y\", \"24.721359549986456\");"
      ],
      "text/plain": [
       "<IPython.core.display.Javascript object>"
      ]
     },
     "metadata": {},
     "output_type": "display_data"
    },
    {
     "data": {
      "application/javascript": [
       "const el = document.querySelector(\"#c01\");\n",
       "        el.setAttribute(\"cx\", \"80.0\");"
      ],
      "text/plain": [
       "<IPython.core.display.Javascript object>"
      ]
     },
     "metadata": {},
     "output_type": "display_data"
    },
    {
     "data": {
      "application/javascript": [
       "const el = document.querySelector(\"#c02\");\n",
       "        el.setAttribute(\"y\", \"47.02282018338956\");"
      ],
      "text/plain": [
       "<IPython.core.display.Javascript object>"
      ]
     },
     "metadata": {},
     "output_type": "display_data"
    },
    {
     "data": {
      "application/javascript": [
       "const el = document.querySelector(\"#c02\");\n",
       "        el.setAttribute(\"y\", \"64.72135954998986\");"
      ],
      "text/plain": [
       "<IPython.core.display.Javascript object>"
      ]
     },
     "metadata": {},
     "output_type": "display_data"
    },
    {
     "data": {
      "application/javascript": [
       "const el = document.querySelector(\"#c01\");\n",
       "        el.setAttribute(\"cx\", \"76.08452130361331\");"
      ],
      "text/plain": [
       "<IPython.core.display.Javascript object>"
      ]
     },
     "metadata": {},
     "output_type": "display_data"
    },
    {
     "data": {
      "application/javascript": [
       "const el = document.querySelector(\"#c02\");\n",
       "        el.setAttribute(\"y\", \"76.08452130360904\");"
      ],
      "text/plain": [
       "<IPython.core.display.Javascript object>"
      ]
     },
     "metadata": {},
     "output_type": "display_data"
    },
    {
     "data": {
      "application/javascript": [
       "const el = document.querySelector(\"#c02\");\n",
       "        el.setAttribute(\"y\", \"80.0\");"
      ],
      "text/plain": [
       "<IPython.core.display.Javascript object>"
      ]
     },
     "metadata": {},
     "output_type": "display_data"
    },
    {
     "data": {
      "application/javascript": [
       "const el = document.querySelector(\"#c01\");\n",
       "        el.setAttribute(\"cx\", \"64.72135954999784\");"
      ],
      "text/plain": [
       "<IPython.core.display.Javascript object>"
      ]
     },
     "metadata": {},
     "output_type": "display_data"
    },
    {
     "data": {
      "application/javascript": [
       "const el = document.querySelector(\"#c02\");\n",
       "        el.setAttribute(\"y\", \"76.08452130361545\");"
      ],
      "text/plain": [
       "<IPython.core.display.Javascript object>"
      ]
     },
     "metadata": {},
     "output_type": "display_data"
    },
    {
     "data": {
      "application/javascript": [
       "const el = document.querySelector(\"#c02\");\n",
       "        el.setAttribute(\"y\", \"64.72135955000174\");"
      ],
      "text/plain": [
       "<IPython.core.display.Javascript object>"
      ]
     },
     "metadata": {},
     "output_type": "display_data"
    },
    {
     "data": {
      "application/javascript": [
       "const el = document.querySelector(\"#c01\");\n",
       "        el.setAttribute(\"cx\", \"47.02282018340056\");"
      ],
      "text/plain": [
       "<IPython.core.display.Javascript object>"
      ]
     },
     "metadata": {},
     "output_type": "display_data"
    },
    {
     "data": {
      "application/javascript": [
       "const el = document.querySelector(\"#c02\");\n",
       "        el.setAttribute(\"y\", \"47.02282018340591\");"
      ],
      "text/plain": [
       "<IPython.core.display.Javascript object>"
      ]
     },
     "metadata": {},
     "output_type": "display_data"
    },
    {
     "data": {
      "application/javascript": [
       "const el = document.querySelector(\"#c02\");\n",
       "        el.setAttribute(\"y\", \"24.7213595500046\");"
      ],
      "text/plain": [
       "<IPython.core.display.Javascript object>"
      ]
     },
     "metadata": {},
     "output_type": "display_data"
    },
    {
     "data": {
      "application/javascript": [
       "const el = document.querySelector(\"#c01\");\n",
       "        el.setAttribute(\"cx\", \"24.721359549999118\");"
      ],
      "text/plain": [
       "<IPython.core.display.Javascript object>"
      ]
     },
     "metadata": {},
     "output_type": "display_data"
    },
    {
     "data": {
      "application/javascript": [
       "const el = document.querySelector(\"#c02\");\n",
       "        el.setAttribute(\"y\", \"9.114491848064714e-12\");"
      ],
      "text/plain": [
       "<IPython.core.display.Javascript object>"
      ]
     },
     "metadata": {},
     "output_type": "display_data"
    },
    {
     "data": {
      "application/javascript": [
       "const el = document.querySelector(\"#c02\");\n",
       "        el.setAttribute(\"y\", \"-24.721359549987262\");"
      ],
      "text/plain": [
       "<IPython.core.display.Javascript object>"
      ]
     },
     "metadata": {},
     "output_type": "display_data"
    },
    {
     "data": {
      "application/javascript": [
       "const el = document.querySelector(\"#c01\");\n",
       "        el.setAttribute(\"cx\", \"3.635989661142521e-12\");"
      ],
      "text/plain": [
       "<IPython.core.display.Javascript object>"
      ]
     },
     "metadata": {},
     "output_type": "display_data"
    },
    {
     "data": {
      "application/javascript": [
       "const el = document.querySelector(\"#c02\");\n",
       "        el.setAttribute(\"y\", \"-47.02282018339116\");"
      ],
      "text/plain": [
       "<IPython.core.display.Javascript object>"
      ]
     },
     "metadata": {},
     "output_type": "display_data"
    },
    {
     "data": {
      "application/javascript": [
       "const el = document.querySelector(\"#c02\");\n",
       "        el.setAttribute(\"y\", \"-64.72135954999102\");"
      ],
      "text/plain": [
       "<IPython.core.display.Javascript object>"
      ]
     },
     "metadata": {},
     "output_type": "display_data"
    },
    {
     "data": {
      "application/javascript": [
       "const el = document.querySelector(\"#c01\");\n",
       "        el.setAttribute(\"cx\", \"-24.7213595499922\");"
      ],
      "text/plain": [
       "<IPython.core.display.Javascript object>"
      ]
     },
     "metadata": {},
     "output_type": "display_data"
    },
    {
     "data": {
      "application/javascript": [
       "const el = document.querySelector(\"#c02\");\n",
       "        el.setAttribute(\"y\", \"-76.08452130360999\");"
      ],
      "text/plain": [
       "<IPython.core.display.Javascript object>"
      ]
     },
     "metadata": {},
     "output_type": "display_data"
    },
    {
     "data": {
      "application/javascript": [
       "const el = document.querySelector(\"#c02\");\n",
       "        el.setAttribute(\"y\", \"-80.0\");"
      ],
      "text/plain": [
       "<IPython.core.display.Javascript object>"
      ]
     },
     "metadata": {},
     "output_type": "display_data"
    },
    {
     "data": {
      "application/javascript": [
       "const el = document.querySelector(\"#c01\");\n",
       "        el.setAttribute(\"cx\", \"-47.02282018339468\");"
      ],
      "text/plain": [
       "<IPython.core.display.Javascript object>"
      ]
     },
     "metadata": {},
     "output_type": "display_data"
    },
    {
     "data": {
      "application/javascript": [
       "const el = document.querySelector(\"#c02\");\n",
       "        el.setAttribute(\"y\", \"-76.08452130361448\");"
      ],
      "text/plain": [
       "<IPython.core.display.Javascript object>"
      ]
     },
     "metadata": {},
     "output_type": "display_data"
    },
    {
     "data": {
      "application/javascript": [
       "const el = document.querySelector(\"#c02\");\n",
       "        el.setAttribute(\"y\", \"-64.72135954999958\");"
      ],
      "text/plain": [
       "<IPython.core.display.Javascript object>"
      ]
     },
     "metadata": {},
     "output_type": "display_data"
    },
    {
     "data": {
      "application/javascript": [
       "const el = document.querySelector(\"#c01\");\n",
       "        el.setAttribute(\"cx\", \"-64.72135954999341\");"
      ],
      "text/plain": [
       "<IPython.core.display.Javascript object>"
      ]
     },
     "metadata": {},
     "output_type": "display_data"
    },
    {
     "data": {
      "application/javascript": [
       "const el = document.querySelector(\"#c02\");\n",
       "        el.setAttribute(\"y\", \"-47.02282018340293\");"
      ],
      "text/plain": [
       "<IPython.core.display.Javascript object>"
      ]
     },
     "metadata": {},
     "output_type": "display_data"
    },
    {
     "data": {
      "application/javascript": [
       "const el = document.querySelector(\"#c02\");\n",
       "        el.setAttribute(\"y\", \"-24.72135955000163\");"
      ],
      "text/plain": [
       "<IPython.core.display.Javascript object>"
      ]
     },
     "metadata": {},
     "output_type": "display_data"
    },
    {
     "data": {
      "application/javascript": [
       "const el = document.querySelector(\"#c01\");\n",
       "        el.setAttribute(\"cx\", \"-76.08452130361107\");"
      ],
      "text/plain": [
       "<IPython.core.display.Javascript object>"
      ]
     },
     "metadata": {},
     "output_type": "display_data"
    },
    {
     "data": {
      "application/javascript": [
       "const el = document.querySelector(\"#c02\");\n",
       "        el.setAttribute(\"y\", \"-5.42946679650537e-12\");"
      ],
      "text/plain": [
       "<IPython.core.display.Javascript object>"
      ]
     },
     "metadata": {},
     "output_type": "display_data"
    },
    {
     "data": {
      "application/javascript": [
       "const el = document.querySelector(\"#c02\");\n",
       "        el.setAttribute(\"y\", \"24.721359549990765\");"
      ],
      "text/plain": [
       "<IPython.core.display.Javascript object>"
      ]
     },
     "metadata": {},
     "output_type": "display_data"
    },
    {
     "data": {
      "application/javascript": [
       "const el = document.querySelector(\"#c01\");\n",
       "        el.setAttribute(\"cx\", \"-80.0\");"
      ],
      "text/plain": [
       "<IPython.core.display.Javascript object>"
      ]
     },
     "metadata": {},
     "output_type": "display_data"
    },
    {
     "data": {
      "application/javascript": [
       "const el = document.querySelector(\"#c02\");\n",
       "        el.setAttribute(\"y\", \"47.022820183394145\");"
      ],
      "text/plain": [
       "<IPython.core.display.Javascript object>"
      ]
     },
     "metadata": {},
     "output_type": "display_data"
    },
    {
     "data": {
      "application/javascript": [
       "const el = document.querySelector(\"#c02\");\n",
       "        el.setAttribute(\"y\", \"64.72135954999318\");"
      ],
      "text/plain": [
       "<IPython.core.display.Javascript object>"
      ]
     },
     "metadata": {},
     "output_type": "display_data"
    },
    {
     "data": {
      "application/javascript": [
       "const el = document.querySelector(\"#c01\");\n",
       "        el.setAttribute(\"cx\", \"-76.08452130361358\");"
      ],
      "text/plain": [
       "<IPython.core.display.Javascript object>"
      ]
     },
     "metadata": {},
     "output_type": "display_data"
    },
    {
     "data": {
      "application/javascript": [
       "const el = document.querySelector(\"#c02\");\n",
       "        el.setAttribute(\"y\", \"76.08452130361096\");"
      ],
      "text/plain": [
       "<IPython.core.display.Javascript object>"
      ]
     },
     "metadata": {},
     "output_type": "display_data"
    },
    {
     "data": {
      "application/javascript": [
       "const el = document.querySelector(\"#c02\");\n",
       "        el.setAttribute(\"y\", \"80.0\");"
      ],
      "text/plain": [
       "<IPython.core.display.Javascript object>"
      ]
     },
     "metadata": {},
     "output_type": "display_data"
    },
    {
     "data": {
      "application/javascript": [
       "const el = document.querySelector(\"#c01\");\n",
       "        el.setAttribute(\"cx\", \"-64.72135954999835\");"
      ],
      "text/plain": [
       "<IPython.core.display.Javascript object>"
      ]
     },
     "metadata": {},
     "output_type": "display_data"
    },
    {
     "data": {
      "application/javascript": [
       "const el = document.querySelector(\"#c02\");\n",
       "        el.setAttribute(\"y\", \"76.08452130361334\");"
      ],
      "text/plain": [
       "<IPython.core.display.Javascript object>"
      ]
     },
     "metadata": {},
     "output_type": "display_data"
    },
    {
     "data": {
      "application/javascript": [
       "const el = document.querySelector(\"#c02\");\n",
       "        el.setAttribute(\"y\", \"64.72135954999773\");"
      ],
      "text/plain": [
       "<IPython.core.display.Javascript object>"
      ]
     },
     "metadata": {},
     "output_type": "display_data"
    },
    {
     "data": {
      "application/javascript": [
       "const el = document.querySelector(\"#c01\");\n",
       "        el.setAttribute(\"cx\", \"-47.02282018340149\");"
      ],
      "text/plain": [
       "<IPython.core.display.Javascript object>"
      ]
     },
     "metadata": {},
     "output_type": "display_data"
    },
    {
     "data": {
      "application/javascript": [
       "const el = document.querySelector(\"#c02\");\n",
       "        el.setAttribute(\"y\", \"47.02282018339994\");"
      ],
      "text/plain": [
       "<IPython.core.display.Javascript object>"
      ]
     },
     "metadata": {},
     "output_type": "display_data"
    },
    {
     "data": {
      "application/javascript": [
       "const el = document.querySelector(\"#c02\");\n",
       "        el.setAttribute(\"y\", \"24.721359549998127\");"
      ],
      "text/plain": [
       "<IPython.core.display.Javascript object>"
      ]
     },
     "metadata": {},
     "output_type": "display_data"
    },
    {
     "data": {
      "application/javascript": [
       "const el = document.querySelector(\"#c01\");\n",
       "        el.setAttribute(\"cx\", \"-24.721359549999935\");"
      ],
      "text/plain": [
       "<IPython.core.display.Javascript object>"
      ]
     },
     "metadata": {},
     "output_type": "display_data"
    },
    {
     "data": {
      "application/javascript": [
       "const el = document.querySelector(\"#c02\");\n",
       "        el.setAttribute(\"y\", \"1.7444417449460286e-12\");"
      ],
      "text/plain": [
       "<IPython.core.display.Javascript object>"
      ]
     },
     "metadata": {},
     "output_type": "display_data"
    },
    {
     "data": {
      "application/javascript": [
       "const el = document.querySelector(\"#c02\");\n",
       "        el.setAttribute(\"y\", \"-24.72135954999427\");"
      ],
      "text/plain": [
       "<IPython.core.display.Javascript object>"
      ]
     },
     "metadata": {},
     "output_type": "display_data"
    },
    {
     "data": {
      "application/javascript": [
       "const el = document.querySelector(\"#c01\");\n",
       "        el.setAttribute(\"cx\", \"-4.49843811844782e-12\");"
      ],
      "text/plain": [
       "<IPython.core.display.Javascript object>"
      ]
     },
     "metadata": {},
     "output_type": "display_data"
    },
    {
     "data": {
      "application/javascript": [
       "const el = document.querySelector(\"#c02\");\n",
       "        el.setAttribute(\"y\", \"-47.02282018339667\");"
      ],
      "text/plain": [
       "<IPython.core.display.Javascript object>"
      ]
     },
     "metadata": {},
     "output_type": "display_data"
    },
    {
     "data": {
      "application/javascript": [
       "const el = document.querySelector(\"#c02\");\n",
       "        el.setAttribute(\"y\", \"-64.72135954999536\");"
      ],
      "text/plain": [
       "<IPython.core.display.Javascript object>"
      ]
     },
     "metadata": {},
     "output_type": "display_data"
    },
    {
     "data": {
      "application/javascript": [
       "const el = document.querySelector(\"#c01\");\n",
       "        el.setAttribute(\"cx\", \"24.721359549991377\");"
      ],
      "text/plain": [
       "<IPython.core.display.Javascript object>"
      ]
     },
     "metadata": {},
     "output_type": "display_data"
    },
    {
     "data": {
      "application/javascript": [
       "const el = document.querySelector(\"#c02\");\n",
       "        el.setAttribute(\"y\", \"-76.08452130361209\");"
      ],
      "text/plain": [
       "<IPython.core.display.Javascript object>"
      ]
     },
     "metadata": {},
     "output_type": "display_data"
    },
    {
     "data": {
      "application/javascript": [
       "const el = document.querySelector(\"#c02\");\n",
       "        el.setAttribute(\"y\", \"-80.0\");"
      ],
      "text/plain": [
       "<IPython.core.display.Javascript object>"
      ]
     },
     "metadata": {},
     "output_type": "display_data"
    },
    {
     "data": {
      "application/javascript": [
       "const el = document.querySelector(\"#c01\");\n",
       "        el.setAttribute(\"cx\", \"47.022820183393975\");"
      ],
      "text/plain": [
       "<IPython.core.display.Javascript object>"
      ]
     },
     "metadata": {},
     "output_type": "display_data"
    },
    {
     "data": {
      "application/javascript": [
       "const el = document.querySelector(\"#c02\");\n",
       "        el.setAttribute(\"y\", \"-76.0845213036122\");"
      ],
      "text/plain": [
       "<IPython.core.display.Javascript object>"
      ]
     },
     "metadata": {},
     "output_type": "display_data"
    },
    {
     "data": {
      "application/javascript": [
       "const el = document.querySelector(\"#c02\");\n",
       "        el.setAttribute(\"y\", \"-64.72135954999557\");"
      ],
      "text/plain": [
       "<IPython.core.display.Javascript object>"
      ]
     },
     "metadata": {},
     "output_type": "display_data"
    },
    {
     "data": {
      "application/javascript": [
       "const el = document.querySelector(\"#c01\");\n",
       "        el.setAttribute(\"cx\", \"64.7213595499929\");"
      ],
      "text/plain": [
       "<IPython.core.display.Javascript object>"
      ]
     },
     "metadata": {},
     "output_type": "display_data"
    },
    {
     "data": {
      "application/javascript": [
       "const el = document.querySelector(\"#c02\");\n",
       "        el.setAttribute(\"y\", \"-47.02282018339697\");"
      ],
      "text/plain": [
       "<IPython.core.display.Javascript object>"
      ]
     },
     "metadata": {},
     "output_type": "display_data"
    },
    {
     "data": {
      "application/javascript": [
       "const el = document.querySelector(\"#c02\");\n",
       "        el.setAttribute(\"y\", \"-24.721359549994624\");"
      ],
      "text/plain": [
       "<IPython.core.display.Javascript object>"
      ]
     },
     "metadata": {},
     "output_type": "display_data"
    },
    {
     "data": {
      "application/javascript": [
       "const el = document.querySelector(\"#c01\");\n",
       "        el.setAttribute(\"cx\", \"76.08452130361081\");"
      ],
      "text/plain": [
       "<IPython.core.display.Javascript object>"
      ]
     },
     "metadata": {},
     "output_type": "display_data"
    },
    {
     "data": {
      "application/javascript": [
       "const el = document.querySelector(\"#c02\");\n",
       "        el.setAttribute(\"y\", \"1.3721491180052334e-12\");"
      ],
      "text/plain": [
       "<IPython.core.display.Javascript object>"
      ]
     },
     "metadata": {},
     "output_type": "display_data"
    },
    {
     "data": {
      "application/javascript": [
       "const el = document.querySelector(\"#c02\");\n",
       "        el.setAttribute(\"y\", \"24.72135954999777\");"
      ],
      "text/plain": [
       "<IPython.core.display.Javascript object>"
      ]
     },
     "metadata": {},
     "output_type": "display_data"
    },
    {
     "data": {
      "application/javascript": [
       "const el = document.querySelector(\"#c01\");\n",
       "        el.setAttribute(\"cx\", \"80.0\");"
      ],
      "text/plain": [
       "<IPython.core.display.Javascript object>"
      ]
     },
     "metadata": {},
     "output_type": "display_data"
    },
    {
     "data": {
      "application/javascript": [
       "const el = document.querySelector(\"#c02\");\n",
       "        el.setAttribute(\"y\", \"47.022820183399645\");"
      ],
      "text/plain": [
       "<IPython.core.display.Javascript object>"
      ]
     },
     "metadata": {},
     "output_type": "display_data"
    },
    {
     "data": {
      "application/javascript": [
       "const el = document.querySelector(\"#c02\");\n",
       "        el.setAttribute(\"y\", \"64.72135954999752\");"
      ],
      "text/plain": [
       "<IPython.core.display.Javascript object>"
      ]
     },
     "metadata": {},
     "output_type": "display_data"
    },
    {
     "data": {
      "application/javascript": [
       "const el = document.querySelector(\"#c02\");\n",
       "        el.setAttribute(\"y\", \"76.08452130361323\");"
      ],
      "text/plain": [
       "<IPython.core.display.Javascript object>"
      ]
     },
     "metadata": {},
     "output_type": "display_data"
    },
    {
     "data": {
      "application/javascript": [
       "const el = document.querySelector(\"#c02\");\n",
       "        el.setAttribute(\"y\", \"80.0\");"
      ],
      "text/plain": [
       "<IPython.core.display.Javascript object>"
      ]
     },
     "metadata": {},
     "output_type": "display_data"
    },
    {
     "data": {
      "application/javascript": [
       "const el = document.querySelector(\"#c02\");\n",
       "        el.setAttribute(\"y\", \"76.08452130361107\");"
      ],
      "text/plain": [
       "<IPython.core.display.Javascript object>"
      ]
     },
     "metadata": {},
     "output_type": "display_data"
    },
    {
     "data": {
      "application/javascript": [
       "const el = document.querySelector(\"#c02\");\n",
       "        el.setAttribute(\"y\", \"64.72135954999341\");"
      ],
      "text/plain": [
       "<IPython.core.display.Javascript object>"
      ]
     },
     "metadata": {},
     "output_type": "display_data"
    },
    {
     "data": {
      "application/javascript": [
       "const el = document.querySelector(\"#c02\");\n",
       "        el.setAttribute(\"y\", \"47.02282018339445\");"
      ],
      "text/plain": [
       "<IPython.core.display.Javascript object>"
      ]
     },
     "metadata": {},
     "output_type": "display_data"
    },
    {
     "data": {
      "application/javascript": [
       "const el = document.querySelector(\"#c02\");\n",
       "        el.setAttribute(\"y\", \"24.72135954999112\");"
      ],
      "text/plain": [
       "<IPython.core.display.Javascript object>"
      ]
     },
     "metadata": {},
     "output_type": "display_data"
    },
    {
     "data": {
      "application/javascript": [
       "const el = document.querySelector(\"#c02\");\n",
       "        el.setAttribute(\"y\", \"-5.0571741695645755e-12\");"
      ],
      "text/plain": [
       "<IPython.core.display.Javascript object>"
      ]
     },
     "metadata": {},
     "output_type": "display_data"
    },
    {
     "data": {
      "application/javascript": [
       "const el = document.querySelector(\"#c02\");\n",
       "        el.setAttribute(\"y\", \"-24.721359550000738\");"
      ],
      "text/plain": [
       "<IPython.core.display.Javascript object>"
      ]
     },
     "metadata": {},
     "output_type": "display_data"
    },
    {
     "data": {
      "application/javascript": [
       "const el = document.querySelector(\"#c02\");\n",
       "        el.setAttribute(\"y\", \"-47.02282018340217\");"
      ],
      "text/plain": [
       "<IPython.core.display.Javascript object>"
      ]
     },
     "metadata": {},
     "output_type": "display_data"
    },
    {
     "data": {
      "application/javascript": [
       "const el = document.querySelector(\"#c02\");\n",
       "        el.setAttribute(\"y\", \"-64.72135954999969\");"
      ],
      "text/plain": [
       "<IPython.core.display.Javascript object>"
      ]
     },
     "metadata": {},
     "output_type": "display_data"
    },
    {
     "data": {
      "application/javascript": [
       "const el = document.querySelector(\"#c02\");\n",
       "        el.setAttribute(\"y\", \"-76.08452130361438\");"
      ],
      "text/plain": [
       "<IPython.core.display.Javascript object>"
      ]
     },
     "metadata": {},
     "output_type": "display_data"
    },
    {
     "data": {
      "application/javascript": [
       "const el = document.querySelector(\"#c02\");\n",
       "        el.setAttribute(\"y\", \"-80.0\");"
      ],
      "text/plain": [
       "<IPython.core.display.Javascript object>"
      ]
     },
     "metadata": {},
     "output_type": "display_data"
    },
    {
     "data": {
      "application/javascript": [
       "const el = document.querySelector(\"#c02\");\n",
       "        el.setAttribute(\"y\", \"-76.0845213036101\");"
      ],
      "text/plain": [
       "<IPython.core.display.Javascript object>"
      ]
     },
     "metadata": {},
     "output_type": "display_data"
    },
    {
     "data": {
      "application/javascript": [
       "const el = document.querySelector(\"#c02\");\n",
       "        el.setAttribute(\"y\", \"-64.72135954999158\");"
      ],
      "text/plain": [
       "<IPython.core.display.Javascript object>"
      ]
     },
     "metadata": {},
     "output_type": "display_data"
    },
    {
     "data": {
      "application/javascript": [
       "const el = document.querySelector(\"#c02\");\n",
       "        el.setAttribute(\"y\", \"-47.022820183391005\");"
      ],
      "text/plain": [
       "<IPython.core.display.Javascript object>"
      ]
     },
     "metadata": {},
     "output_type": "display_data"
    },
    {
     "data": {
      "application/javascript": [
       "const el = document.querySelector(\"#c02\");\n",
       "        el.setAttribute(\"y\", \"-24.721359549987618\");"
      ],
      "text/plain": [
       "<IPython.core.display.Javascript object>"
      ]
     },
     "metadata": {},
     "output_type": "display_data"
    },
    {
     "data": {
      "application/javascript": [
       "const el = document.querySelector(\"#c02\");\n",
       "        el.setAttribute(\"y\", \"8.742199221123918e-12\");"
      ],
      "text/plain": [
       "<IPython.core.display.Javascript object>"
      ]
     },
     "metadata": {},
     "output_type": "display_data"
    },
    {
     "data": {
      "application/javascript": [
       "const el = document.querySelector(\"#c02\");\n",
       "        el.setAttribute(\"y\", \"24.721359550004244\");"
      ],
      "text/plain": [
       "<IPython.core.display.Javascript object>"
      ]
     },
     "metadata": {},
     "output_type": "display_data"
    },
    {
     "data": {
      "application/javascript": [
       "const el = document.querySelector(\"#c02\");\n",
       "        el.setAttribute(\"y\", \"47.02282018340515\");"
      ],
      "text/plain": [
       "<IPython.core.display.Javascript object>"
      ]
     },
     "metadata": {},
     "output_type": "display_data"
    },
    {
     "data": {
      "application/javascript": [
       "const el = document.querySelector(\"#c02\");\n",
       "        el.setAttribute(\"y\", \"64.72135955000185\");"
      ],
      "text/plain": [
       "<IPython.core.display.Javascript object>"
      ]
     },
     "metadata": {},
     "output_type": "display_data"
    },
    {
     "data": {
      "application/javascript": [
       "const el = document.querySelector(\"#c02\");\n",
       "        el.setAttribute(\"y\", \"76.08452130361552\");"
      ],
      "text/plain": [
       "<IPython.core.display.Javascript object>"
      ]
     },
     "metadata": {},
     "output_type": "display_data"
    },
    {
     "data": {
      "application/javascript": [
       "const el = document.querySelector(\"#c02\");\n",
       "        el.setAttribute(\"y\", \"80.0\");"
      ],
      "text/plain": [
       "<IPython.core.display.Javascript object>"
      ]
     },
     "metadata": {},
     "output_type": "display_data"
    },
    {
     "data": {
      "application/javascript": [
       "const el = document.querySelector(\"#c02\");\n",
       "        el.setAttribute(\"y\", \"76.08452130360897\");"
      ],
      "text/plain": [
       "<IPython.core.display.Javascript object>"
      ]
     },
     "metadata": {},
     "output_type": "display_data"
    },
    {
     "data": {
      "application/javascript": [
       "const el = document.querySelector(\"#c02\");\n",
       "        el.setAttribute(\"y\", \"64.72135954998942\");"
      ],
      "text/plain": [
       "<IPython.core.display.Javascript object>"
      ]
     },
     "metadata": {},
     "output_type": "display_data"
    },
    {
     "data": {
      "application/javascript": [
       "const el = document.querySelector(\"#c02\");\n",
       "        el.setAttribute(\"y\", \"47.022820183388944\");"
      ],
      "text/plain": [
       "<IPython.core.display.Javascript object>"
      ]
     },
     "metadata": {},
     "output_type": "display_data"
    },
    {
     "data": {
      "application/javascript": [
       "const el = document.querySelector(\"#c02\");\n",
       "        el.setAttribute(\"y\", \"24.721359549984108\");"
      ],
      "text/plain": [
       "<IPython.core.display.Javascript object>"
      ]
     },
     "metadata": {},
     "output_type": "display_data"
    },
    {
     "data": {
      "application/javascript": [
       "const el = document.querySelector(\"#c02\");\n",
       "        el.setAttribute(\"y\", \"-1.2427224272683258e-11\");"
      ],
      "text/plain": [
       "<IPython.core.display.Javascript object>"
      ]
     },
     "metadata": {},
     "output_type": "display_data"
    },
    {
     "data": {
      "application/javascript": [
       "const el = document.querySelector(\"#c02\");\n",
       "        el.setAttribute(\"y\", \"-24.721359550007747\");"
      ],
      "text/plain": [
       "<IPython.core.display.Javascript object>"
      ]
     },
     "metadata": {},
     "output_type": "display_data"
    },
    {
     "data": {
      "application/javascript": [
       "const el = document.querySelector(\"#c02\");\n",
       "        el.setAttribute(\"y\", \"-47.022820183408136\");"
      ],
      "text/plain": [
       "<IPython.core.display.Javascript object>"
      ]
     },
     "metadata": {},
     "output_type": "display_data"
    },
    {
     "data": {
      "application/javascript": [
       "const el = document.querySelector(\"#c02\");\n",
       "        el.setAttribute(\"y\", \"-64.72135955000334\");"
      ],
      "text/plain": [
       "<IPython.core.display.Javascript object>"
      ]
     },
     "metadata": {},
     "output_type": "display_data"
    },
    {
     "data": {
      "application/javascript": [
       "const el = document.querySelector(\"#c02\");\n",
       "        el.setAttribute(\"y\", \"-76.08452130361665\");"
      ],
      "text/plain": [
       "<IPython.core.display.Javascript object>"
      ]
     },
     "metadata": {},
     "output_type": "display_data"
    },
    {
     "data": {
      "application/javascript": [
       "const el = document.querySelector(\"#c02\");\n",
       "        el.setAttribute(\"y\", \"-80.0\");"
      ],
      "text/plain": [
       "<IPython.core.display.Javascript object>"
      ]
     },
     "metadata": {},
     "output_type": "display_data"
    },
    {
     "data": {
      "application/javascript": [
       "const el = document.querySelector(\"#c02\");\n",
       "        el.setAttribute(\"y\", \"-76.08452130360783\");"
      ],
      "text/plain": [
       "<IPython.core.display.Javascript object>"
      ]
     },
     "metadata": {},
     "output_type": "display_data"
    },
    {
     "data": {
      "application/javascript": [
       "const el = document.querySelector(\"#c02\");\n",
       "        el.setAttribute(\"y\", \"-64.72135954998724\");"
      ],
      "text/plain": [
       "<IPython.core.display.Javascript object>"
      ]
     },
     "metadata": {},
     "output_type": "display_data"
    },
    {
     "data": {
      "application/javascript": [
       "const el = document.querySelector(\"#c02\");\n",
       "        el.setAttribute(\"y\", \"-47.02282018338597\");"
      ],
      "text/plain": [
       "<IPython.core.display.Javascript object>"
      ]
     },
     "metadata": {},
     "output_type": "display_data"
    },
    {
     "data": {
      "application/javascript": [
       "const el = document.querySelector(\"#c02\");\n",
       "        el.setAttribute(\"y\", \"-24.721359549980605\");"
      ],
      "text/plain": [
       "<IPython.core.display.Javascript object>"
      ]
     },
     "metadata": {},
     "output_type": "display_data"
    },
    {
     "data": {
      "application/javascript": [
       "const el = document.querySelector(\"#c02\");\n",
       "        el.setAttribute(\"y\", \"1.61122493242426e-11\");"
      ],
      "text/plain": [
       "<IPython.core.display.Javascript object>"
      ]
     },
     "metadata": {},
     "output_type": "display_data"
    },
    {
     "data": {
      "application/javascript": [
       "const el = document.querySelector(\"#c02\");\n",
       "        el.setAttribute(\"y\", \"24.72135955001125\");"
      ],
      "text/plain": [
       "<IPython.core.display.Javascript object>"
      ]
     },
     "metadata": {},
     "output_type": "display_data"
    },
    {
     "data": {
      "application/javascript": [
       "const el = document.querySelector(\"#c02\");\n",
       "        el.setAttribute(\"y\", \"47.02282018341111\");"
      ],
      "text/plain": [
       "<IPython.core.display.Javascript object>"
      ]
     },
     "metadata": {},
     "output_type": "display_data"
    },
    {
     "data": {
      "application/javascript": [
       "const el = document.querySelector(\"#c02\");\n",
       "        el.setAttribute(\"y\", \"64.72135955000552\");"
      ],
      "text/plain": [
       "<IPython.core.display.Javascript object>"
      ]
     },
     "metadata": {},
     "output_type": "display_data"
    },
    {
     "data": {
      "application/javascript": [
       "const el = document.querySelector(\"#c02\");\n",
       "        el.setAttribute(\"y\", \"76.08452130361779\");"
      ],
      "text/plain": [
       "<IPython.core.display.Javascript object>"
      ]
     },
     "metadata": {},
     "output_type": "display_data"
    },
    {
     "data": {
      "application/javascript": [
       "const el = document.querySelector(\"#c02\");\n",
       "        el.setAttribute(\"y\", \"80.0\");"
      ],
      "text/plain": [
       "<IPython.core.display.Javascript object>"
      ]
     },
     "metadata": {},
     "output_type": "display_data"
    },
    {
     "data": {
      "application/javascript": [
       "const el = document.querySelector(\"#c02\");\n",
       "        el.setAttribute(\"y\", \"76.08452130360669\");"
      ],
      "text/plain": [
       "<IPython.core.display.Javascript object>"
      ]
     },
     "metadata": {},
     "output_type": "display_data"
    },
    {
     "data": {
      "application/javascript": [
       "const el = document.querySelector(\"#c02\");\n",
       "        el.setAttribute(\"y\", \"64.72135954998508\");"
      ],
      "text/plain": [
       "<IPython.core.display.Javascript object>"
      ]
     },
     "metadata": {},
     "output_type": "display_data"
    },
    {
     "data": {
      "application/javascript": [
       "const el = document.querySelector(\"#c02\");\n",
       "        el.setAttribute(\"y\", \"47.02282018338298\");"
      ],
      "text/plain": [
       "<IPython.core.display.Javascript object>"
      ]
     },
     "metadata": {},
     "output_type": "display_data"
    },
    {
     "data": {
      "application/javascript": [
       "const el = document.querySelector(\"#c02\");\n",
       "        el.setAttribute(\"y\", \"24.721359549978178\");"
      ],
      "text/plain": [
       "<IPython.core.display.Javascript object>"
      ]
     },
     "metadata": {},
     "output_type": "display_data"
    },
    {
     "data": {
      "application/javascript": [
       "const el = document.querySelector(\"#c02\");\n",
       "        el.setAttribute(\"y\", \"-1.9797274375801945e-11\");"
      ],
      "text/plain": [
       "<IPython.core.display.Javascript object>"
      ]
     },
     "metadata": {},
     "output_type": "display_data"
    },
    {
     "data": {
      "application/javascript": [
       "const el = document.querySelector(\"#c02\");\n",
       "        el.setAttribute(\"y\", \"-24.721359550014753\");"
      ],
      "text/plain": [
       "<IPython.core.display.Javascript object>"
      ]
     },
     "metadata": {},
     "output_type": "display_data"
    },
    {
     "data": {
      "application/javascript": [
       "const el = document.querySelector(\"#c02\");\n",
       "        el.setAttribute(\"y\", \"-47.0228201834141\");"
      ],
      "text/plain": [
       "<IPython.core.display.Javascript object>"
      ]
     },
     "metadata": {},
     "output_type": "display_data"
    },
    {
     "data": {
      "application/javascript": [
       "const el = document.querySelector(\"#c02\");\n",
       "        el.setAttribute(\"y\", \"-64.72135955000768\");"
      ],
      "text/plain": [
       "<IPython.core.display.Javascript object>"
      ]
     },
     "metadata": {},
     "output_type": "display_data"
    },
    {
     "data": {
      "application/javascript": [
       "const el = document.querySelector(\"#c02\");\n",
       "        el.setAttribute(\"y\", \"-76.08452130361857\");"
      ],
      "text/plain": [
       "<IPython.core.display.Javascript object>"
      ]
     },
     "metadata": {},
     "output_type": "display_data"
    },
    {
     "data": {
      "application/javascript": [
       "const el = document.querySelector(\"#c02\");\n",
       "        el.setAttribute(\"y\", \"-80.0\");"
      ],
      "text/plain": [
       "<IPython.core.display.Javascript object>"
      ]
     },
     "metadata": {},
     "output_type": "display_data"
    },
    {
     "data": {
      "application/javascript": [
       "const el = document.querySelector(\"#c02\");\n",
       "        el.setAttribute(\"y\", \"-76.08452130360556\");"
      ],
      "text/plain": [
       "<IPython.core.display.Javascript object>"
      ]
     },
     "metadata": {},
     "output_type": "display_data"
    },
    {
     "data": {
      "application/javascript": [
       "const el = document.querySelector(\"#c02\");\n",
       "        el.setAttribute(\"y\", \"-64.7213595499829\");"
      ],
      "text/plain": [
       "<IPython.core.display.Javascript object>"
      ]
     },
     "metadata": {},
     "output_type": "display_data"
    },
    {
     "data": {
      "application/javascript": [
       "const el = document.querySelector(\"#c02\");\n",
       "        el.setAttribute(\"y\", \"-47.02282018338\");"
      ],
      "text/plain": [
       "<IPython.core.display.Javascript object>"
      ]
     },
     "metadata": {},
     "output_type": "display_data"
    },
    {
     "data": {
      "application/javascript": [
       "const el = document.querySelector(\"#c02\");\n",
       "        el.setAttribute(\"y\", \"-24.721359549974675\");"
      ],
      "text/plain": [
       "<IPython.core.display.Javascript object>"
      ]
     },
     "metadata": {},
     "output_type": "display_data"
    },
    {
     "data": {
      "application/javascript": [
       "const el = document.querySelector(\"#c02\");\n",
       "        el.setAttribute(\"y\", \"2.3482299427361288e-11\");"
      ],
      "text/plain": [
       "<IPython.core.display.Javascript object>"
      ]
     },
     "metadata": {},
     "output_type": "display_data"
    },
    {
     "data": {
      "application/javascript": [
       "const el = document.querySelector(\"#c02\");\n",
       "        el.setAttribute(\"y\", \"24.721359550018263\");"
      ],
      "text/plain": [
       "<IPython.core.display.Javascript object>"
      ]
     },
     "metadata": {},
     "output_type": "display_data"
    },
    {
     "data": {
      "application/javascript": [
       "const el = document.querySelector(\"#c02\");\n",
       "        el.setAttribute(\"y\", \"47.02282018341708\");"
      ],
      "text/plain": [
       "<IPython.core.display.Javascript object>"
      ]
     },
     "metadata": {},
     "output_type": "display_data"
    },
    {
     "data": {
      "application/javascript": [
       "const el = document.querySelector(\"#c02\");\n",
       "        el.setAttribute(\"y\", \"64.72135955000985\");"
      ],
      "text/plain": [
       "<IPython.core.display.Javascript object>"
      ]
     },
     "metadata": {},
     "output_type": "display_data"
    },
    {
     "data": {
      "application/javascript": [
       "const el = document.querySelector(\"#c02\");\n",
       "        el.setAttribute(\"y\", \"76.08452130361971\");"
      ],
      "text/plain": [
       "<IPython.core.display.Javascript object>"
      ]
     },
     "metadata": {},
     "output_type": "display_data"
    },
    {
     "data": {
      "application/javascript": [
       "const el = document.querySelector(\"#c02\");\n",
       "        el.setAttribute(\"y\", \"80.0\");"
      ],
      "text/plain": [
       "<IPython.core.display.Javascript object>"
      ]
     },
     "metadata": {},
     "output_type": "display_data"
    },
    {
     "data": {
      "application/javascript": [
       "const el = document.querySelector(\"#c02\");\n",
       "        el.setAttribute(\"y\", \"76.08452130360442\");"
      ],
      "text/plain": [
       "<IPython.core.display.Javascript object>"
      ]
     },
     "metadata": {},
     "output_type": "display_data"
    },
    {
     "data": {
      "application/javascript": [
       "const el = document.querySelector(\"#c02\");\n",
       "        el.setAttribute(\"y\", \"64.72135954998075\");"
      ],
      "text/plain": [
       "<IPython.core.display.Javascript object>"
      ]
     },
     "metadata": {},
     "output_type": "display_data"
    },
    {
     "data": {
      "application/javascript": [
       "const el = document.querySelector(\"#c02\");\n",
       "        el.setAttribute(\"y\", \"47.02282018337702\");"
      ],
      "text/plain": [
       "<IPython.core.display.Javascript object>"
      ]
     },
     "metadata": {},
     "output_type": "display_data"
    },
    {
     "data": {
      "application/javascript": [
       "const el = document.querySelector(\"#c02\");\n",
       "        el.setAttribute(\"y\", \"24.721359549971172\");"
      ],
      "text/plain": [
       "<IPython.core.display.Javascript object>"
      ]
     },
     "metadata": {},
     "output_type": "display_data"
    },
    {
     "data": {
      "application/javascript": [
       "const el = document.querySelector(\"#c02\");\n",
       "        el.setAttribute(\"y\", \"-2.6030456101704468e-11\");"
      ],
      "text/plain": [
       "<IPython.core.display.Javascript object>"
      ]
     },
     "metadata": {},
     "output_type": "display_data"
    },
    {
     "data": {
      "application/javascript": [
       "const el = document.querySelector(\"#c02\");\n",
       "        el.setAttribute(\"y\", \"-24.721359550021766\");"
      ],
      "text/plain": [
       "<IPython.core.display.Javascript object>"
      ]
     },
     "metadata": {},
     "output_type": "display_data"
    },
    {
     "data": {
      "application/javascript": [
       "const el = document.querySelector(\"#c02\");\n",
       "        el.setAttribute(\"y\", \"-47.02282018342005\");"
      ],
      "text/plain": [
       "<IPython.core.display.Javascript object>"
      ]
     },
     "metadata": {},
     "output_type": "display_data"
    },
    {
     "data": {
      "application/javascript": [
       "const el = document.querySelector(\"#c02\");\n",
       "        el.setAttribute(\"y\", \"-64.72135955001201\");"
      ],
      "text/plain": [
       "<IPython.core.display.Javascript object>"
      ]
     },
     "metadata": {},
     "output_type": "display_data"
    },
    {
     "data": {
      "application/javascript": [
       "const el = document.querySelector(\"#c02\");\n",
       "        el.setAttribute(\"y\", \"-76.08452130362085\");"
      ],
      "text/plain": [
       "<IPython.core.display.Javascript object>"
      ]
     },
     "metadata": {},
     "output_type": "display_data"
    },
    {
     "data": {
      "application/javascript": [
       "const el = document.querySelector(\"#c02\");\n",
       "        el.setAttribute(\"y\", \"-80.0\");"
      ],
      "text/plain": [
       "<IPython.core.display.Javascript object>"
      ]
     },
     "metadata": {},
     "output_type": "display_data"
    },
    {
     "data": {
      "application/javascript": [
       "const el = document.querySelector(\"#c02\");\n",
       "        el.setAttribute(\"y\", \"-76.08452130360328\");"
      ],
      "text/plain": [
       "<IPython.core.display.Javascript object>"
      ]
     },
     "metadata": {},
     "output_type": "display_data"
    },
    {
     "data": {
      "application/javascript": [
       "const el = document.querySelector(\"#c02\");\n",
       "        el.setAttribute(\"y\", \"-64.72135954997857\");"
      ],
      "text/plain": [
       "<IPython.core.display.Javascript object>"
      ]
     },
     "metadata": {},
     "output_type": "display_data"
    },
    {
     "data": {
      "application/javascript": [
       "const el = document.querySelector(\"#c02\");\n",
       "        el.setAttribute(\"y\", \"-47.02282018337404\");"
      ],
      "text/plain": [
       "<IPython.core.display.Javascript object>"
      ]
     },
     "metadata": {},
     "output_type": "display_data"
    },
    {
     "data": {
      "application/javascript": [
       "const el = document.querySelector(\"#c02\");\n",
       "        el.setAttribute(\"y\", \"-24.721359549967666\");"
      ],
      "text/plain": [
       "<IPython.core.display.Javascript object>"
      ]
     },
     "metadata": {},
     "output_type": "display_data"
    },
    {
     "data": {
      "application/javascript": [
       "const el = document.querySelector(\"#c02\");\n",
       "        el.setAttribute(\"y\", \"2.971548115326381e-11\");"
      ],
      "text/plain": [
       "<IPython.core.display.Javascript object>"
      ]
     },
     "metadata": {},
     "output_type": "display_data"
    },
    {
     "data": {
      "application/javascript": [
       "const el = document.querySelector(\"#c02\");\n",
       "        el.setAttribute(\"y\", \"24.72135955002527\");"
      ],
      "text/plain": [
       "<IPython.core.display.Javascript object>"
      ]
     },
     "metadata": {},
     "output_type": "display_data"
    },
    {
     "data": {
      "application/javascript": [
       "const el = document.querySelector(\"#c02\");\n",
       "        el.setAttribute(\"y\", \"47.022820183423036\");"
      ],
      "text/plain": [
       "<IPython.core.display.Javascript object>"
      ]
     },
     "metadata": {},
     "output_type": "display_data"
    },
    {
     "data": {
      "application/javascript": [
       "const el = document.querySelector(\"#c02\");\n",
       "        el.setAttribute(\"y\", \"64.72135955001418\");"
      ],
      "text/plain": [
       "<IPython.core.display.Javascript object>"
      ]
     },
     "metadata": {},
     "output_type": "display_data"
    },
    {
     "data": {
      "application/javascript": [
       "const el = document.querySelector(\"#c02\");\n",
       "        el.setAttribute(\"y\", \"76.08452130362198\");"
      ],
      "text/plain": [
       "<IPython.core.display.Javascript object>"
      ]
     },
     "metadata": {},
     "output_type": "display_data"
    },
    {
     "data": {
      "application/javascript": [
       "const el = document.querySelector(\"#c02\");\n",
       "        el.setAttribute(\"y\", \"80.0\");"
      ],
      "text/plain": [
       "<IPython.core.display.Javascript object>"
      ]
     },
     "metadata": {},
     "output_type": "display_data"
    },
    {
     "data": {
      "application/javascript": [
       "const el = document.querySelector(\"#c02\");\n",
       "        el.setAttribute(\"y\", \"76.08452130360249\");"
      ],
      "text/plain": [
       "<IPython.core.display.Javascript object>"
      ]
     },
     "metadata": {},
     "output_type": "display_data"
    },
    {
     "data": {
      "application/javascript": [
       "const el = document.querySelector(\"#c02\");\n",
       "        el.setAttribute(\"y\", \"64.72135954997641\");"
      ],
      "text/plain": [
       "<IPython.core.display.Javascript object>"
      ]
     },
     "metadata": {},
     "output_type": "display_data"
    },
    {
     "data": {
      "application/javascript": [
       "const el = document.querySelector(\"#c02\");\n",
       "        el.setAttribute(\"y\", \"47.02282018337105\");"
      ],
      "text/plain": [
       "<IPython.core.display.Javascript object>"
      ]
     },
     "metadata": {},
     "output_type": "display_data"
    },
    {
     "data": {
      "application/javascript": [
       "const el = document.querySelector(\"#c02\");\n",
       "        el.setAttribute(\"y\", \"24.721359549964163\");"
      ],
      "text/plain": [
       "<IPython.core.display.Javascript object>"
      ]
     },
     "metadata": {},
     "output_type": "display_data"
    },
    {
     "data": {
      "application/javascript": [
       "const el = document.querySelector(\"#c02\");\n",
       "        el.setAttribute(\"y\", \"-3.340050620482315e-11\");"
      ],
      "text/plain": [
       "<IPython.core.display.Javascript object>"
      ]
     },
     "metadata": {},
     "output_type": "display_data"
    },
    {
     "data": {
      "application/javascript": [
       "const el = document.querySelector(\"#c02\");\n",
       "        el.setAttribute(\"y\", \"-24.721359550027696\");"
      ],
      "text/plain": [
       "<IPython.core.display.Javascript object>"
      ]
     },
     "metadata": {},
     "output_type": "display_data"
    },
    {
     "data": {
      "application/javascript": [
       "const el = document.querySelector(\"#c02\");\n",
       "        el.setAttribute(\"y\", \"-47.02282018342602\");"
      ],
      "text/plain": [
       "<IPython.core.display.Javascript object>"
      ]
     },
     "metadata": {},
     "output_type": "display_data"
    },
    {
     "data": {
      "application/javascript": [
       "const el = document.querySelector(\"#c02\");\n",
       "        el.setAttribute(\"y\", \"-64.72135955001634\");"
      ],
      "text/plain": [
       "<IPython.core.display.Javascript object>"
      ]
     },
     "metadata": {},
     "output_type": "display_data"
    },
    {
     "data": {
      "application/javascript": [
       "const el = document.querySelector(\"#c02\");\n",
       "        el.setAttribute(\"y\", \"-76.08452130362313\");"
      ],
      "text/plain": [
       "<IPython.core.display.Javascript object>"
      ]
     },
     "metadata": {},
     "output_type": "display_data"
    },
    {
     "data": {
      "application/javascript": [
       "const el = document.querySelector(\"#c02\");\n",
       "        el.setAttribute(\"y\", \"-80.0\");"
      ],
      "text/plain": [
       "<IPython.core.display.Javascript object>"
      ]
     },
     "metadata": {},
     "output_type": "display_data"
    },
    {
     "data": {
      "application/javascript": [
       "const el = document.querySelector(\"#c02\");\n",
       "        el.setAttribute(\"y\", \"-76.08452130360135\");"
      ],
      "text/plain": [
       "<IPython.core.display.Javascript object>"
      ]
     },
     "metadata": {},
     "output_type": "display_data"
    },
    {
     "data": {
      "application/javascript": [
       "const el = document.querySelector(\"#c02\");\n",
       "        el.setAttribute(\"y\", \"-64.72135954997425\");"
      ],
      "text/plain": [
       "<IPython.core.display.Javascript object>"
      ]
     },
     "metadata": {},
     "output_type": "display_data"
    },
    {
     "data": {
      "application/javascript": [
       "const el = document.querySelector(\"#c02\");\n",
       "        el.setAttribute(\"y\", \"-47.02282018336808\");"
      ],
      "text/plain": [
       "<IPython.core.display.Javascript object>"
      ]
     },
     "metadata": {},
     "output_type": "display_data"
    },
    {
     "data": {
      "application/javascript": [
       "const el = document.querySelector(\"#c02\");\n",
       "        el.setAttribute(\"y\", \"-24.72135954996066\");"
      ],
      "text/plain": [
       "<IPython.core.display.Javascript object>"
      ]
     },
     "metadata": {},
     "output_type": "display_data"
    },
    {
     "data": {
      "application/javascript": [
       "const el = document.querySelector(\"#c02\");\n",
       "        el.setAttribute(\"y\", \"3.7085531256382495e-11\");"
      ],
      "text/plain": [
       "<IPython.core.display.Javascript object>"
      ]
     },
     "metadata": {},
     "output_type": "display_data"
    },
    {
     "data": {
      "application/javascript": [
       "const el = document.querySelector(\"#c02\");\n",
       "        el.setAttribute(\"y\", \"24.7213595500312\");"
      ],
      "text/plain": [
       "<IPython.core.display.Javascript object>"
      ]
     },
     "metadata": {},
     "output_type": "display_data"
    },
    {
     "data": {
      "application/javascript": [
       "const el = document.querySelector(\"#c02\");\n",
       "        el.setAttribute(\"y\", \"47.02282018342808\");"
      ],
      "text/plain": [
       "<IPython.core.display.Javascript object>"
      ]
     },
     "metadata": {},
     "output_type": "display_data"
    },
    {
     "data": {
      "application/javascript": [
       "const el = document.querySelector(\"#c02\");\n",
       "        el.setAttribute(\"y\", \"64.7213595500185\");"
      ],
      "text/plain": [
       "<IPython.core.display.Javascript object>"
      ]
     },
     "metadata": {},
     "output_type": "display_data"
    },
    {
     "data": {
      "application/javascript": [
       "const el = document.querySelector(\"#c02\");\n",
       "        el.setAttribute(\"y\", \"76.08452130362427\");"
      ],
      "text/plain": [
       "<IPython.core.display.Javascript object>"
      ]
     },
     "metadata": {},
     "output_type": "display_data"
    }
   ],
   "source": [
    "task3 = loop.create_task(muda_cor(0, \"green\"));"
   ]
  },
  {
   "cell_type": "code",
   "execution_count": null,
   "id": "0466e277",
   "metadata": {},
   "outputs": [],
   "source": []
  }
 ],
 "metadata": {
  "kernelspec": {
   "display_name": "Python 3 (ipykernel)",
   "language": "python",
   "name": "python3"
  },
  "language_info": {
   "codemirror_mode": {
    "name": "ipython",
    "version": 3
   },
   "file_extension": ".py",
   "mimetype": "text/x-python",
   "name": "python",
   "nbconvert_exporter": "python",
   "pygments_lexer": "ipython3",
   "version": "3.8.10"
  }
 },
 "nbformat": 4,
 "nbformat_minor": 5
}
